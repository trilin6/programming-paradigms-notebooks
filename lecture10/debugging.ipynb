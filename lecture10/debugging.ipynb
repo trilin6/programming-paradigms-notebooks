{
 "cells": [
  {
   "cell_type": "markdown",
   "metadata": {
    "slideshow": {
     "slide_type": "slide"
    }
   },
   "source": [
    "# Systems Programming\n",
    "\n",
    "## Lecture 10: Debugging and Recursion\n",
    "\n",
    "### Amir Atapour-Abarghouei\n",
    "\n",
    "amir.atapour-abarghouei@durham.ac.uk\n"
   ]
  },
  {
   "cell_type": "markdown",
   "metadata": {
    "slideshow": {
     "slide_type": "slide"
    }
   },
   "source": [
    "# Recap\n",
    "\n",
    "In the previous lecture, we learned about **storage classes**\n",
    "\n",
    "### Each variable in C has one of the following four storage types:\n",
    "\n",
    "- `extern`\n",
    "- `static`\n",
    "- `auto`\n",
    "- `register`\n"
   ]
  },
  {
   "cell_type": "markdown",
   "metadata": {
    "slideshow": {
     "slide_type": "slide"
    }
   },
   "source": [
    "# Recap\n",
    "\n",
    "**The Stack** is an area of memory used for temporary storage, often used for:\n",
    "\n",
    "- Return addresses\n",
    "- Local variables\n",
    "- Parameters\n",
    "- Return values\n",
    "\n",
    "<center><img src=\"images/stack-code.png\" alt=\"stack\" width=\"750\"></center>"
   ]
  },
  {
   "cell_type": "markdown",
   "metadata": {
    "slideshow": {
     "slide_type": "slide"
    }
   },
   "source": [
    "## Today\n",
    "\n",
    "# Debugging"
   ]
  },
  {
   "cell_type": "markdown",
   "metadata": {
    "slideshow": {
     "slide_type": "slide"
    }
   },
   "source": [
    "# Debugging C Code\n",
    "\n",
    "- We will use the powerful command-line debugger **`gdb`** (The GNU Debugger).\n",
    "    - Many graphical debuggers use `gdb` as a backend.\n",
    "\n",
    "- Can be used to debug various languages e.g. C, C++, Fortran, Go, Rust\n",
    "\n",
    "- Online manual: http://sourceware.org/gdb/current/onlinedocs/gdb/\n",
    "\n",
    "- It has its own interactive shell: it can recall history with the arrow keys, auto-complete words with the TAB key, etc."
   ]
  },
  {
   "cell_type": "markdown",
   "metadata": {
    "slideshow": {
     "slide_type": "slide"
    }
   },
   "source": [
    "# Debugging C Code\n",
    "\n",
    "To add debugging data to a compiled program, we use the `-g` option, e.g.\n",
    "\n",
    "```\n",
    "gcc -Wall -Wextra -o main main.c\n",
    "```\n",
    "\n",
    "changes to \n",
    "\n",
    "```\n",
    "gcc -g -Wall -Wextra -o main main.c\n",
    "```\n",
    "\n",
    "We can still run the resulting program as before, e.g.\n",
    "\n",
    "```\n",
    "./main\n",
    "```"
   ]
  },
  {
   "cell_type": "markdown",
   "metadata": {
    "slideshow": {
     "slide_type": "slide"
    }
   },
   "source": [
    "# Debugging C Code\n",
    "\n",
    "To start the debugger we run\n",
    "\n",
    "```\n",
    "gdb ./main\n",
    "```\n",
    "\n",
    "or we can specify the program after starting gdb:\n",
    "\n",
    "```\n",
    "gdb\n",
    "\n",
    "...\n",
    "\n",
    "(gdb) file main\n",
    "```\n",
    "\n",
    "use the quit command to exit\n",
    "\n",
    "```\n",
    "(gdb) quit\n",
    "```"
   ]
  },
  {
   "cell_type": "markdown",
   "metadata": {
    "slideshow": {
     "slide_type": "slide"
    }
   },
   "source": [
    "```\n",
    "gdb ./main\n",
    "GNU gdb (Debian 10.1-1.7) 10.1.90.20210103-git\n",
    "Copyright (C) 2021 Free Software Foundation, Inc.\n",
    "License GPLv3+: GNU GPL version 3 or later <http://gnu.org/licenses/gpl.html>\n",
    "This is free software: you are free to change and redistribute it.\n",
    "There is NO WARRANTY, to the extent permitted by law.\n",
    "Type \"show copying\" and \"show warranty\" for details.\n",
    "This GDB was configured as \"x86_64-linux-gnu\".\n",
    "```"
   ]
  },
  {
   "cell_type": "markdown",
   "metadata": {
    "slideshow": {
     "slide_type": "slide"
    }
   },
   "source": [
    "```\n",
    "Type \"show configuration\" for configuration details.\n",
    "For bug reporting instructions, please see:\n",
    "<https://www.gnu.org/software/gdb/bugs/>.\n",
    "Find the GDB manual and other documentation resources online at:\n",
    "<http://www.gnu.org/software/gdb/documentation/>.\n",
    "For help, type \"help\".\n",
    "Type \"apropos word\" to search for commands related to \"word\"...\n",
    "Reading symbols from ./main...done.\n",
    "(gdb)\n",
    "```"
   ]
  },
  {
   "cell_type": "markdown",
   "metadata": {
    "slideshow": {
     "slide_type": "slide"
    }
   },
   "source": [
    "```c\n",
    "#include<stdio.h>\n",
    "\n",
    "void print_even_total(int *b, int max_index);\n",
    "int main(){\n",
    "        int a[5]={1,2,3,4,5};\n",
    "        print_even_total(a,5);\n",
    "        return 0;\n",
    "}\n",
    "```"
   ]
  },
  {
   "cell_type": "markdown",
   "metadata": {
    "slideshow": {
     "slide_type": "slide"
    }
   },
   "source": [
    "```c\n",
    "/* Sum up every other number in the array pointed *\n",
    " * to by b, up to, but not including b[max_index] */\n",
    "\n",
    "void print_even_total(int *b, int max_index) {\n",
    "        int c;\n",
    "        for(int i=0;i!=max_index;i++) {\n",
    "                c+=b[i];\n",
    "                i++;\n",
    "        }\n",
    "        printf(\"%d\\n\",c);\n",
    "}\n",
    "```"
   ]
  },
  {
   "cell_type": "code",
   "execution_count": null,
   "metadata": {
    "slideshow": {
     "slide_type": "slide"
    }
   },
   "outputs": [],
   "source": [
    "#include<stdio.h>\n",
    "void print_even_total(int *b, int max_index);\n",
    "int main(){\n",
    "    int a[5]={1,2,3,4,5};\n",
    "    print_even_total(a,5);\n",
    "    return 0;\n",
    "}\n",
    "\n",
    "/* Sum up every other number in the array pointed *\n",
    " * to by b, up to, but not including b[max_index] */\n",
    "void print_even_total(int *b, int max_index) {\n",
    "    int c;\n",
    "    for(int i=0;i!=max_index;i++) {\n",
    "        c+=b[i];\n",
    "        i++;\n",
    "    }\n",
    "    printf(\"%d\\n\",c);\n",
    "}"
   ]
  },
  {
   "cell_type": "markdown",
   "metadata": {
    "slideshow": {
     "slide_type": "slide"
    }
   },
   "source": [
    "# Running the Program\n",
    "\n",
    "- To run your program use the `run` command (or the shorthand `r`)\n",
    "\n",
    "```\n",
    "(gdb) run\n",
    "```\n",
    "\n",
    "- The program should run in the same way as if you were running it outside gdb.\n",
    "    - If runs fine normally (e.g. without getting a segmentation fault), then it should run fine here too (if slower)."
   ]
  },
  {
   "cell_type": "markdown",
   "metadata": {
    "slideshow": {
     "slide_type": "slide"
    }
   },
   "source": [
    "# Running the Program\n",
    "\n",
    "If the program does have issues, you’ll get some useful information like the line number where it crashed and the parameters to the function that caused the error:\n",
    "\n",
    "```\n",
    "\n",
    "Starting program: segfault\n",
    "\n",
    "Program received signal SIGSEGV, Segmentation fault.\n",
    "0x000055555555471f in print_even_total (b=0x7fffffffe990,\n",
    "       max_index=5) at segfault.c:14\n",
    "14                      c+=b[i];\n",
    "```"
   ]
  },
  {
   "cell_type": "markdown",
   "metadata": {
    "slideshow": {
     "slide_type": "slide"
    }
   },
   "source": [
    "# Running the Program\n",
    "\n",
    "- The backtrace command lets us see the stack trace of what functions called the current function:\n",
    "\n",
    "```\n",
    "(gdb) backtrace\n",
    "#0 0x000055555555471f in print_even_total (b=0x7fffffffe990,\n",
    "        max_index=5) at segfault.c:14\n",
    "#1 0x00005555555546ec in main () at segfault.c:5\n",
    "```"
   ]
  },
  {
   "cell_type": "markdown",
   "metadata": {
    "slideshow": {
     "slide_type": "slide"
    }
   },
   "source": [
    "# Running the Program\n",
    "\n",
    "- The list command lets us see the lines in the source code around where we are:\n",
    "\n",
    "```\n",
    "(gdb) list\n",
    "9     /* Sum up every other number in the array pointed *\n",
    "10     * to by b, up to, but not including b[max_index] */\n",
    "11    void print_even_total(int *b, int max_index) {\n",
    "12            int c;\n",
    "13            for(int i=0;i!=max_index;i++) {\n",
    "14                    c+=b[i];\n",
    "15                    i++;\n",
    "16            }\n",
    "17            printf(\"%d\\n\",c);\n",
    "18    }\n",
    "```"
   ]
  },
  {
   "cell_type": "markdown",
   "metadata": {
    "slideshow": {
     "slide_type": "slide"
    }
   },
   "source": [
    "# Running the Program\n",
    "\n",
    "- The `print` command lets us see the value of a variable:\n",
    "\n",
    "```\n",
    "(gdb) print b[i]\n",
    "Cannot access memory at address 0x7ffffffff000\n",
    "(gdb) print i\n",
    "$1 = 416\n",
    "(gdb) print b\n",
    "$2 = (int *) 0x7fffffffe980\n",
    "```"
   ]
  },
  {
   "cell_type": "markdown",
   "metadata": {
    "slideshow": {
     "slide_type": "slide"
    }
   },
   "source": [
    "# Running the Program\n",
    "\n",
    "- The `print/x` command lets us see the value of a variable in hexadecimal:\n",
    "\n",
    "```\n",
    "(gdb) print/x i\n",
    "$3 = 0x1a0\n",
    "```\n",
    "\n",
    "Note: if there are multiple variables with the same name, the one that gets printed out is whichever one is currently in scope!"
   ]
  },
  {
   "cell_type": "markdown",
   "metadata": {
    "slideshow": {
     "slide_type": "slide"
    }
   },
   "source": [
    "# Setting Breakpoints\n",
    "\n",
    "- Breakpoints can be used to stop the run of the program part-way through the code. We can set a breakpoint using the `break` command.\n",
    "\n",
    "```\n",
    "(gdb) break 3\n",
    "\n",
    "Breakpoint 1 at 0x6b8: file segfault.c, line 3.\n",
    "```\n",
    "\n",
    "- This sets a breakpoint on line 3 of the code. We can also specify the source code file:\n",
    "\n",
    "```\n",
    "(gdb) break segfault.c:5\n",
    "\n",
    "Breakpoint 2 at 0x7b8: file segfault.c, line 5.\n",
    "```"
   ]
  },
  {
   "cell_type": "markdown",
   "metadata": {
    "slideshow": {
     "slide_type": "slide"
    }
   },
   "source": [
    "# Breakpoints\n",
    "\n",
    "- You can also tell gdb to break whenever a function gets run\n",
    "\n",
    "```\n",
    "(gdb) break print_even_total\n",
    "\n",
    "Breakpoint 3 at 0x555555554702: file segfault.c, line 13.\n",
    "```\n",
    "\n",
    "- You can set as many breakpoints as you want. The program will stop running when you reach any of them."
   ]
  },
  {
   "cell_type": "markdown",
   "metadata": {
    "slideshow": {
     "slide_type": "slide"
    }
   },
   "source": [
    "# Breakpoints\n",
    "\n",
    "You can get a list of currently-set breakpoints with `info breakpoints`:\n",
    "\n",
    "```\n",
    "(gdb) info breakpoints\n",
    "Num     Type           Disp Enb Address            \n",
    "    What\n",
    "1       breakpoint     keep y   0x00005555555546b8\n",
    "    in main at segfault.c:3\n",
    "        breakpoint already hit 1 time\n",
    "2       breakpoint     keep y   0x00005555555547b8\n",
    "    in main at segfault.c:5\n",
    "3       breakpoint     keep y   0x0000555555554702\n",
    "    in print_even_total at segfault.c:13\n",
    "```\n",
    "\n",
    "- and delete one with `delete`:\n",
    "\n",
    "```\n",
    "(gdb) delete 1\n",
    "```"
   ]
  },
  {
   "cell_type": "markdown",
   "metadata": {
    "slideshow": {
     "slide_type": "slide"
    }
   },
   "source": [
    "# Breakpoints\n",
    "\n",
    "- After reaching a breakpoint, you can use `continue` to continue running the code until the next breakpoint (or `run` to start again from scratch).\n",
    "\n",
    "```\n",
    "(gdb) run\n",
    "Starting program: /home/homeblue01/6/kmpb26/gdb/segfault \n",
    "\n",
    "Breakpoint 1, main () at segfault.c:4\n",
    "4               int a[5]={1,2,3,4,5};\n",
    "(gdb) continue \n",
    "Continuing.\n",
    "21854\n",
    "[Inferior 1 (process 23899) exited normally]\n",
    "```\n",
    "\n",
    "- The `finish` command will run until the end of the current function."
   ]
  },
  {
   "cell_type": "markdown",
   "metadata": {
    "slideshow": {
     "slide_type": "slide"
    }
   },
   "source": [
    "# More Complicated Breakpoints\n",
    "\n",
    "- You can also set breakpoints that will be triggered only if certain conditions occur:\n",
    "\n",
    "```\n",
    "(gdb) break segfault2.c:14 if i>=3\n",
    "```\n",
    "\n",
    "- You can also set a temporary breakpoint with `tbreak`. This works like a normal breakpoint, but gets removed after the first time you hit it."
   ]
  },
  {
   "cell_type": "markdown",
   "metadata": {
    "slideshow": {
     "slide_type": "slide"
    }
   },
   "source": [
    "# `step` and `next`\n",
    "\n",
    "- The `step` command lets you step through your code one line at a time.\n",
    "\n",
    "```\n",
    "(gdb) step\n",
    "```\n",
    "\n",
    "- `next` works the same way, but treats function calls as single instructions, rather than going into the function and stepping through it line by line.\n",
    "\n",
    "```\n",
    "(gdb) next\n",
    "```\n",
    "\n",
    "- You may end up doing this repeatedly. To save you from typing, most commands have an abbreviated form e.g. `s` for `step`. Also, if you press `ENTER` without a command, gdb will just repeat your last command again."
   ]
  },
  {
   "cell_type": "markdown",
   "metadata": {
    "slideshow": {
     "slide_type": "slide"
    }
   },
   "source": [
    "# Watchpoints\n",
    "\n",
    "- If a variable is in scope, the `watch` command will tell you whenever its value changes (the watchpoint gets deleted when the variable is out of scope).\n",
    "\n",
    "```\n",
    "(gdb) watch i\n",
    "Hardware watchpoint 3: i\n",
    "(gdb) cont\n",
    "Continuing.\n",
    "Hardware watchpoint 3: i\n",
    "```\n",
    "```\n",
    "Old value = 4\n",
    "New value = 5\n",
    "(gdb) cont\n",
    "Continuing.\n",
    "Watchpoint 3 deleted because the program has left the\n",
    "block in which its expression is valid.\n",
    "```"
   ]
  },
  {
   "cell_type": "markdown",
   "metadata": {
    "slideshow": {
     "slide_type": "slide"
    }
   },
   "source": [
    "# Calling Functions and Setting Variables\n",
    "\n",
    "- You can also call functions in your program from inside gdb\n",
    "\n",
    "```\n",
    "(gdb) call print_even_total(a,4)\n",
    "-1431630641\n",
    "```\n",
    "\n",
    "- And you can modify variables too!\n",
    "\n",
    "```\n",
    "(gdb) print i\n",
    "$2 = 0\n",
    "(gdb) set variable i=20\n",
    "(gdb) print i\n",
    "$3 = 20\n",
    "```"
   ]
  },
  {
   "cell_type": "markdown",
   "metadata": {
    "slideshow": {
     "slide_type": "slide"
    }
   },
   "source": [
    "# Attaching to a Running Process\n",
    "\n",
    "```c\n",
    "#include<stdio.h>\n",
    "int main(){\n",
    "    int b=0;\n",
    "    for(int a=0;;a++){\n",
    "        b+=a;\n",
    "        printf(\"%d\\n\",b);\n",
    "    }\n",
    "}\n",
    "```\n",
    "\n",
    "- You can also attach to an already-running program:\n",
    "\n",
    "```\n",
    "pgrep infinite_loop\n",
    "2718\n",
    "gdb attach 2718\n",
    "```"
   ]
  },
  {
   "cell_type": "markdown",
   "metadata": {
    "slideshow": {
     "slide_type": "slide"
    }
   },
   "source": [
    "# Command-Line Options\n",
    "\n",
    "- We can supply command-line options to a program:\n",
    "\n",
    "```\n",
    "./main -some-option\n",
    "```\n",
    "\n",
    "- To do this, when running under gdb we can run:\n",
    "\n",
    "```\n",
    "gdb --args ./main -some-option\n",
    "```\n",
    "\n",
    "- In a running gdb session, we can list the current command-line arguments with `show args` and we can change them with:\n",
    "\n",
    "```\n",
    "set args -some-other-option\n",
    "```"
   ]
  },
  {
   "cell_type": "markdown",
   "metadata": {
    "slideshow": {
     "slide_type": "slide"
    }
   },
   "source": [
    "### GDB is not the only option, but arguably the best in linux:\n",
    "\n",
    "https://en.wikipedia.org/wiki/List_of_debuggers"
   ]
  },
  {
   "cell_type": "markdown",
   "metadata": {
    "slideshow": {
     "slide_type": "slide"
    }
   },
   "source": [
    "## and now ...\n",
    "\n",
    "# Recursive Functions"
   ]
  },
  {
   "cell_type": "markdown",
   "metadata": {
    "slideshow": {
     "slide_type": "slide"
    }
   },
   "source": [
    "# Iterative Functions\n",
    "\n",
    "```c\n",
    "int loop_power( int a, int n ) {\n",
    "  int result = 1;\n",
    "  while (n > 0 ) {\n",
    "    result = result * a;\n",
    "    n--; }\n",
    "  return result;\n",
    "}\n",
    "```\n",
    "\n",
    "- Calculate a raised to the power `n`\n",
    "- `1 * a * a * ···` `n` times"
   ]
  },
  {
   "cell_type": "code",
   "execution_count": null,
   "metadata": {
    "slideshow": {
     "slide_type": "slide"
    }
   },
   "outputs": [],
   "source": [
    "#include<stdio.h>\n",
    "int loop_power( int a, int n );\n",
    "\n",
    "int main(){\n",
    "    printf(\"%d to the power of %d is %d [iteratively].\\n\", 10, 3, loop_power(10, 3));\n",
    "    return 0;\n",
    "}\n",
    "\n",
    "int loop_power( int a, int n ) {\n",
    "    int result = 1;\n",
    "    while (n > 0 ) {\n",
    "        result = result * a;\n",
    "        n--;\n",
    "    }\n",
    "    return result;\n",
    "}\n"
   ]
  },
  {
   "cell_type": "markdown",
   "metadata": {
    "slideshow": {
     "slide_type": "slide"
    }
   },
   "source": [
    "# Recursive Functions\n",
    "\n",
    "- Recursion is an alternative to using a loop.\n",
    "\n",
    "- C allows this by allowing **functions to call themselves**.\n",
    "\n",
    "- Like any loop this needs:\n",
    "    - initial conditions\n",
    "    - conditional test (a termination test)\n",
    "    - a variable change, e.g. a decrement\n",
    "    \n",
    "- Relies on a new function scope being created every time a function calls itself."
   ]
  },
  {
   "cell_type": "markdown",
   "metadata": {
    "slideshow": {
     "slide_type": "slide"
    }
   },
   "source": [
    "# Recursive Power Function\n",
    "\n",
    "```c\n",
    "int recursive_power(int a, int n){\n",
    "\n",
    "  if ( n == 0 )  // termination test\n",
    "    return 1;    // base case\n",
    "    \n",
    "  else {         // recursive case\n",
    "    return ( a * recursive_power( a, n - 1 ) );\n",
    "  }\n",
    "  \n",
    "}\n",
    "```\n",
    "\n",
    "- The loop variable here is `n`, which decrements to zero as repeated recursive calls are made."
   ]
  },
  {
   "cell_type": "code",
   "execution_count": null,
   "metadata": {
    "slideshow": {
     "slide_type": "slide"
    }
   },
   "outputs": [],
   "source": [
    "#include<stdio.h>\n",
    "int recursive_power( int a, int n );\n",
    "\n",
    "int main(){\n",
    "    printf(\"%d to the power of %d is %d [recursively].\\n\", 10, 3, recursive_power(10,3));\n",
    "    return 0;\n",
    "}\n",
    "\n",
    "int recursive_power( int a, int n ) {\n",
    "    if ( n == 0 )       // termination test\n",
    "        return 1;       // base case\n",
    "    else                // recursive case \n",
    "        return ( a * recursive_power( a, n - 1 ) );\n",
    "    \n",
    "}"
   ]
  },
  {
   "cell_type": "markdown",
   "metadata": {
    "slideshow": {
     "slide_type": "slide"
    }
   },
   "source": [
    "# Recursive Power Function – Short Form\n",
    "\n",
    "```c\n",
    "int recursive_power2( int a, int n ) {\n",
    "  return ( n == 0 ) ? 1 : (a * recursive_power2( a, n-1 ) );\n",
    "}\n",
    "```\n",
    "- The same function written with the conditional operator:\n",
    "```c\n",
    "value = expr1 ? expr2 : expr3;\n",
    "```\n",
    "\n",
    "   is the same as:\n",
    "\n",
    "```c\n",
    "  if (expr1)\n",
    "      value = expr2;\n",
    "  else\n",
    "      value = expr3;\n",
    "```"
   ]
  },
  {
   "cell_type": "markdown",
   "metadata": {
    "slideshow": {
     "slide_type": "slide"
    }
   },
   "source": [
    "# Recursive Fibonacci Function\n",
    "\n",
    "```c\n",
    "int fib(int n) {\n",
    "  if(n >= 2)                    // recursion test\n",
    "    return fib(n-1) + fib(n-2); // recursive case\n",
    "    \n",
    "  return n;                     // base case for n=0 and n=1\n",
    "}\n",
    "```\n",
    "\n",
    "This returns the `n`th element in the Fibonacci series:\n",
    "\n",
    "- 0, 1, 1, 2, 3, 5, 8, 13, 21, etc.\n",
    "- Base case: `fib(0)` is 0 and `fib(1)` is 1\n",
    "- Production rule: `fib(n) = fib(n-1) + fib(n-2)`"
   ]
  },
  {
   "cell_type": "code",
   "execution_count": null,
   "metadata": {
    "slideshow": {
     "slide_type": "slide"
    }
   },
   "outputs": [],
   "source": [
    "#include<stdio.h>\n",
    "int fib(int n);\n",
    "\n",
    "int main(){\n",
    "    int i = 20;\n",
    "    printf(\"fib(%d) = %d\\n\", i, fib(i));\n",
    "    return 0;\n",
    "}\n",
    "\n",
    "\n",
    "int fib(int n) {\n",
    "if(n >= 2)                      //recursion test  \n",
    "    return fib(n-1) + fib(n-2); //recursive case\n",
    "\n",
    "    return n;                   // Base case for n = 0 and n = 1\n",
    "}\n"
   ]
  },
  {
   "cell_type": "code",
   "execution_count": null,
   "metadata": {
    "slideshow": {
     "slide_type": "slide"
    }
   },
   "outputs": [],
   "source": [
    "#include<stdio.h>\n",
    "int factorial(int n);\n",
    "\n",
    "int main(){\n",
    "    int i = 4;\n",
    "    printf(\"%d factorial is %d\\n\", i, factorial(i));\n",
    "    return 0;\n",
    "}\n",
    "\n",
    "int factorial(int n) {\n",
    "    if(n >= 2)                      //recursion test  \n",
    "        return factorial(n-1) * n;        //recursive case\n",
    "\n",
    "    return n;                       // Base case for n = 0 and n = 1\n",
    "}\n"
   ]
  },
  {
   "cell_type": "markdown",
   "metadata": {
    "slideshow": {
     "slide_type": "slide"
    }
   },
   "source": [
    "# Debugging Summary\n",
    "\n",
    "Debugging using '`gdb`'\n",
    "\n",
    "- running the program\n",
    "\n",
    "- inspecting variables\n",
    "\n",
    "- Breakpoints\n",
    "\n",
    "- Watchpoints\n",
    "\n",
    "- Attaching to running processes\n",
    "\n",
    "- Command-line options"
   ]
  },
  {
   "cell_type": "markdown",
   "metadata": {
    "slideshow": {
     "slide_type": "slide"
    }
   },
   "source": [
    "# Recursion Summary\n",
    "\n",
    "Write loops using a function that calls itself. This must have both a:\n",
    "- base case\n",
    "- recursive case\n",
    "\n",
    "To terminate, the base case must happen\n",
    "- Relies on the run time system to:\n",
    "    - create the function’s scope\n",
    "    - keep track of the local variables for each call\n",
    "    - This is a performance overhead compared to iterative loops"
   ]
  }
 ],
 "metadata": {
  "celltoolbar": "Slideshow",
  "jupytext": {
   "formats": "ipynb"
  },
  "kernelspec": {
   "display_name": "C",
   "language": "c",
   "name": "c"
  },
  "language_info": {
   "file_extension": ".c",
   "mimetype": "text/plain",
   "name": "c"
  },
  "rise": {
   "autolaunch": true,
   "enable_chalkboard": true,
   "scroll": true,
   "theme": "white"
  }
 },
 "nbformat": 4,
 "nbformat_minor": 2
}
