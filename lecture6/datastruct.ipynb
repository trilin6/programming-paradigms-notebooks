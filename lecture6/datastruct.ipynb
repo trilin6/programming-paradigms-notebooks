{
 "cells": [
  {
   "cell_type": "markdown",
   "metadata": {
    "slideshow": {
     "slide_type": "slide"
    }
   },
   "source": [
    "# Systems Programming\n",
    "\n",
    "### Lecture 6: Data Structures\n",
    "\n",
    "### Anne Reinarz\n",
    "\n",
    "anne.k.reinarz@durham.ac.uk\n",
    "\n"
   ]
  },
  {
   "cell_type": "markdown",
   "metadata": {
    "slideshow": {
     "slide_type": "slide"
    }
   },
   "source": [
    "\n",
    "## Recap\n",
    "### Switch statements\n",
    "- without a break switch statements fall  through to the next case"
   ]
  },
  {
   "cell_type": "code",
   "execution_count": null,
   "metadata": {
    "slideshow": {
     "slide_type": "fragment"
    }
   },
   "outputs": [],
   "source": [
    "#include <stdio.h> \n",
    "\n",
    "int main(){\n",
    "    int x = 0;\n",
    "    switch(x){\n",
    "        case 0:\n",
    "            printf(\"x is 0\\n\");\n",
    "        case 1: \n",
    "            printf(\"x is 0 or 1\\n\");\n",
    "            break;\n",
    "        case 2:\n",
    "            printf(\"x is 2\\n\");\n",
    "            break;\n",
    "        default:\n",
    "            printf(\"x is some other value\\n\");\n",
    "            // Putting a final break statement is good practice \n",
    "            break; \n",
    "    }\n",
    "    return 0; \n",
    "}"
   ]
  },
  {
   "cell_type": "markdown",
   "metadata": {
    "slideshow": {
     "slide_type": "slide"
    }
   },
   "source": [
    "\n",
    "## Recap\n",
    "### Scope of enumerations"
   ]
  },
  {
   "cell_type": "code",
   "execution_count": null,
   "metadata": {
    "slideshow": {
     "slide_type": "fragment"
    }
   },
   "outputs": [],
   "source": [
    "#include <stdio.h>\n",
    "\n",
    "enum suit{CLUBS, DIAMONDS, HEARTS, SPADES};\n",
    "\n",
    "void function(){\n",
    "    enum gems{ DIAMONDS, EMERALDS};\n",
    "    printf(\"DIAMONDS in function [%d]\\n\",DIAMONDS);\n",
    "}\n",
    "\n",
    "\n",
    "int main(){\n",
    "    function();\n",
    "    printf(\"DIAMONDS [%d]\\n\",DIAMONDS); \n",
    "    return 0;\n",
    "}"
   ]
  },
  {
   "cell_type": "markdown",
   "metadata": {
    "slideshow": {
     "slide_type": "slide"
    }
   },
   "source": [
    "### Structures\n",
    "\n",
    "-   Collections of one or more variables forming a new data structure,\n",
    "    the closest thing C has to an O-O class\n",
    "\n",
    "-   The elements of a structure (its *members*) aren't required to have\n",
    "    the same type\n",
    "\n",
    "-   The members of a structure have names; to select a particular\n",
    "    member, we specify its name\n",
    "\n",
    "-   In some languages, structures are called records, and members are\n",
    "    known as fields\n"
   ]
  },
  {
   "cell_type": "markdown",
   "metadata": {
    "slideshow": {
     "slide_type": "slide"
    }
   },
   "source": [
    "### Structures\n",
    "### Example"
   ]
  },
  {
   "cell_type": "code",
   "execution_count": null,
   "metadata": {},
   "outputs": [],
   "source": [
    "#include <stdio.h>\n",
    "\n",
    "struct point {\n",
    "    int x;\n",
    "    int y;\n",
    "};\n",
    "\n",
    "int main(){\n",
    "    // Initialise a struct\n",
    "    struct point a_point = {5, 6}; // or without initialisation: struct point a_point;\n",
    "    printf(\"Struct initialised to: [%d,%d]\\n\", a_point.x,a_point.y);\n",
    "\n",
    "    // Access to variable members of the structure:\n",
    "    a_point.x = 4;\n",
    "    a_point.y = 3;\n",
    "    printf(\"Struct values after assignment: [%d,%d]\\n\", a_point.x,a_point.y);\n",
    "\n",
    "    return 0;\n",
    "}"
   ]
  },
  {
   "cell_type": "markdown",
   "metadata": {
    "slideshow": {
     "slide_type": "slide"
    }
   },
   "source": [
    "### Structure and scope\n",
    "\n",
    "    struct point {\n",
    "      int x;\n",
    "      int y;\n",
    "    };\n",
    "\n",
    "-   Each structure represents a new scope\n",
    "\n",
    "-   Any names declared in that scope won't conflict with other names in\n",
    "    a program\n",
    "\n",
    "-   In C terminology, each structure has a separate name space for its\n",
    "    members\n"
   ]
  },
  {
   "cell_type": "markdown",
   "metadata": {
    "slideshow": {
     "slide_type": "slide"
    }
   },
   "source": [
    "### Operations on structures\n",
    "\n",
    "-   The `.` used to access a structure member is actually a C operator\n",
    "\n",
    "-   It takes precedence over nearly all other operators\n",
    "\n",
    "-   Example:\n",
    "\n",
    "        z = 20*a_point.x;\n",
    "\n",
    "-   The `.` operator takes precedence over the `*` operator\n"
   ]
  },
  {
   "cell_type": "markdown",
   "metadata": {
    "slideshow": {
     "slide_type": "slide"
    }
   },
   "source": [
    "### Assignment of structures\n",
    "\n",
    "-   The other major structure operation is assignment:\n",
    "\n",
    "        point2 = point1;\n",
    "\n",
    "-   The effect of this statement is to copy `point1.x` into `point2.x`,\n",
    "    `point1.y` into `point2.y` and so on\n",
    "\n",
    "-   The structures must have compatible types"
   ]
  },
  {
   "cell_type": "markdown",
   "metadata": {
    "slideshow": {
     "slide_type": "slide"
    }
   },
   "source": [
    "### Nested structures\n",
    "- structs can contain structs (can contain structs (...))\n",
    "- Example"
   ]
  },
  {
   "cell_type": "code",
   "execution_count": null,
   "metadata": {
    "slideshow": {
     "slide_type": "fragment"
    }
   },
   "outputs": [],
   "source": [
    "#include <stdio.h>\n",
    "#include <string.h>\n",
    "\n",
    "struct point {\n",
    "    int x;\n",
    "    int y;\n",
    "};\n",
    "\n",
    "struct rect{\n",
    "    struct point pt1;\n",
    "    struct point pt2;\n",
    "};\n",
    "\n",
    "int main(){\n",
    "    struct rect a_window;\n",
    "    a_window.pt1.x = 4;  // assign a point\n",
    "    printf(\"x coordinate of point 1: [%d]\\n\", a_window.pt1.x);\n",
    "    printf(\"size of window: [%ld]\\n\", sizeof(a_window));\n",
    "    printf(\"size of 4 ints: [%ld]\\n\", sizeof(int)*4);\n",
    "    return 0;\n",
    "}"
   ]
  },
  {
   "cell_type": "markdown",
   "metadata": {
    "slideshow": {
     "slide_type": "slide"
    }
   },
   "source": [
    "### Programming Paradigms\n",
    "\n",
    "- Object Orientation in C\n",
    "\n",
    "- What is missing from the struct if you wanted to program in an OO way?\n",
    "\n",
    "- Is it possible to add?\n",
    "\n",
    "- Should you?"
   ]
  },
  {
   "cell_type": "markdown",
   "metadata": {
    "slideshow": {
     "slide_type": "slide"
    }
   },
   "source": [
    "### Unions\n",
    "\n",
    "- A `union`, like a structure, consists of one or more members, possibly of different types\n",
    "\n",
    "- The compiler allocates only enough space for the largest of the members, which overlay each other within this space\n",
    "\n",
    "- Assigning a new value to one member alters the values of the other members as well"
   ]
  },
  {
   "cell_type": "markdown",
   "metadata": {
    "slideshow": {
     "slide_type": "slide"
    }
   },
   "source": [
    "### Unions\n",
    "\n",
    "\n",
    "- The structure `s` and the union `u` differ in just one way\n",
    "- The members of `s` are stored at different addresses in memory\n",
    "- The members of `u` are stored at the same address"
   ]
  },
  {
   "cell_type": "code",
   "execution_count": null,
   "metadata": {
    "slideshow": {
     "slide_type": "fragment"
    }
   },
   "outputs": [],
   "source": [
    "union {\n",
    "  int i;\n",
    "  double d;\n",
    "} u;\n",
    "\n",
    "struct {\n",
    "  int i;\n",
    "  double d;\n",
    "} s;\n",
    "\n",
    "int main(){\n",
    "    return 0;\n",
    "}"
   ]
  },
  {
   "cell_type": "markdown",
   "metadata": {
    "slideshow": {
     "slide_type": "slide"
    }
   },
   "source": [
    "### Unions\n",
    "\n",
    "- Members of a union are accessed in the same way as members of a structure:\n",
    "\n",
    "    `u.i = 82;\n",
    "   u.d = 74.8;`\n",
    "\n",
    "- Changing one member of a union alters any value previously stored in any of the other members\n",
    "- Storing a value in `u.d` causes any value previously stored in \\verb!u.i! to be lost\n",
    "- Changing `u.i` corrupts `u.d`"
   ]
  },
  {
   "cell_type": "markdown",
   "metadata": {
    "slideshow": {
     "slide_type": "slide"
    }
   },
   "source": [
    "### Unions: properties\n",
    "\n",
    "- The properties of unions are almost identical to the properties of structures\n",
    "\n",
    "- Like structures, unions can be copied using the `=` operator, passed to functions and returned by functions\n"
   ]
  },
  {
   "cell_type": "markdown",
   "metadata": {
    "slideshow": {
     "slide_type": "slide"
    }
   },
   "source": [
    "### Unions: initialisation\n",
    "\n",
    "-  By default, only the first member of a union can be given an initial value\n",
    "- How to initialize the i member of u to 0:\n",
    "\n",
    "`union {\n",
    "  int i;\n",
    "  double d;\n",
    "} u = {0};`\n"
   ]
  },
  {
   "cell_type": "markdown",
   "metadata": {
    "slideshow": {
     "slide_type": "slide"
    }
   },
   "source": [
    "### Unions: properties\n",
    "\n",
    "- Designated initializers can also be used with unions\n",
    "- A designated initializer allows us to specify which member of a union should be initialized:\n",
    "\n",
    "`union {\n",
    "  int i;\n",
    "  double d;\n",
    "} u = {.d = 10.0};`\n",
    "\n",
    "- Only one member can be initialized, but it doesn't have to be the first one"
   ]
  },
  {
   "cell_type": "markdown",
   "metadata": {
    "slideshow": {
     "slide_type": "slide"
    }
   },
   "source": [
    "### Unions: Why?\n",
    "\n",
    "- Unions can be used to save space in structures\n",
    "- Suppose that we're designing a structure that will contain information about an item that's sold through a gift catalog\n",
    "- Each item has a stock number and a price, as well as other information that depends on the type of the item:\n",
    "    - Books:  Title, author, number of pages\n",
    "    - Mugs:  Design\n",
    "    - Shirts:  Design, colors available, sizes available"
   ]
  },
  {
   "cell_type": "markdown",
   "metadata": {
    "slideshow": {
     "slide_type": "slide"
    }
   },
   "source": [
    "### Unions: Why?\n",
    "\n",
    "- A first attempt at designing the `catalog_item` using `struct`:"
   ]
  },
  {
   "cell_type": "code",
   "execution_count": null,
   "metadata": {
    "slideshow": {
     "slide_type": "fragment"
    }
   },
   "outputs": [],
   "source": [
    "#define TITLE_LEN 8\n",
    "#define AUTHOR_LEN 8\n",
    "#define DESIGN_LEN 8\n",
    "\n",
    "struct s_catalog_item {\n",
    "  int stock_number;\n",
    "  double price;\n",
    "  int item_type;\n",
    "  char title[TITLE_LEN+1];\n",
    "  char author[AUTHOR_LEN+1];\n",
    "  int num_pages;\n",
    "  char design[DESIGN_LEN+1];\n",
    "  int colors;\n",
    "  int sizes;\n",
    "};\n",
    "\n",
    "int main(){\n",
    "    return 0;\n",
    "}"
   ]
  },
  {
   "cell_type": "markdown",
   "metadata": {
    "slideshow": {
     "slide_type": "slide"
    }
   },
   "source": [
    "### Unions: Why?\n",
    "\n",
    "- A second attempt using a `union`:"
   ]
  },
  {
   "cell_type": "code",
   "execution_count": null,
   "metadata": {
    "slideshow": {
     "slide_type": "fragment"
    }
   },
   "outputs": [],
   "source": [
    "#define TITLE_LEN 8\n",
    "#define AUTHOR_LEN 8\n",
    "#define DESIGN_LEN 8\n",
    "\n",
    "struct u_catalog_item {\n",
    "  int stock_number;\n",
    "  double price;\n",
    "  int item_type;\n",
    "  union {\n",
    "    struct {\n",
    "      char title[TITLE_LEN+1];\n",
    "      char author[AUTHOR_LEN+1];\n",
    "      int num_pages;\n",
    "    } book;\n",
    "    struct {\n",
    "      char design[DESIGN_LEN+1];\n",
    "    } mug;\n",
    "    struct {\n",
    "      char design[DESIGN_LEN+1];\n",
    "      int colors;\n",
    "      int sizes;\n",
    "    } shirt;\n",
    "  } item;\n",
    "};\n",
    "\n",
    "int main(){\n",
    "    return 0;\n",
    "}"
   ]
  },
  {
   "cell_type": "markdown",
   "metadata": {
    "slideshow": {
     "slide_type": "slide"
    }
   },
   "source": [
    "### Unions: accessing nested structure\n",
    "\n",
    "- This nesting of unions does make accessing the struct fields a little more complex: \n",
    "\n"
   ]
  },
  {
   "cell_type": "code",
   "execution_count": null,
   "metadata": {
    "slideshow": {
     "slide_type": "slide"
    }
   },
   "outputs": [],
   "source": [
    "#define TITLE_LEN 8\n",
    "#define AUTHOR_LEN 8\n",
    "#define DESIGN_LEN 8\n",
    "\n",
    "struct s_catalog_item {\n",
    "  int stock_number;\n",
    "  double price;\n",
    "  int item_type;\n",
    "  char title[TITLE_LEN+1];\n",
    "  char author[AUTHOR_LEN+1];\n",
    "  int num_pages;\n",
    "  char design[DESIGN_LEN+1];\n",
    "  int colors;\n",
    "  int sizes;\n",
    "};\n",
    "\n",
    "struct u_catalog_item {\n",
    "  int stock_number;\n",
    "  double price;\n",
    "  int item_type;\n",
    "  union {\n",
    "    struct {\n",
    "      char title[TITLE_LEN+1];\n",
    "      char author[AUTHOR_LEN+1];\n",
    "      int num_pages;\n",
    "    } book;\n",
    "    struct {\n",
    "      char design[DESIGN_LEN+1];\n",
    "    } mug;\n",
    "    struct {\n",
    "      char design[DESIGN_LEN+1];\n",
    "      int colors;\n",
    "      int sizes;\n",
    "    } shirt;\n",
    "  } item;\n",
    "};\n",
    "\n",
    "int main(){\n",
    "    // Accessing the original struct:\n",
    "    struct s_catalog_item  c_struct; \n",
    "    c_struct.title[0] = 't';\n",
    "    \n",
    "    // Accessing our new data structure:\n",
    "    struct u_catalog_item  c_union; \n",
    "    c_union.item.book.title[0] = 't';\n",
    "    \n",
    "    return 0;\n",
    "}"
   ]
  },
  {
   "cell_type": "markdown",
   "metadata": {
    "slideshow": {
     "slide_type": "slide"
    }
   },
   "source": [
    "## Using Enumerations to Declare Tag Fields\n",
    "\n",
    "- Enumerations can be used to mark which member of a union was the last to be assigned\n",
    "\n",
    "- In the number structure, we can make a kind member an enumeration instead of an `int`:\n"
   ]
  },
  {
   "cell_type": "code",
   "execution_count": null,
   "metadata": {
    "slideshow": {
     "slide_type": "fragment"
    }
   },
   "outputs": [],
   "source": [
    "struct number {\n",
    "  enum {INT_KIND, DOUBLE_KIND} kind;\n",
    "  union {\n",
    "    int i;\n",
    "    double d;\n",
    "  } u;\n",
    "};\n",
    "\n",
    "struct number a_number ={INT_KIND, {10}};\n",
    "\n",
    "if (a_number.kind == INT_KIND)\n",
    "  printf(\"a_number is %d value %d \\n\", \n",
    "     a_number.kind, a_number.u.i );\n",
    "\n",
    "a_number.kind = DOUBLE_KIND;\n",
    "\n",
    "a_number.u.d = 150.03;\n",
    "if (a_number.kind == DOUBLE_KIND)\n",
    "  printf(\"a_number is %d value %6.3f \\n\", \n",
    "     a_number.kind, a_number.u.d );"
   ]
  },
  {
   "cell_type": "markdown",
   "metadata": {
    "slideshow": {
     "slide_type": "slide"
    }
   },
   "source": [
    "### Creating new types\n",
    "\n",
    "- `typedef` can be used to assign names to types\n",
    "\n",
    "`typedef unsigned char byte;\n",
    "byte b1 = 12;`\n",
    "\n",
    "- You can use this with `struct`s and `union`s too"
   ]
  },
  {
   "cell_type": "code",
   "execution_count": null,
   "metadata": {
    "slideshow": {
     "slide_type": "fragment"
    }
   },
   "outputs": [],
   "source": [
    "typedef struct coords {\n",
    "  int x;\n",
    "  int y;\n",
    "} point;\n",
    "\n",
    "\n",
    "typedef union id_thing {\n",
    "  int i;\n",
    "  double d;\n",
    "} number;\n",
    "\n",
    "int main(){\n",
    "    point p1={5,4};\n",
    "    number n = {.d =10.0};\n",
    "}"
   ]
  },
  {
   "cell_type": "markdown",
   "metadata": {
    "slideshow": {
     "slide_type": "slide"
    }
   },
   "source": [
    "### I/O\n",
    "\n",
    "### Allowing arguments to the main\n",
    "\n",
    "### \n",
    "- printf()\n",
    "- scanf()\n",
    "\n",
    "### Reading from a file\n",
    "- fopen \tOpens a file (with a non-Unicode filename on Windows and possible UTF-8 filename on Linux)\n",
    "- fclose \tCloses a file\n",
    "- fread \tReads from a file\n",
    "- fwrite \tWrites to a file "
   ]
  },
  {
   "cell_type": "markdown",
   "metadata": {
    "slideshow": {
     "slide_type": "slide"
    }
   },
   "source": [
    "### Allowing arguments to the main\n",
    "\n",
    "- If you want to receive input arguments to the main the format always looks as follows:"
   ]
  },
  {
   "cell_type": "code",
   "execution_count": null,
   "metadata": {
    "slideshow": {
     "slide_type": "fragment"
    }
   },
   "outputs": [],
   "source": [
    "#include <stdio.h>\n",
    "\n",
    "int main(int argc, char** argv){\n",
    "    // argc: the number of arguments \n",
    "    // argv: contains the arguments themselves\n",
    "    if(argc>1){\n",
    "        printf(\"The first argument: %s\", argv[1]);\n",
    "        // Important: The first argument is in argv[1] not argv[0]\n",
    "        // argv[0] contains the program path\n",
    "    }\n",
    "    return 0;\n",
    "}"
   ]
  },
  {
   "cell_type": "markdown",
   "metadata": {
    "slideshow": {
     "slide_type": "slide"
    }
   },
   "source": [
    "### I/O\n",
    "\n",
    "### Reading from a file\n",
    "- fopen(): \tOpens a file (with a non-Unicode filename on Windows and possible UTF-8 filename on Linux)\n",
    "- fclose(): \tCloses a file\n",
    "- fread() \tReads from a file\n",
    "- fwrite() \tWrites to a file "
   ]
  },
  {
   "cell_type": "markdown",
   "metadata": {
    "slideshow": {
     "slide_type": "slide"
    }
   },
   "source": [
    "### I/O\n",
    "\n",
    "- printf(): Writes output to `stdout`\n",
    "- scanf(): Reads data from `stdin` \n",
    "\n",
    "- More on I/O in the next practical section"
   ]
  },
  {
   "cell_type": "markdown",
   "metadata": {
    "slideshow": {
     "slide_type": "slide"
    }
   },
   "source": [
    "## Summary\n",
    "\n",
    "- C has a range of flexible data types and data structuring capabilities\n",
    "- Enumerations: creation of named constants \n",
    "- `struct`: collecting data fields into a single structure not completely unlike an object in O-O languages\n",
    "- `union`: space saving mechanism for structs, can be useful when many data items can be overlaid\n",
    "- `typedef` lets you assign a name to a type \n",
    "\n"
   ]
  }
 ],
 "metadata": {
  "celltoolbar": "Slideshow",
  "jupytext": {
   "formats": "ipynb"
  },
  "kernelspec": {
   "display_name": "C",
   "language": "c",
   "name": "c"
  },
  "language_info": {
   "file_extension": ".c",
   "mimetype": "text/plain",
   "name": "c"
  },
  "rise": {
   "autolaunch": true,
   "enable_chalkboard": true,
   "scroll": true,
   "theme": "white"
  }
 },
 "nbformat": 4,
 "nbformat_minor": 2
}
