{
 "cells": [
  {
   "cell_type": "markdown",
   "metadata": {
    "slideshow": {
     "slide_type": "slide"
    }
   },
   "source": [
    "# Systems Programming\n",
    "\n",
    "### Lecture 5: Functions and Data Types\n",
    "\n",
    "### Anne Reinarz\n",
    "\n",
    "anne.k.reinarz@durham.ac.uk\n",
    "\n"
   ]
  },
  {
   "cell_type": "markdown",
   "metadata": {
    "slideshow": {
     "slide_type": "slide"
    }
   },
   "source": [
    "## Recap: Makefiles\n",
    "\n",
    "- When we have a number of files to compile together we need a rule-set to perform this\n",
    "    - Provided by the make command\n",
    "- Requires a rule-file called the Makefile"
   ]
  },
  {
   "cell_type": "code",
   "execution_count": null,
   "metadata": {
    "slideshow": {
     "slide_type": "fragment"
    }
   },
   "outputs": [],
   "source": [
    "CC=gcc\n",
    "CFLAGS=-I. \n",
    "DEPS = counter.h sales.h\n",
    "\n",
    "all: counter.o sales.o main.c \n",
    "    gcc -o program main.c counter.o sales.o\n",
    "\n",
    "%.o: %.c (DEPS)\n",
    "    (CC) -c -o @< $(CFLAGS)\n",
    "\n",
    "clean: \n",
    "    rm -rf program counter.o sales.o"
   ]
  },
  {
   "cell_type": "markdown",
   "metadata": {
    "slideshow": {
     "slide_type": "slide"
    }
   },
   "source": [
    "## Recap: Iteration statements\n",
    "\n",
    "C provides three iteration statements:\n",
    "\n",
    "-   The `while` statement is used for loops whose controlling expression\n",
    "    is tested before the loop body is executed\n",
    "        - `while (a > 100) {...}`\n",
    "\n",
    "-   The `do` statement is used if the expression is tested after the\n",
    "    loop body is executed\n",
    "\n",
    "        do {...} while (a > 100);\n",
    "\n",
    "-   The `for` statement is convenient for loops that increment or\n",
    "    decrement a counting variable\n",
    "\n",
    "        for (a = 199; a > 100; a = a - 1) {...}\n"
   ]
  },
  {
   "cell_type": "markdown",
   "metadata": {
    "slideshow": {
     "slide_type": "slide"
    }
   },
   "source": [
    "## A note on static program checking\n",
    "\n",
    "- `-Wall` enables all compiler's warning messages\n",
    "- This option should always be used, in order to generate better code \n",
    "- Using the `-Wall` flag will enable static checks e.g. for"
   ]
  },
  {
   "cell_type": "code",
   "execution_count": null,
   "metadata": {
    "slideshow": {
     "slide_type": "fragment"
    }
   },
   "outputs": [],
   "source": [
    "#include <stdio.h>\n",
    "\n",
    "int main(){\n",
    "   int x = 0;\n",
    "   if(x=0){\n",
    "       printf(\"x is 0\\n\");\n",
    "   }\n",
    "   return 0;\n",
    "}"
   ]
  },
  {
   "cell_type": "markdown",
   "metadata": {
    "slideshow": {
     "slide_type": "slide"
    }
   },
   "source": [
    "### Static program checking\n",
    "\n",
    "-   Compiler output with -Wall:\n",
    "\n",
    "        if.c: In function ‘main’:\n",
    "        if.c:4:6: warning: suggest parentheses around\n",
    "        assignment used as truth value [-Wparentheses]\n",
    "              if(x=0){ printf(\"x is 0\\n\");}"
   ]
  },
  {
   "cell_type": "markdown",
   "metadata": {
    "slideshow": {
     "slide_type": "slide"
    }
   },
   "source": [
    "### The `switch` statement\n",
    "\n",
    "-   This has the form:\n",
    "\n",
    "        switch(expression){\n",
    "          case const-expr: statements\n",
    "          case const-expr: statements\n",
    "          default: statements\n",
    "        }\n",
    "\n",
    "-   Warning: if there is no `break` statement, execution falls through"
   ]
  },
  {
   "cell_type": "markdown",
   "metadata": {
    "slideshow": {
     "slide_type": "slide"
    }
   },
   "source": [
    "### The `switch` statement\n",
    "###  Example:"
   ]
  },
  {
   "cell_type": "code",
   "execution_count": null,
   "metadata": {
    "slideshow": {
     "slide_type": "fragment"
    }
   },
   "outputs": [],
   "source": [
    "#include <stdio.h>\n",
    "\n",
    "int main(){\n",
    "    int x = 0;\n",
    "    switch(x){\n",
    "      case 0:\n",
    "        printf(\"x is 0\\n\");\n",
    "      case 1:\n",
    "        printf(\"x is 0 or 1\\n\");\n",
    "        break;\n",
    "      case 2:\n",
    "        printf(\"x is 2\\n\");\n",
    "        break;\n",
    "      default:\n",
    "        printf(\"x is some other value\\n\");\n",
    "        // Putting a final break statement is good practice\n",
    "        break;\n",
    "    }\n",
    "    return 0;\n",
    "}"
   ]
  },
  {
   "cell_type": "markdown",
   "metadata": {
    "slideshow": {
     "slide_type": "slide"
    }
   },
   "source": [
    "## C++\n",
    "\n",
    "-   No, not C++ (yet)\n",
    "\n",
    "-   `x++` means `x=x+1`\n",
    "\n",
    "-   What is the value of `y`?"
   ]
  },
  {
   "cell_type": "code",
   "execution_count": null,
   "metadata": {
    "slideshow": {
     "slide_type": "fragment"
    }
   },
   "outputs": [],
   "source": [
    "#include <stdio.h>\n",
    "\n",
    "int main(){\n",
    "    int x = 5;\n",
    "    int y = x++;\n",
    "    printf(\"y is %d\\n\", y);\n",
    "}"
   ]
  },
  {
   "cell_type": "markdown",
   "metadata": {
    "slideshow": {
     "slide_type": "fragment"
    }
   },
   "source": [
    "- Why not 6?\n",
    "    - x++ returns the value of x first, then increments\n",
    "    - ++x increments first, then returns the value of x"
   ]
  },
  {
   "cell_type": "markdown",
   "metadata": {
    "slideshow": {
     "slide_type": "slide"
    }
   },
   "source": [
    "## C++\n",
    "\n",
    "-   And what about this?"
   ]
  },
  {
   "cell_type": "code",
   "execution_count": null,
   "metadata": {},
   "outputs": [],
   "source": [
    "#include <stdio.h>\n",
    "\n",
    "int main(){\n",
    "    int x = 5;\n",
    "    int y = ++x;\n",
    "    printf(\"y is %d\\n\", y);\n",
    "}"
   ]
  },
  {
   "cell_type": "markdown",
   "metadata": {
    "slideshow": {
     "slide_type": "slide"
    }
   },
   "source": [
    "## C++\n",
    "-   Can also have `--`, `+=`, `-=`, `*=`, `/=`, `%=`\n",
    "\n",
    "          x += 5;"
   ]
  },
  {
   "cell_type": "markdown",
   "metadata": {
    "slideshow": {
     "slide_type": "slide"
    }
   },
   "source": [
    "## Check your understanding\n",
    "- What does this code output?"
   ]
  },
  {
   "cell_type": "code",
   "execution_count": null,
   "metadata": {
    "slideshow": {
     "slide_type": "fragment"
    }
   },
   "outputs": [],
   "source": [
    "#include<stdio.h>\n",
    "\n",
    "#define TRIPLE(a) 3*a\n",
    "\n",
    "int main() {\n",
    "  int x = 1;\n",
    "  int y = 2;\n",
    "  printf(\"%d\\n\",TRIPLE(y+x));\n",
    "}"
   ]
  },
  {
   "cell_type": "markdown",
   "metadata": {
    "slideshow": {
     "slide_type": "slide"
    }
   },
   "source": [
    "## Check your understanding\n",
    "- What does this code output?"
   ]
  },
  {
   "cell_type": "code",
   "execution_count": null,
   "metadata": {
    "slideshow": {
     "slide_type": "fragment"
    }
   },
   "outputs": [],
   "source": [
    "#include<stdio.h>\n",
    "\n",
    "int main() {\n",
    "  int x = 2;     \n",
    "  x *= 1 + 2;\n",
    "  printf(\"%d\\n\",x);\n",
    "}"
   ]
  },
  {
   "cell_type": "markdown",
   "metadata": {
    "slideshow": {
     "slide_type": "slide"
    }
   },
   "source": [
    "## Check your understanding\n",
    "- What does this code output?"
   ]
  },
  {
   "cell_type": "code",
   "execution_count": null,
   "metadata": {
    "slideshow": {
     "slide_type": "fragment"
    }
   },
   "outputs": [],
   "source": [
    "#include<stdio.h>\n",
    "\n",
    "int main() {\n",
    "  int x = 3;\n",
    "  int y = 2, z = 2;\n",
    "  x = y == z;\n",
    "  printf(\"%d\\n\",x);\n",
    "}"
   ]
  },
  {
   "cell_type": "markdown",
   "metadata": {
    "slideshow": {
     "slide_type": "slide"
    }
   },
   "source": [
    "## Check your understanding\n",
    "- What does this code output?"
   ]
  },
  {
   "cell_type": "code",
   "execution_count": null,
   "metadata": {
    "slideshow": {
     "slide_type": "fragment"
    }
   },
   "outputs": [],
   "source": [
    "#include<stdio.h>\n",
    "\n",
    "int main() {\n",
    "  int x = 1;\n",
    "  int y = 2, z = 0;\n",
    "  x += y = z = 4;\n",
    "  printf(\"x=%d, y=%d, z=%d\\n\",x,y,z);\n",
    "}"
   ]
  },
  {
   "cell_type": "markdown",
   "metadata": {
    "slideshow": {
     "slide_type": "slide"
    }
   },
   "source": [
    "### Functions in C - declaration\n",
    "\n",
    "-   Functions encapsulate code in a convenient way\n",
    "\n",
    "-   Analogous to methods in an O-O language\n",
    "\n",
    "-   Functions can be defined anywhere in a program file, if the\n",
    "    declaration precedes use of the function\n"
   ]
  },
  {
   "cell_type": "code",
   "execution_count": null,
   "metadata": {
    "slideshow": {
     "slide_type": "fragment"
    }
   },
   "outputs": [],
   "source": [
    "int power( int base, int n ) {\n",
    "     int p;\n",
    "     for ( p = 1; n > 0; n-- )\n",
    "         p = p * base;\n",
    "     return p;\n",
    "}\n",
    "\n",
    "int main() {\n",
    "    int result = power(2,3);\n",
    "    return 0;\n",
    "}"
   ]
  },
  {
   "cell_type": "markdown",
   "metadata": {
    "slideshow": {
     "slide_type": "slide"
    }
   },
   "source": [
    "### Functions in C - declaration\n",
    "\n",
    "-   Functions can be *declared* before they are defined, as a function\n",
    "    declaration:\n",
    "\n",
    "          return-type function-name ( parameters );\n",
    "\n",
    "-   e.g. to calculate `base` raised to the power `n`\n",
    "\n",
    "          int power( int base, int n );\n",
    "\n",
    "-   Often we put these in a header file (`.h`)\n"
   ]
  },
  {
   "cell_type": "markdown",
   "metadata": {
    "slideshow": {
     "slide_type": "slide"
    }
   },
   "source": [
    "### Functions in C: call by value\n",
    "\n",
    "-   Function parameters in C are passed using a call by value semantic\n",
    "\n",
    "          result = power(x, y);\n",
    "\n",
    "-   Here when `x` and `y` are passed through to `power()`, the values of\n",
    "    `x` & `y` are copied to the `base` and `n` variables in the function\n",
    "\n",
    "-   A function cannot affect the value of its arguments\n"
   ]
  },
  {
   "cell_type": "markdown",
   "metadata": {
    "slideshow": {
     "slide_type": "slide"
    }
   },
   "source": [
    "## Functions in C: call by value\n",
    "###   `swap(x, y)` example"
   ]
  },
  {
   "cell_type": "code",
   "execution_count": null,
   "metadata": {
    "slideshow": {
     "slide_type": "fragment"
    }
   },
   "outputs": [],
   "source": [
    "#include <stdio.h>\n",
    "\n",
    "void swap(int a, int b);\n",
    "\n",
    "int main(){\n",
    "      int x = 8;\n",
    "      int y = 44;\n",
    "      swap(x,y);\n",
    "      printf(\"x = %d  y = %d\\n\", x, y);\n",
    "      return 0;\n",
    "}\n",
    "\n",
    "void swap(int a, int b) {\n",
    "      int temp = a;\n",
    "      a = b;\n",
    "      b = temp;\n",
    "}"
   ]
  },
  {
   "cell_type": "markdown",
   "metadata": {
    "slideshow": {
     "slide_type": "slide"
    }
   },
   "source": [
    "\n",
    "### Variables\n",
    "\n",
    "-   Variables and constants are the basic data objects manipulated by a\n",
    "    program\n",
    "\n",
    "-   *Declarations:* declare the variables used, their type and possibly\n",
    "    initial value also\n",
    "\n",
    "-   *Expressions:* combine variables and constants to form new values\n",
    "\n",
    "        int i = 6+7*3;\n"
   ]
  },
  {
   "cell_type": "markdown",
   "metadata": {
    "slideshow": {
     "slide_type": "slide"
    }
   },
   "source": [
    "### Data types\n",
    "\n",
    "-   Every C variable must have a type (strongly typed language)\n",
    "\n",
    "    -   `char`: a single byte -- often used to store a character\n",
    "\n",
    "    -   `short`: an integer type, represents small whole numbers\n",
    "\n",
    "    -   `int`: an integer type, represents whole numbers\n",
    "\n",
    "    -   `long int`, `long long int`: an integer type, represents large or very large whole numbers\n",
    "\n",
    "    -   `float`: single precision floating point number\n",
    "\n",
    "    -   `double`, `long double`: double precision floating point number\n",
    "\n",
    "    -   a few others"
   ]
  },
  {
   "cell_type": "markdown",
   "metadata": {
    "slideshow": {
     "slide_type": "slide"
    }
   },
   "source": [
    "### Data types\n",
    "\n",
    "-   Every C variable must have a type (strongly typed language)\n",
    "\n",
    "-   On 64-bit Linux systems these require 1 (char), 2 (short) ,4 (int, long, float),8 (long long, double), and 16 (long double) bytes\n",
    "\n",
    "-   Size in bytes needed for memory management and I/O\n",
    "\n",
    "-   Compiler can choose size of integers subject to:\n",
    "\n",
    "    -   `short int` and `int` are at least 16 bits (2 bytes)\n",
    "\n",
    "    -   `long int` is at least 32 bits (4 bytes)"
   ]
  },
  {
   "cell_type": "markdown",
   "metadata": {
    "slideshow": {
     "slide_type": "slide"
    }
   },
   "source": [
    "### Data type qualifiers\n",
    "\n",
    "-   On 64-bit Linux:\n",
    "\n",
    "\n",
    "- `char`        1 byte    -128 to 127\n",
    "- `short int`   2 bytes   -32768 to +32767\n",
    "- `int`         4 bytes   -2147483648 to +2147483647\n",
    "- `long int`    8 bytes   -9223372036854775808 to +9223372036854775807"
   ]
  },
  {
   "cell_type": "markdown",
   "metadata": {
    "slideshow": {
     "slide_type": "slide"
    }
   },
   "source": [
    "### `signed` vs `unsigned`\n",
    "\n",
    "-   `signed`/`unsigned`: applies to `char` or integer types.\n",
    "\n",
    "-   `unsigned` integers are always positive or 0\n",
    "\n",
    "     - `signed char`     8 bits (1 byte) integer \\[-128,127\\]\n",
    "     - `unsigned char`   8 bits (1 byte) integer \\[0,255\\]\n",
    "\n",
    "-   the files `<limits.h>` and `<float.h>` specify what limits apply on\n",
    "    a given system\n",
    "\n",
    "-   they are system and architecture dependent"
   ]
  },
  {
   "cell_type": "markdown",
   "metadata": {
    "slideshow": {
     "slide_type": "slide"
    }
   },
   "source": [
    "### Character constants\n",
    "\n",
    "-   These are integer values that are written as a character in single\n",
    "    quotes\n",
    "\n",
    "-   e.g. `'0'` = `48` in the ASCII character set\n",
    "\n",
    "-   These can also include escape characters:\n",
    "\n",
    "     - `'\\n'`   newline character\n",
    "     - `'\\a'`   alert (bell) character\n",
    "     - `'\\t'`   horizontal tab\n",
    "     - `'\\0'`   `NULL` character\n"
   ]
  },
  {
   "cell_type": "markdown",
   "metadata": {
    "slideshow": {
     "slide_type": "slide"
    }
   },
   "source": [
    "### Character constants\n",
    "\n",
    "-   On UNIX, you can run the `man ascii` command for more information. (Press `q` to exit.)\n",
    "\n",
    "-   Example:"
   ]
  },
  {
   "cell_type": "code",
   "execution_count": 1,
   "metadata": {
    "slideshow": {
     "slide_type": "fragment"
    }
   },
   "outputs": [],
   "source": [
    "#include <stdio.h>\n",
    "\n",
    "#define NEWLINE '\\n'\n",
    "\n",
    "int main(){\n",
    "    printf(\"[%c]\", NEWLINE);\n",
    "    return 0;\n",
    "}"
   ]
  },
  {
   "cell_type": "markdown",
   "metadata": {
    "slideshow": {
     "slide_type": "slide"
    }
   },
   "source": [
    "### String constants\n",
    "\n",
    "-   These are zero or more characters in double quotes\n",
    "\n",
    "-   An array of chars that has a `NULL`\n",
    "    character at the end of the string `'\\0'`\n",
    "\n",
    "       - `char a[]=\"Hello\";` is the same as \n",
    "       - `char a[]={'H','e','l','l','o','\\0'};`"
   ]
  },
  {
   "cell_type": "code",
   "execution_count": null,
   "metadata": {
    "slideshow": {
     "slide_type": "fragment"
    }
   },
   "outputs": [],
   "source": [
    "#include <string.h>\n",
    "#include <stdio.h>\n",
    "\n",
    "int main(){\n",
    "    char a[] = \"x\";\n",
    "    char b = 'x';\n",
    "    printf(\"length of a: [%ld]\\n\", strlen(a)); // returns number of characters\n",
    "    printf(\"size of b: [%ld]\\n\", sizeof(b)); // returns number of bytes\n",
    "    printf(\"size of a: [%ld]\", sizeof(a));\n",
    "}"
   ]
  },
  {
   "cell_type": "markdown",
   "metadata": {
    "slideshow": {
     "slide_type": "slide"
    }
   },
   "source": [
    "### Enumerations\n",
    "\n",
    "-   In many programs, we'll need variables that have only a small set of\n",
    "    meaningful values\n",
    "\n",
    "-   A variable that stores the suit of a playing card should have only\n",
    "    four potential values: \"clubs\", \"diamonds\", \"hearts\", and \"spades\""
   ]
  },
  {
   "cell_type": "markdown",
   "metadata": {
    "slideshow": {
     "slide_type": "slide"
    }
   },
   "source": [
    "### Enumerations\n",
    "\n",
    "-   A \"suit\" variable can be declared as an integer, with a set of codes\n",
    "    that represent the possible values of the variable:\n",
    "\n",
    "        int s; /* s will store a suit */\n",
    "        ...\n",
    "        s = 2; /* 2 represents \"hearts\" */\n",
    "\n",
    "-   Problems with this technique:\n",
    "\n",
    "    -   We can't tell that `s` has only four possible values\n",
    "\n",
    "    -   The significance of `2` isn't apparent"
   ]
  },
  {
   "cell_type": "markdown",
   "metadata": {
    "slideshow": {
     "slide_type": "slide"
    }
   },
   "source": [
    "### Enumerations\n",
    "\n",
    "-   Using macros to define a suit \"type\" and names for the various suits\n",
    "    is a step in the right direction:\n",
    "\n",
    "        #define SUIT     int\n",
    "        #define CLUBS    0\n",
    "        #define DIAMONDS 1\n",
    "        #define HEARTS   2\n",
    "        #define SPADES   3\n",
    "\n",
    "-   An updated version of the previous example:\n",
    "\n",
    "        SUIT s;\n",
    "        ...\n",
    "        s = HEARTS;"
   ]
  },
  {
   "cell_type": "markdown",
   "metadata": {
    "slideshow": {
     "slide_type": "slide"
    }
   },
   "source": [
    "### Enumerations\n",
    "\n",
    "-   Problems with this technique:\n",
    "\n",
    "    -   There's no indication to someone reading the program that the\n",
    "        macros represent values of the same \"type\"\n",
    "\n",
    "    -   If the number of possible values is more than a few, defining a\n",
    "        separate macro for each will be tedious\n",
    "\n",
    "    -   The names `CLUBS`, `DIAMONDS`, `HEARTS` and `SPADES` will be\n",
    "        removed by the preprocessor, so they won't be available during\n",
    "        debugging"
   ]
  },
  {
   "cell_type": "markdown",
   "metadata": {
    "slideshow": {
     "slide_type": "slide"
    }
   },
   "source": [
    "### Enumerations\n",
    "\n",
    "-   C provides a special kind of type designed specifically for\n",
    "    variables that have a small number of possible values\n",
    "\n",
    "-   An enumerated type is a type whose values are listed (\"enumerated\")\n",
    "    by the programmer\n",
    "\n",
    "-   Each value must have a name (an enumeration constant)"
   ]
  },
  {
   "cell_type": "markdown",
   "metadata": {
    "slideshow": {
     "slide_type": "slide"
    }
   },
   "source": [
    "### Enumerations\n",
    "\n",
    "-   Enumerations are declared like this:\n",
    "\n",
    "        enum {CLUBS, DIAMONDS, HEARTS, SPADES};\n",
    "\n",
    "-   The names of the constants must be different from other identifiers\n",
    "    declared in the enclosing scope\n",
    "\n",
    "-   Enumeration constants are similar to `#define` constants directive,\n",
    "    but not equivalent\n",
    "\n",
    "-   If an enumeration is declared inside a function, its constants won't\n",
    "    be visible outside the function"
   ]
  },
  {
   "cell_type": "markdown",
   "metadata": {
    "slideshow": {
     "slide_type": "slide"
    }
   },
   "source": [
    "### Enumerations\n",
    "### Example"
   ]
  },
  {
   "cell_type": "code",
   "execution_count": null,
   "metadata": {
    "slideshow": {
     "slide_type": "fragment"
    }
   },
   "outputs": [],
   "source": [
    "#include <stdio.h>\n",
    "\n",
    "enum suit{CLUBS, DIAMONDS, HEARTS, SPADES};\n",
    "\n",
    "int main(){\n",
    "        printf(\"Clubs [%d]\\n\",CLUBS);\n",
    "        printf(\"Spades [%d]\\n\",SPADES);\n",
    "        enum suit card;\n",
    "        card = DIAMONDS;\n",
    "        printf(\"card is diamond? [%d]\\n\",card==DIAMONDS);\n",
    "}"
   ]
  },
  {
   "cell_type": "markdown",
   "metadata": {
    "slideshow": {
     "slide_type": "slide"
    }
   },
   "source": [
    "### Enumerations\n",
    "\n",
    "-   Behind the scenes, C treats enumeration variables and constants as\n",
    "    integers\n",
    "\n",
    "-   By default, the compiler assigns the integers `0`, `1`, `2`, ...to\n",
    "    the constants in a particular enumeration\n",
    "\n",
    "-   In the suit enumeration, `CLUBS`, `DIAMONDS`, `HEARTS` and `SPADES`\n",
    "    represent `0`, `1`, `2` and `3`, respectively"
   ]
  },
  {
   "cell_type": "markdown",
   "metadata": {
    "slideshow": {
     "slide_type": "slide"
    }
   },
   "source": [
    "### Enumerations as Integers\n",
    "\n",
    "-   The programmer can choose different values for enumeration\n",
    "    constants\n",
    "\n",
    "-   The values of enumeration constants may be arbitrary integers,\n",
    "    listed in no particular order:\n",
    "\n",
    "        enum dept {RESEARCH = 20, PRODUCTION = 10, SALES = 25};\n",
    "\n",
    "-   It's even legal for two or more enumeration constants to have the\n",
    "    same value"
   ]
  },
  {
   "cell_type": "markdown",
   "metadata": {
    "slideshow": {
     "slide_type": "slide"
    }
   },
   "source": [
    "### Enumerations as Integers\n",
    "\n",
    "-   When no value is specified for an enumeration constant, its value is\n",
    "    one greater than the value of the previous constant\n",
    "\n",
    "-   The first enumeration constant has the value `0` by default\n",
    "\n",
    "-   Example:"
   ]
  },
  {
   "cell_type": "code",
   "execution_count": null,
   "metadata": {
    "slideshow": {
     "slide_type": "fragment"
    }
   },
   "outputs": [],
   "source": [
    "#include <stdio.h>\n",
    "\n",
    "enum EGA_colors {BLACK, LT_GRAY = 7, DK_GRAY, WHITE = 15};\n",
    "\n",
    "int main(){\n",
    "        printf(\"Black [%d]\\n\",BLACK);\n",
    "        printf(\"Light Gray [%d]\\n\",LT_GRAY);\n",
    "        printf(\"Dark Gray [%d]\\n\",DK_GRAY);\n",
    "        printf(\"White [%d]\\n\",WHITE);\n",
    "}"
   ]
  },
  {
   "cell_type": "markdown",
   "metadata": {
    "slideshow": {
     "slide_type": "slide"
    }
   },
   "source": [
    "### Structures\n",
    "\n",
    "-   Collections of one or more variables forming a new data structure,\n",
    "    the closest thing C has to an O-O class\n",
    "\n",
    "-   The elements of a structure (its *members*) aren't required to have\n",
    "    the same type\n",
    "\n",
    "-   The members of a structure have names; to select a particular\n",
    "    member, we specify its name\n",
    "\n",
    "-   In some languages, structures are called records, and members are\n",
    "    known as fields\n"
   ]
  },
  {
   "cell_type": "markdown",
   "metadata": {
    "slideshow": {
     "slide_type": "slide"
    }
   },
   "source": [
    "### Structures\n",
    "### Example"
   ]
  },
  {
   "cell_type": "code",
   "execution_count": null,
   "metadata": {},
   "outputs": [],
   "source": [
    "#include <stdio.h>\n",
    "\n",
    "struct point {\n",
    "    int x;\n",
    "    int y;\n",
    "};\n",
    "\n",
    "int main(){\n",
    "    // Initialise a struct\n",
    "    struct point a_point = {5, 6}; // or without initialisation: struct point a_point;\n",
    "    printf(\"Struct initialised to: [%d,%d]\\n\", a_point.x,a_point.y);\n",
    "\n",
    "    // Access to variable members of the structure:\n",
    "    a_point.x = 4;\n",
    "    a_point.y = 3;\n",
    "    printf(\"Struct values after assignment: [%d,%d]\\n\", a_point.x,a_point.y);\n",
    "\n",
    "    return 0;\n",
    "}"
   ]
  },
  {
   "cell_type": "markdown",
   "metadata": {
    "slideshow": {
     "slide_type": "slide"
    }
   },
   "source": [
    "### Structure and scope\n",
    "\n",
    "    struct point {\n",
    "      int x;\n",
    "      int y;\n",
    "    };\n",
    "\n",
    "-   Each structure represents a new scope\n",
    "\n",
    "-   Any names declared in that scope won't conflict with other names in\n",
    "    a program\n",
    "\n",
    "-   In C terminology, each structure has a separate name space for its\n",
    "    members\n"
   ]
  },
  {
   "cell_type": "markdown",
   "metadata": {
    "slideshow": {
     "slide_type": "slide"
    }
   },
   "source": [
    "### Operations on structures\n",
    "\n",
    "-   The `.` used to access a structure member is actually a C operator\n",
    "\n",
    "-   It takes precedence over nearly all other operators\n",
    "\n",
    "-   Example:\n",
    "\n",
    "        z = 20*a_point.x;\n",
    "\n",
    "-   The `.` operator takes precedence over the `*` operator\n"
   ]
  },
  {
   "cell_type": "markdown",
   "metadata": {
    "slideshow": {
     "slide_type": "slide"
    }
   },
   "source": [
    "### Assignment of structures\n",
    "\n",
    "-   The other major structure operation is assignment:\n",
    "\n",
    "        point2 = point1;\n",
    "\n",
    "-   The effect of this statement is to copy `point1.x` into `point2.x`,\n",
    "    `point1.y` into `point2.y` and so on\n",
    "\n",
    "-   The structures must have compatible types"
   ]
  },
  {
   "cell_type": "markdown",
   "metadata": {
    "slideshow": {
     "slide_type": "slide"
    }
   },
   "source": [
    "### Nested structures\n",
    "- structs can contain structs (can contain structs (...))\n",
    "- Example"
   ]
  },
  {
   "cell_type": "code",
   "execution_count": null,
   "metadata": {
    "slideshow": {
     "slide_type": "fragment"
    }
   },
   "outputs": [],
   "source": [
    "#include <stdio.h>\n",
    "#include <string.h>\n",
    "\n",
    "struct point {\n",
    "    int x;\n",
    "    int y;\n",
    "};\n",
    "\n",
    "struct rect{\n",
    "    struct point pt1;\n",
    "    struct point pt2;\n",
    "};\n",
    "\n",
    "int main(){\n",
    "    struct rect a_window;\n",
    "    a_window.pt1.x = 4;  // assign a point\n",
    "    printf(\"x coordinate of point 1: [%d]\\n\", a_window.pt1.x);\n",
    "    printf(\"size of window: [%ld]\\n\", sizeof(a_window));\n",
    "    printf(\"size of 4 ints: [%ld]\\n\", sizeof(int)*4);\n",
    "    return 0;\n",
    "}"
   ]
  }
 ],
 "metadata": {
  "celltoolbar": "Slideshow",
  "jupytext": {
   "formats": "ipynb"
  },
  "kernelspec": {
   "display_name": "C",
   "language": "c",
   "name": "c"
  },
  "language_info": {
   "file_extension": ".c",
   "mimetype": "text/plain",
   "name": "c"
  },
  "rise": {
   "autolaunch": true,
   "enable_chalkboard": true,
   "scroll": true,
   "theme": "white"
  }
 },
 "nbformat": 4,
 "nbformat_minor": 2
}
