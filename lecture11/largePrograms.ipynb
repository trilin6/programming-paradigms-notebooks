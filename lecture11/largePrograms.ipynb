{
 "cells": [
  {
   "cell_type": "markdown",
   "metadata": {
    "slideshow": {
     "slide_type": "slide"
    }
   },
   "source": [
    "# Systems Programming\n",
    "\n",
    "## Lecture 11: Large Programs\n",
    "\n",
    "### Amir Atapour-Abarghouei\n",
    "\n",
    "amir.atapour-abarghouei@durham.ac.uk\n"
   ]
  },
  {
   "cell_type": "markdown",
   "metadata": {
    "slideshow": {
     "slide_type": "slide"
    }
   },
   "source": [
    "# Recap\n",
    "\n",
    "In the previous lecture, we learned about **Debugging**\n",
    "\n",
    "### `gdb`\n",
    "\n",
    "- running the program\n",
    "\n",
    "- inspecting variables\n",
    "\n",
    "- Breakpoints\n",
    "\n",
    "- Watchpoints\n",
    "\n",
    "- Attaching to running processes\n",
    "\n",
    "- Command-line options\n"
   ]
  },
  {
   "cell_type": "markdown",
   "metadata": {
    "slideshow": {
     "slide_type": "slide"
    }
   },
   "source": [
    "# Recap\n",
    "\n",
    "We also learned about **Recursion**, which is a function that calls itself. This must have both a:\n",
    "- base case\n",
    "- recursive case\n",
    "\n",
    "To terminate, the base case must happen\n",
    "- Relies on the run time system to:\n",
    "    - create the function’s scope\n",
    "    - keep track of the local variables for each call\n",
    "    - This is a performance overhead compared to iterative loops"
   ]
  },
  {
   "cell_type": "markdown",
   "metadata": {
    "slideshow": {
     "slide_type": "slide"
    }
   },
   "source": [
    "## Today\n",
    "\n",
    "# Large Programs"
   ]
  },
  {
   "cell_type": "markdown",
   "metadata": {
    "slideshow": {
     "slide_type": "slide"
    }
   },
   "source": [
    "# Scope - again\n",
    "\n",
    "- Scope in a single file has two specific uses:\n",
    "    - Local identifiers visible only in code blocks.\n",
    "    - Global identifiers visible to all functions in one file\n",
    "\n",
    "- Larger programs need multiple source files.\n",
    "\n",
    "- Therefore scope has to be managed across files in large programs and external libraries like OpenGL.\n",
    "\n",
    "- In C, functions and variables must be **declared** before they are used, but can be *defined later*."
   ]
  },
  {
   "cell_type": "markdown",
   "metadata": {
    "slideshow": {
     "slide_type": "slide"
    }
   },
   "source": [
    "# Multiple Source Files\n",
    "\n",
    "- A C program may be divided among any number of source files.\n",
    "\n",
    "- By convention, source files have the extension `.c`\n",
    "\n",
    "- Each source file contains part of the program:\n",
    "    - primarily definitions of functions and variables\n",
    "    \n",
    "- One source file must still contain a function named `main()`, which is the **<ins>entry point</ins>** for the program."
   ]
  },
  {
   "cell_type": "markdown",
   "metadata": {
    "slideshow": {
     "slide_type": "slide"
    }
   },
   "source": [
    "# Header Files\n",
    "\n",
    "Problems that arise when a program is divided into several source files:\n",
    "\n",
    "- How can a function in one file call a function that’s defined in another file?\n",
    "- How can a function access an external variable in another file?\n",
    "- How can two files share the same macro definition or type definition?\n",
    "\n",
    "The answer lies with the `#include` directive, which makes it possible to share information among any number of source files."
   ]
  },
  {
   "cell_type": "markdown",
   "metadata": {
    "slideshow": {
     "slide_type": "slide"
    }
   },
   "source": [
    "# Header and Multiple Source Files\n",
    "\n",
    "- `func.h`\n",
    "    - header: contains the **declarations** needed to use functions in `func.c`\n",
    "    \n",
    "- `func.c`\n",
    "\n",
    "    - `#include \"func.h\"`\n",
    "    - source: contains the **definitions** of global and private functions and variables\n",
    "    \n",
    "- `main.c`\n",
    "\n",
    "    -  `#include \"func.h\"`\n",
    "    - this file should contain at least the `main()` function"
   ]
  },
  {
   "cell_type": "markdown",
   "metadata": {
    "slideshow": {
     "slide_type": "slide"
    }
   },
   "source": [
    "# Sharing Identifier Declarations\n",
    "\n",
    "- When variables and functions need to be shared between files there often needs to be a way to separate declarations and definitions.\n",
    "\n",
    "    - We can then declare identifiers so that they can be used in any file, while keeping the definition in a single place in one file.\n",
    "    \n",
    "- The solution to this is the `extern` modifier."
   ]
  },
  {
   "cell_type": "markdown",
   "metadata": {
    "slideshow": {
     "slide_type": "slide"
    }
   },
   "source": [
    "# `extern` with Variables\n",
    "\n",
    "Use the header file to contain the declarations of variables that are shared with other files:\n",
    "\n",
    "```c\n",
    "func.h\n",
    "    extern int cost; // declaration\n",
    "    \n",
    "func.c\n",
    "    int cost = 1;    // definition\n",
    "\n",
    "```"
   ]
  },
  {
   "cell_type": "markdown",
   "metadata": {
    "slideshow": {
     "slide_type": "slide"
    }
   },
   "source": [
    "# Abstract Data Types\n",
    "\n",
    "- How should we divide functions into files?\n",
    "\n",
    "- Abstract data types pre-date O-O concepts.\n",
    "\n",
    "- Abstraction is the idea of separating what something is from how it works, by separating interface from implementation.\n",
    "\n",
    "- Identify key data types and encapsulate them in separate files.\n",
    "\n",
    "- Access the instances using the public interface, functions and variables.\n",
    "\n",
    "- Hide other implementation details from the users."
   ]
  },
  {
   "cell_type": "markdown",
   "metadata": {
    "slideshow": {
     "slide_type": "slide"
    }
   },
   "source": [
    "# Wall of Abstraction\n",
    "\n",
    "<center><img src=\"images/wall.png\" alt=\"Wall of Abstraction\" width=\"1000\"></center>"
   ]
  },
  {
   "cell_type": "markdown",
   "metadata": {
    "slideshow": {
     "slide_type": "slide"
    }
   },
   "source": [
    "# ADT Benefits\n",
    "\n",
    "- Abstraction\n",
    "    - from the implementation details\n",
    "- Encapsulation\n",
    "    - user cannot access internals\n",
    "- Independence\n",
    "    - reduces number of interactions\n",
    "- Flexibility\n",
    "    - implementation change transparent\n",
    "- Protection from our brain’s limited powers to manage complexity in systems."
   ]
  },
  {
   "cell_type": "markdown",
   "metadata": {
    "slideshow": {
     "slide_type": "slide"
    }
   },
   "source": [
    "# ADT Implementation\n",
    "\n",
    "- C usually implements complex types with a `struct` definition.\n",
    "\n",
    "- In part to hide the details of the struct, ADTs are sometimes implemented with only a pointer type visible to the user, the struct itself remains private to the ADT source file.\n",
    "\n",
    "- More modern languages than C have clearer ways to handle this through class definitions\n"
   ]
  },
  {
   "cell_type": "markdown",
   "metadata": {
    "slideshow": {
     "slide_type": "slide"
    }
   },
   "source": [
    "# ADT implementation for `POINT_T`\n",
    "\n",
    "- Publicly in the header file `point.h`, define a new type:\n",
    "\n",
    "    ```c\n",
    "    typedef struct PointStructType *POINT_T;\n",
    "    ```\n",
    "\n",
    "- Privately in the source file `point.c`, declare the underlying structure:\n",
    "\n",
    "    ```c\n",
    "    struct PointStructType {\n",
    "        double array[NUM_DIMS];\n",
    "    };\n",
    "    ```"
   ]
  },
  {
   "cell_type": "markdown",
   "metadata": {
    "slideshow": {
     "slide_type": "slide"
    }
   },
   "source": [
    "# `typedef` -  Simple Example"
   ]
  },
  {
   "cell_type": "code",
   "execution_count": null,
   "metadata": {
    "slideshow": {
     "slide_type": "fragment"
    }
   },
   "outputs": [],
   "source": [
    "#include <stdio.h>\n",
    "#include <string.h>\n",
    " \n",
    "typedef struct Humans {\n",
    "    char name[50];\n",
    "    int age;\n",
    "    char status[50];\n",
    "} Human;\n",
    " \n",
    "int main( ) {\n",
    "\n",
    "    Human human;\n",
    "\n",
    "    strcpy( human.name, \"Amir\");\n",
    "    human.age = 1135296000;\n",
    "    strcpy( human.status, \"Good-Looking\");\n",
    "    \n",
    "    printf( \"human name : %s\\n\", human.name);\n",
    "    printf( \"human age : %d seconds\\n\", human.age);\n",
    "    printf( \"human status : %s\\n\", human.status);\n",
    "    return 0;\n",
    "}"
   ]
  },
  {
   "cell_type": "markdown",
   "metadata": {
    "slideshow": {
     "slide_type": "slide"
    }
   },
   "source": [
    "# `typedef` - Example"
   ]
  },
  {
   "cell_type": "code",
   "execution_count": null,
   "metadata": {
    "slideshow": {
     "slide_type": "fragment"
    }
   },
   "outputs": [],
   "source": [
    "#include <stdio.h>\n",
    "#include <string.h>\n",
    "\n",
    "// A triangle ADT\n",
    "// Defining the sides of the triangle\n",
    "typedef struct Triangle {\n",
    "  int a;\n",
    "  int b;\n",
    "  int c;\n",
    "} Tri;\n",
    "\n",
    "int TrianglePerimeter(const Tri *tri) {\n",
    "  return tri->a + tri->b + tri->c;\n",
    "}\n",
    "\n",
    "int main() {\n",
    "  Tri t1 = { 3, 4, 5 };\n",
    "  printf(\"perimeter is %d\", TrianglePerimeter(&t1));\n",
    "}"
   ]
  },
  {
   "cell_type": "markdown",
   "metadata": {
    "slideshow": {
     "slide_type": "slide"
    }
   },
   "source": [
    "# Large Programs\n",
    "\n",
    "- Split large software projects into separate files to manage complexity.\n",
    "\n",
    "- `extern` allows variables and functions to be declared and shared in header files.\n",
    "\n",
    "- `#include` allows header (`.h`) files to be included wherever needed.\n",
    "\n",
    "- `typedef` allows the creation of new abstract data types that encapsulate implementation privately."
   ]
  },
  {
   "cell_type": "markdown",
   "metadata": {
    "slideshow": {
     "slide_type": "slide"
    }
   },
   "source": [
    "## We will learn about creating libraries next lecture...!"
   ]
  },
  {
   "cell_type": "markdown",
   "metadata": {
    "slideshow": {
     "slide_type": "slide"
    }
   },
   "source": [
    "# Compilation Model\n",
    "\n",
    "<center><img src=\"images/compile.png\" alt=\"Compilation Model\" width=\"750\"></center>"
   ]
  },
  {
   "cell_type": "markdown",
   "metadata": {
    "slideshow": {
     "slide_type": "slide"
    }
   },
   "source": [
    "# The C Preprocessor\n",
    "\n",
    "<center><img src=\"images/pre-processor.png\" alt=\"pre-processor\" width=\"320\"></center>\n",
    "\n",
    "Directives such as `#define` and `#include` are handled by the preprocessor, a piece of software that edits C programs just prior to compilation.\n",
    "\n",
    "Its reliance on a preprocessor makes C (and C++) unique among major programming languages."
   ]
  },
  {
   "cell_type": "markdown",
   "metadata": {
    "slideshow": {
     "slide_type": "slide"
    }
   },
   "source": [
    "# Macros vs Functions"
   ]
  },
  {
   "cell_type": "code",
   "execution_count": null,
   "metadata": {
    "slideshow": {
     "slide_type": "fragment"
    }
   },
   "outputs": [],
   "source": [
    "#include <stdio.h>\n",
    "\n",
    "#define PI 3.1415\n",
    "#define circleAreaMacro(r) (PI*r*r)\n",
    "\n",
    "float circleAreaFunc(r) {\n",
    "    return PI*r*r;\n",
    "}\n",
    "\n",
    "int main() {\n",
    "    float radius = 2, areaM, areaF;\n",
    "    areaM = circleAreaMacro(radius);\n",
    "    areaF = circleAreaFunc(radius);\n",
    "    printf(\"Area    [Macro] = %.2f\\n\", areaM);\n",
    "    printf(\"Area [Function] = %.2f\\n\", areaF);\n",
    "\n",
    "    return 0;\n",
    "}"
   ]
  },
  {
   "cell_type": "markdown",
   "metadata": {
    "slideshow": {
     "slide_type": "slide"
    }
   },
   "source": [
    "# Macros vs Functions\n",
    "\n",
    "- Macros are preprocessed but Functions are compiled.\n",
    "- No Type Checking takes place in Macros.\n",
    "- Using Macros increases the code length and Macros are hard to debug.\n",
    "- Speed of execution is faster with Macros.\n",
    "- Macros are useful when small code is repeated many times.\n"
   ]
  },
  {
   "cell_type": "markdown",
   "metadata": {
    "slideshow": {
     "slide_type": "slide"
    }
   },
   "source": [
    "# Conditional `include`\n",
    "\n",
    "```c\n",
    "#ifndef CODE_H\n",
    "    #define CODE_H     // define the identifier\n",
    "    extern void setCount( int val );\n",
    "#endif\n",
    "```\n",
    "\n",
    "This allows the header file to be `#include`d many times\n",
    "- If the header file has not been seen before, set definitions.\n",
    "    - And set that we’ve seen it before - #define CODE_H\n",
    "    - Otherwise skip"
   ]
  },
  {
   "cell_type": "markdown",
   "metadata": {
    "slideshow": {
     "slide_type": "slide"
    }
   },
   "source": [
    "# The Link Editor (Linker)\n",
    "\n",
    "<center><img src=\"images/linker.png\" alt=\"linker\" width=\"520\"></center>\n",
    "\n",
    "The linker’s job is to combine all the files needed to form the executable.\n",
    "\n",
    "- It specifically has to resolve all symbols, functions and variables, it most often fails when it can’t find required object code, for example because it is in the wrong folder, or you have forgotten to specify which external library to link with e.g. the maths library with `-lm`."
   ]
  },
  {
   "cell_type": "markdown",
   "metadata": {
    "slideshow": {
     "slide_type": "slide"
    }
   },
   "source": [
    "# `make`\n",
    "\n",
    "- You learned about `make` in Lecture 4.\n",
    "\n",
    "- You can easily find it on almost any system today:\n",
    "    - Mac OS\n",
    "    - Any Linux System\n",
    "    - Easy to get on Windows\n",
    "    \n",
    "- Helps create object files from the source and then linking the object files to create the executable using a rule-set.\n",
    "\n",
    "- Very helpful in large projects.\n",
    "\n",
    "- You learned about alternatives earlier as well."
   ]
  },
  {
   "cell_type": "markdown",
   "metadata": {
    "slideshow": {
     "slide_type": "slide"
    }
   },
   "source": [
    "# Recap - Makefiles\n",
    "\n",
    "\n",
    "- The `Makefile` is a rule-file that enables `make` to compile and link files into the final executable..\n",
    "\n",
    "- Declarative programming style set of rules for building the program.\n",
    "```\n",
    "    target [target ...]: [component ...]\n",
    "           [command 1]\n",
    "               ...\n",
    "           [command n]\n",
    "```\n",
    "- `target` - what you want to make\n",
    "- `component` - something which needs to exist (might need another rule)\n",
    "- `command` - need TAB"
   ]
  },
  {
   "cell_type": "markdown",
   "metadata": {
    "slideshow": {
     "slide_type": "slide"
    }
   },
   "source": [
    "# Recap - Makefiles: Example\n",
    "\n",
    "- Files: `main.c`, `counter.h`, `counter.c`, `sales.h`, `sales.c`\n",
    "\n",
    "```\n",
    "all: counter.o sales.o main.c\n",
    "        gcc -o program main.c counter.o sales.o\n",
    "        \n",
    "counter.o: counter.c counter.h\n",
    "        gcc -c counter.c\n",
    "```\n",
    "```\n",
    "sales.o: sales.c sales.h\n",
    "        gcc -c sales.c\n",
    "        \n",
    "clean:\n",
    "        rm -rf program counter.o sales.o\n",
    "```"
   ]
  },
  {
   "cell_type": "markdown",
   "metadata": {
    "slideshow": {
     "slide_type": "slide"
    }
   },
   "source": [
    "# Recap - Makefiles\n",
    "    \n",
    "- Nothing to do with C\n",
    "\n",
    "```\n",
    "all: say_hello generate\n",
    "\n",
    "say_hello:\n",
    "\t@echo \"Hello World\"\n",
    "```\n",
    "```\n",
    "generate:\n",
    "\t@echo \"Creating empty text files...\"\n",
    "\ttouch file-{1..10}.txt\n",
    "\n",
    "clean:\n",
    "\t@echo \"Cleaning up...\"\n",
    "\trm *.txt\n",
    "```"
   ]
  },
  {
   "cell_type": "markdown",
   "metadata": {
    "slideshow": {
     "slide_type": "slide"
    }
   },
   "source": [
    "# Summary\n",
    "\n",
    "- Source files and header files\n",
    "\n",
    "- Sharing declarations\n",
    "\n",
    "- `extern`\n",
    "\n",
    "- Abstract data types\n",
    "\n",
    "- `typedef`\n",
    "\n",
    "- Preprocessing"
   ]
  }
 ],
 "metadata": {
  "celltoolbar": "Slideshow",
  "jupytext": {
   "formats": "ipynb"
  },
  "kernelspec": {
   "display_name": "C",
   "language": "c",
   "name": "c"
  },
  "language_info": {
   "file_extension": ".c",
   "mimetype": "text/plain",
   "name": "c"
  },
  "rise": {
   "autolaunch": true,
   "enable_chalkboard": true,
   "scroll": true,
   "theme": "white"
  }
 },
 "nbformat": 4,
 "nbformat_minor": 2
}
