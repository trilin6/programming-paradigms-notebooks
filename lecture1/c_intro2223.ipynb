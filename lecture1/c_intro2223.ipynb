{
 "cells": [
  {
   "cell_type": "markdown",
   "metadata": {
    "slideshow": {
     "slide_type": "slide"
    }
   },
   "source": [
    "# Systems Programming\n",
    "\n",
    "### Lecture 1: A first look at C\n",
    "\n",
    "### Anne Reinarz\n",
    "\n",
    "anne.k.reinarz@durham.ac.uk\n",
    "\n"
   ]
  },
  {
   "cell_type": "markdown",
   "metadata": {
    "slideshow": {
     "slide_type": "slide"
    }
   },
   "source": [
    "# Introduction to C"
   ]
  },
  {
   "cell_type": "markdown",
   "metadata": {
    "slideshow": {
     "slide_type": "slide"
    }
   },
   "source": [
    "# Structure of Module\n",
    "- Term 1: Systems Programming (C, UNIX commandline, Makefiles, C++) -> me and Amir\n",
    "- Term 2, first half: Functional Programming (Haskell) -> Laura\n",
    "- Term 2, second half: Object-Oriented Programming -> Hubert\n",
    "\n",
    "\n",
    "- Amir is module lead: pass him any general questions about the module. For everything else contact the lecturer of that component.\n",
    "    - We're happy to help"
   ]
  },
  {
   "cell_type": "markdown",
   "metadata": {
    "slideshow": {
     "slide_type": "slide"
    }
   },
   "source": [
    "# Feedback\n",
    "\n",
    "1. Please do let me know how I am doing.\n",
    "    - am I going too fast? too slow?\n",
    "    - what is going well? badly?\n",
    "    \n",
    "2. Don't hesitate to let me know if there is something you can't see/hear."
   ]
  },
  {
   "cell_type": "markdown",
   "metadata": {
    "slideshow": {
     "slide_type": "slide"
    }
   },
   "source": [
    "# Key topics for this sub-module\n",
    "\n",
    "- UNIX/Linux shell programming\n",
    "- Syntax and semantics of the C programming language\n",
    "- Memory access and management\n",
    "- Design of large programs in non-object-oriented language\n",
    "- Basics of C++\n",
    "\n"
   ]
  },
  {
   "cell_type": "markdown",
   "metadata": {
    "slideshow": {
     "slide_type": "slide"
    }
   },
   "source": [
    "# Organisation\n",
    "\n",
    "### Practicals: \n",
    "- start in week 2\n",
    "- very important, you will learn most by trying things out yourself.\n",
    "    \n",
    "### Module Requirements\n",
    "- Some background assumed in programming\n",
    "- No C/C++ knowledge assumed"
   ]
  },
  {
   "cell_type": "markdown",
   "metadata": {
    "slideshow": {
     "slide_type": "slide"
    }
   },
   "source": [
    "# Organisation\n",
    "\n",
    "### Formative Assessment: \n",
    "- Coursework 1:\n",
    "    - same format as summative\n",
    "    - see what is expected in the summative\n",
    "\n",
    "### Summative Assessment\n",
    "- Coursework 2: \n",
    "    - hand-out: Week 4\n",
    "    - 100% of mark for this submodule\n",
    "    - 50% of mark for module\n",
    "    - Functional and Object Oriented Programming will be assessed by exam"
   ]
  },
  {
   "cell_type": "markdown",
   "metadata": {
    "slideshow": {
     "slide_type": "slide"
    }
   },
   "source": [
    "# Resources and Books\n",
    "\n",
    "- The good reference text for C programming is \n",
    "    - The C Programming Language, Kernighan and Ritchie, Second Edition, Prentice Hall, ISBN 0-13-110362-8\n",
    "    - Exercise answers: https://web.archive.org/web/*/http://www.trunix.org/programlama/c/kandr2/\n",
    "\n",
    "- Based on the Kernighan and Ritchie book Steve Summit has a good set of free tutorial notes on C programming: \n",
    "    - http://www.eskimo.com/~scs/cclass/"
   ]
  },
  {
   "cell_type": "markdown",
   "metadata": {
    "slideshow": {
     "slide_type": "slide"
    }
   },
   "source": [
    "# Resources and Books\n",
    "\n",
    "- An excellent and comprehensive modern book is: \n",
    "    - C Programming A Modern Approach, K.N. King, Second Edition, ISBN 978-0-393-97950-3\n",
    "\n",
    "- See https://stackoverflow.com/questions/562303/the-definitive-c-book-guide-and-list for further book suggestions.\n",
    "\n",
    "- Try to practice writing code more than you read\n",
    "    - Site provides very short tasks and shows you other solutions to the problem\n",
    "    - Code wars: https://www.codewars.com/"
   ]
  },
  {
   "cell_type": "markdown",
   "metadata": {
    "slideshow": {
     "slide_type": "slide"
    }
   },
   "source": [
    "## A First Program\n",
    "\n"
   ]
  },
  {
   "cell_type": "code",
   "execution_count": null,
   "metadata": {
    "slideshow": {
     "slide_type": "fragment"
    }
   },
   "outputs": [],
   "source": [
    "#include <stdio.h>\n",
    "\n",
    "int main() {    \n",
    "    printf(\"Hello, World!\\n\");    \n",
    "    return 0;\n",
    "}"
   ]
  },
  {
   "cell_type": "markdown",
   "metadata": {
    "slideshow": {
     "slide_type": "fragment"
    }
   },
   "source": [
    "Saved in a file with a \"`.c`\" file extension, for example\n",
    "\"`helloworld.c`\""
   ]
  },
  {
   "cell_type": "markdown",
   "metadata": {
    "slideshow": {
     "slide_type": "slide"
    }
   },
   "source": [
    "Let's go through this program line by line."
   ]
  },
  {
   "cell_type": "markdown",
   "metadata": {
    "slideshow": {
     "slide_type": "slide"
    }
   },
   "source": [
    "### Pre-processor Directives\n",
    "\n",
    "-   Lines that start with a `#` are commands to the C pre-processor\n",
    "\n",
    "        #include <stdio.h> \n",
    "\n",
    "-   looks for the source code file `stdio.h` and includes it before\n",
    "    compilation\n",
    "\n",
    "-   `stdio.h` is a file required to use the standard input and output\n",
    "    library"
   ]
  },
  {
   "cell_type": "markdown",
   "metadata": {
    "slideshow": {
     "slide_type": "slide"
    }
   },
   "source": [
    "### The `main()` Function Declaration\n",
    "\n",
    "> int main() {    \n",
    "    printf(\"Hello, World!\\n\");    \n",
    "    return 0;    \n",
    "}\n",
    "\n",
    "-   All C programs have an entry function called `main()`. This is\n",
    "    called by the runtime system to start your program running.\n",
    "\n",
    "- You can only have one of these"
   ]
  },
  {
   "cell_type": "markdown",
   "metadata": {
    "slideshow": {
     "slide_type": "slide"
    }
   },
   "source": [
    "### The `printf()` Function Call\n",
    "\n",
    "> printf(\"Hello, World!\\n\");\n",
    "\n",
    "-   Function call to `printf()` which implements formatted text printing\n",
    "    to the console window.\n",
    "\n",
    "-   The string argument includes an escape sequence '`\\n`'\n",
    "\n",
    "    -   this generates a newline character\n"
   ]
  },
  {
   "cell_type": "markdown",
   "metadata": {
    "slideshow": {
     "slide_type": "slide"
    }
   },
   "source": [
    "### Function `return` Statement\n",
    "\n",
    "> return 0;\n",
    "\n",
    "-   UNIX programs often return a zero value to indicate they have exited\n",
    "    normally\n",
    "\n",
    "-   If there is no return statement, this will not cause a problem at\n",
    "    compile-time\n",
    "\n",
    "-   If the return value is of the wrong type this may cause a warning at\n",
    "    compile-time or a problem at run-time"
   ]
  },
  {
   "cell_type": "markdown",
   "metadata": {
    "slideshow": {
     "slide_type": "slide"
    }
   },
   "source": [
    "# Structure of any C project\n",
    "\n",
    "- must have a main() function.\n",
    "- only functions called in the main will be executed\n",
    "- cannot have more than one main even in seperate files (will not compile)"
   ]
  },
  {
   "cell_type": "markdown",
   "metadata": {
    "slideshow": {
     "slide_type": "slide"
    }
   },
   "source": [
    "### A Second Program"
   ]
  },
  {
   "cell_type": "code",
   "execution_count": null,
   "metadata": {
    "slideshow": {
     "slide_type": "fragment"
    }
   },
   "outputs": [],
   "source": [
    "#include <stdio.h>\n",
    "\n",
    "int main() {\n",
    "    printf(\"Hello, \");\n",
    "    printf(\"World!\");\n",
    "    printf(\"\\n\");\n",
    "}"
   ]
  },
  {
   "cell_type": "markdown",
   "metadata": {
    "slideshow": {
     "slide_type": "fragment"
    }
   },
   "source": [
    "-   This produces identical output to the first program\n"
   ]
  },
  {
   "cell_type": "markdown",
   "metadata": {
    "slideshow": {
     "slide_type": "slide"
    }
   },
   "source": [
    "### A Temperature Converter\n"
   ]
  },
  {
   "cell_type": "code",
   "execution_count": null,
   "metadata": {
    "slideshow": {
     "slide_type": "fragment"
    }
   },
   "outputs": [],
   "source": [
    "#include <stdio.h>\n",
    "\n",
    "int tempConv(int F){\n",
    "    return ((F - 32) * 5) / 9;\n",
    "}\n",
    "\n",
    "int main() {\n",
    "        int F = 10; \n",
    "        int C;\n",
    "        C = tempConv(F);\n",
    "        printf(\" %d F = %d C \\n\", F, C );\n",
    "}"
   ]
  },
  {
   "cell_type": "markdown",
   "metadata": {
    "slideshow": {
     "slide_type": "slide"
    }
   },
   "source": [
    "-   This code fragment converts a temperature from Fahrenheit to Celsius\n",
    "    and prints the result\n",
    "\n",
    "-   We could change C to a `double`\n",
    "\n",
    "    -   Store a floating point number\n",
    "\n",
    "    -   We would need to change the output format"
   ]
  },
  {
   "cell_type": "markdown",
   "metadata": {
    "slideshow": {
     "slide_type": "fragment"
    }
   },
   "source": [
    "# include <stdio.h>\n",
    "\n",
    "int main() {\n",
    "    double F = 10; \n",
    "    double C;\n",
    "    C = ((F - 32) * 5) / 9;\n",
    "    printf(\" %2.3f F = %f C \\n\", F, C );\n",
    "    return 0;\n",
    "}"
   ]
  },
  {
   "cell_type": "markdown",
   "metadata": {
    "slideshow": {
     "slide_type": "slide"
    }
   },
   "source": [
    "### `printf()`\n",
    "\n",
    "-   So popular it was added to Java in 5.0\n",
    "\n",
    "-   Variable number of parameters (also added to Java 5.0)\n",
    "\n",
    "\n",
    "-   Number after is the number of characters to output\n",
    "\n",
    "-   Dot followed by number -- number of decimal places\n",
    "\n",
    "\n",
    "\n",
    "\n"
   ]
  },
  {
   "cell_type": "markdown",
   "metadata": {
    "slideshow": {
     "slide_type": "slide"
    }
   },
   "source": [
    "### `printf()`\n",
    "\n",
    "-   First parameter explains how the rest are to be formatted using\n",
    "\n",
    "    -   `%d` signed decimal (`int`)\n",
    "\n",
    "    -   `%u` unsigned decimal\n",
    "\n",
    "    -   `%o`, `%x` octal, hexadecimal\n",
    "\n",
    "    -   `%l` long\n",
    "    -   `%f` floating point so `%4.2f` will give `3.14`\n",
    "\n",
    "    -   `%e` floating point (exponent form)\n",
    "\n",
    "    -   `%c`,`%s` character, string\n",
    "\n",
    "\n"
   ]
  },
  {
   "cell_type": "markdown",
   "metadata": {
    "slideshow": {
     "slide_type": "slide"
    }
   },
   "source": [
    "# Compiling\n",
    "\n",
    "![comp](comp.jpg)"
   ]
  },
  {
   "cell_type": "markdown",
   "metadata": {
    "slideshow": {
     "slide_type": "slide"
    }
   },
   "source": [
    "# Compiling\n",
    "\n",
    "## For now let's look at gcc\n",
    "\n",
    "> gcc -o outfile file.c\n",
    "\n",
    "\n",
    "-   Use `-o` to name the output\n",
    "-   Use `-E` option to do pre-processing only, or call `cpp`\n",
    "\n",
    "-   Use `-S` option to go as far as compilation only\n",
    "\n",
    "-   Use `-c` option to go as far as assembly only\n",
    "\n",
    "-   Use `nm` tool to investigate object libraries\n"
   ]
  },
  {
   "cell_type": "markdown",
   "metadata": {
    "slideshow": {
     "slide_type": "slide"
    }
   },
   "source": [
    "### The C Pre-processor\n",
    "\n",
    "-   Directives such as `#define` and `#include` are handled by the\n",
    "    *pre-processor*, a piece of software that edits C programs just\n",
    "    prior to compilation\n",
    "\n",
    "-   Its reliance on a pre-processor makes C (and C++) unique among major\n",
    "    programming languages"
   ]
  },
  {
   "cell_type": "markdown",
   "metadata": {
    "slideshow": {
     "slide_type": "slide"
    }
   },
   "source": [
    "### The C Pre-processor `#include`\n",
    "\n",
    "-   For system header files use:\n",
    "\n",
    "        #include <stdio.h>\n",
    "\n",
    "-   Looks for the file `stdio.h` in C's include file directories\n",
    "\n",
    "-   On UNIX by convention this is `/usr/include`\n",
    "\n"
   ]
  },
  {
   "cell_type": "markdown",
   "metadata": {
    "slideshow": {
     "slide_type": "slide"
    }
   },
   "source": [
    "### The C Pre-processor `#include`\n",
    "\n",
    "\n",
    "-   For user header files use:\n",
    "\n",
    "        #include\"fibonacci.h\"\n",
    "\n",
    "-   Searches in current directory first then in system directories\n",
    "\n",
    "        -I path\n",
    "\n",
    "-   Adds the directory `path` to the search path for include files when\n",
    "    using `gcc`\n"
   ]
  },
  {
   "cell_type": "markdown",
   "metadata": {
    "slideshow": {
     "slide_type": "slide"
    }
   },
   "source": [
    "### Definitions\n",
    "\n",
    "-   Used to provide definitions in code:\n",
    "\n",
    ">    #define MY_AGE 18\n",
    "\n",
    "> ...\n",
    "\n",
    ">    int nextBirthday = MY_AGE + 1;"
   ]
  },
  {
   "cell_type": "code",
   "execution_count": null,
   "metadata": {
    "slideshow": {
     "slide_type": "fragment"
    }
   },
   "outputs": [],
   "source": [
    "#include <stdio.h>\n",
    "#define MY_AGE 18\n",
    "\n",
    "int main(){\n",
    "    printf(\"My next birthday %d\\n\", MY_AGE+1);\n",
    "    return 0;\n",
    "}"
   ]
  },
  {
   "cell_type": "markdown",
   "metadata": {
    "slideshow": {
     "slide_type": "slide"
    }
   },
   "source": [
    "### Definitions\n",
    "\n",
    "-   Used to provide definitions in code:\n",
    "\n",
    ">    #define A_NAME A_VALUE\n",
    "\n",
    "-   Can also specify name and value at compile time:\n",
    "\n",
    ">  gcc -DMY_AGE=18 myProgram.c\n",
    "\n",
    "-   Pre-processor performs a search and replace of `A_NAME` for\n",
    "    `A_VALUE`\n"
   ]
  },
  {
   "cell_type": "markdown",
   "metadata": {
    "slideshow": {
     "slide_type": "slide"
    }
   },
   "source": [
    "### Definitions\n",
    "\n",
    "- Be careful, do not treat these like variables!\n",
    "- What will this do?"
   ]
  },
  {
   "cell_type": "code",
   "execution_count": null,
   "metadata": {
    "slideshow": {
     "slide_type": "fragment"
    }
   },
   "outputs": [],
   "source": [
    "#include <stdio.h>\n",
    "#define MY_AGE (18+18)\n",
    "\n",
    "int main(){\n",
    "    int age = 18+18;\n",
    "    printf(\"My age times two %d\\n\", age*2);\n",
    "    return 0;\n",
    "}"
   ]
  },
  {
   "cell_type": "markdown",
   "metadata": {
    "slideshow": {
     "slide_type": "slide"
    }
   },
   "source": [
    "### Conditionals\n",
    "\n"
   ]
  },
  {
   "cell_type": "markdown",
   "metadata": {
    "slideshow": {
     "slide_type": "fragment"
    }
   },
   "source": [
    "#ifdef A_NAME // tests if A_NAME is #defined\n",
    "  <program text>      \n",
    "#else\n",
    "  <program text>\n",
    "#endif"
   ]
  },
  {
   "cell_type": "markdown",
   "metadata": {
    "slideshow": {
     "slide_type": "slide"
    }
   },
   "source": [
    "### Conditionals\n",
    "\n"
   ]
  },
  {
   "cell_type": "markdown",
   "metadata": {
    "slideshow": {
     "slide_type": "fragment"
    }
   },
   "source": [
    "-   Can also test for the lack of `A_NAME`:\n"
   ]
  },
  {
   "cell_type": "code",
   "execution_count": null,
   "metadata": {
    "slideshow": {
     "slide_type": "fragment"
    }
   },
   "outputs": [],
   "source": [
    "#ifndef A_NAME // tests if A_NAME is not #defined\n",
    "    <program text>      \n",
    "#else\n",
    "    <program text>\n",
    "#endif"
   ]
  },
  {
   "cell_type": "markdown",
   "metadata": {
    "slideshow": {
     "slide_type": "slide"
    }
   },
   "source": [
    "### Conditional compilation for debugging\n"
   ]
  },
  {
   "cell_type": "code",
   "execution_count": null,
   "metadata": {
    "slideshow": {
     "slide_type": "fragment"
    }
   },
   "outputs": [],
   "source": [
    "#define MY_DEBUG // define an identifier\n",
    "\n",
    "#ifdef MY_DEBUG\n",
    "     assert( i > 0 );\n",
    "     printf( \"i is  %d  \\n\",  i );\n",
    "#endif"
   ]
  },
  {
   "cell_type": "markdown",
   "metadata": {
    "slideshow": {
     "slide_type": "fragment"
    }
   },
   "source": [
    "\n",
    "-   This allows the inclusion of your debugging code only when\n",
    "    `MY_DEBUG` is defined\n",
    "\n",
    "-   No overhead is generated when it is not defined since no code is\n",
    "    included for compilation (compared to a standard `if` statement)\n",
    "\n",
    "-   Can also use `#ifndef` tests if an identifier is not defined\n"
   ]
  },
  {
   "cell_type": "markdown",
   "metadata": {
    "slideshow": {
     "slide_type": "slide"
    }
   },
   "source": [
    "### Parameterized macro definitions\n",
    "\n",
    "-   Definition of a *parameterized macro* (also known as a\n",
    "    *function-like macro*):\n",
    "\n",
    "#define *identifier* replacement-list\n",
    "\n",
    "-   e.g. `#define ADD(a,b) a+b`\n",
    "\n",
    "-   The parameters may appear as many times as desired in the\n",
    "    replacement list\n",
    "\n",
    "-   N.B. There must be no space between the macro name and the left\n",
    "    parenthesis"
   ]
  },
  {
   "cell_type": "markdown",
   "metadata": {
    "slideshow": {
     "slide_type": "slide"
    }
   },
   "source": [
    "# Example"
   ]
  },
  {
   "cell_type": "code",
   "execution_count": null,
   "metadata": {
    "slideshow": {
     "slide_type": "fragment"
    }
   },
   "outputs": [],
   "source": [
    "#include <stdio.h>\n",
    "\n",
    "#define MAX(x,y)   ((x)>(y)?(x):(y))\n",
    "#define IS_EVEN(n) ((n)%2==0)\n",
    "\n",
    "int main(){\n",
    "    printf(\"Max %d\\n\", MAX(6,5));\n",
    "    return 0;\n",
    "}"
   ]
  },
  {
   "cell_type": "markdown",
   "metadata": {
    "slideshow": {
     "slide_type": "slide"
    }
   },
   "source": [
    "# Example\n",
    "\n",
    "-   Invocations of these macros:\n",
    "\n",
    "> int i = MAX(5, 6);\n",
    "\n",
    "-   The same lines after macro replacement:\n",
    "\n",
    "> int i = ((5)>(6)?(5):(6));"
   ]
  },
  {
   "cell_type": "markdown",
   "metadata": {
    "slideshow": {
     "slide_type": "slide"
    }
   },
   "source": [
    "### Parameterised macro definitions\n",
    "\n",
    "-   Using a parameterized macro instead of a true function has a couple\n",
    "    of advantages:\n",
    "\n",
    "    -   The program may be slightly faster. A function call usually\n",
    "        requires some overhead during program execution, but a macro\n",
    "        invocation does not.\n",
    "\n",
    "    -   Macros are \"generic.\" A macro can accept arguments of any type,\n",
    "        provided that the resulting program is valid."
   ]
  },
  {
   "cell_type": "markdown",
   "metadata": {
    "slideshow": {
     "slide_type": "slide"
    }
   },
   "source": [
    "### Parameterised macro definitions\n",
    "\n",
    "-   Potential disadvantages:\n",
    "\n",
    "    -   *Arguments aren't type-checked:* When a C function is called,\n",
    "        the compiler checks each argument to see if it has the\n",
    "        appropriate type. Macro arguments aren't checked by the\n",
    "        pre-processor, nor are they converted\n",
    "\n",
    "    -   They work as direct substitutions in your code. *Always use\n",
    "        brackets to fullest extent possible*\n",
    "\n",
    "        -   e.g. `#define DOUBLE(x) 2*x` might not do what you expect.\n",
    "            Why not?"
   ]
  },
  {
   "cell_type": "markdown",
   "metadata": {
    "slideshow": {
     "slide_type": "slide"
    }
   },
   "source": [
    "## Summary\n",
    "\n",
    "- How to compile a C program\n",
    "- How to write a very basic program\n",
    "- pre-processor macros"
   ]
  },
  {
   "cell_type": "markdown",
   "metadata": {
    "slideshow": {
     "slide_type": "slide"
    }
   },
   "source": [
    "### Next lecture\n",
    "\n",
    "- Small intro to UNIX (covered by Amir)"
   ]
  },
  {
   "cell_type": "code",
   "execution_count": null,
   "metadata": {},
   "outputs": [],
   "source": []
  }
 ],
 "metadata": {
  "celltoolbar": "Slideshow",
  "jupytext": {
   "formats": "ipynb"
  },
  "kernelspec": {
   "display_name": "C",
   "language": "c",
   "name": "c"
  },
  "language_info": {
   "file_extension": ".c",
   "mimetype": "text/plain",
   "name": "c"
  },
  "rise": {
   "autolaunch": true,
   "enable_chalkboard": true,
   "scroll": true,
   "theme": "white"
  }
 },
 "nbformat": 4,
 "nbformat_minor": 2
}
