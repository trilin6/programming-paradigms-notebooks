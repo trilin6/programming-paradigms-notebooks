{
 "cells": [
  {
   "cell_type": "markdown",
   "metadata": {
    "slideshow": {
     "slide_type": "slide"
    }
   },
   "source": [
    "# Systems Programming\n",
    "\n",
    "### Lecture 8: Dynamic Memory Management\n",
    "\n",
    "### Anne Reinarz\n",
    "\n",
    "anne.k.reinarz@durham.ac.uk\n"
   ]
  },
  {
   "cell_type": "markdown",
   "metadata": {
    "slideshow": {
     "slide_type": "slide"
    }
   },
   "source": [
    "# Recap\n",
    "\n",
    "Last lecture, we learned about **Pointers** and **Pointer Arithmetic**\n",
    "\n",
    "```\n",
    "int a[10];\n",
    "int *pa;\n",
    "```\n",
    "These pairs of statements are equivalent using array or pointer notation:\n",
    "```\n",
    "pa = &a[0];\n",
    "pa = a;\n",
    "```\n",
    "<center><img src=\"images/point2first.png\" alt=\"point to array\" width=\"600\"/></center>"
   ]
  },
  {
   "cell_type": "markdown",
   "metadata": {
    "slideshow": {
     "slide_type": "slide"
    }
   },
   "source": [
    "# Recap\n",
    "\n",
    "Last lecture, we learned about **Pointer Arithmetic**\n",
    "\n",
    "```\n",
    "int a[10];\n",
    "int *pa;\n",
    "```\n",
    "These pairs of statements are equivalent (+1 translates to +4 bytes (1 int)):\n",
    "```\n",
    "pa = &a[1];\n",
    "pa = (a+1);\n",
    "```\n",
    "<center><img src=\"images/point2second.png\" alt=\"point to array\" width=\"600\"/></center>"
   ]
  },
  {
   "cell_type": "markdown",
   "metadata": {
    "slideshow": {
     "slide_type": "slide"
    }
   },
   "source": [
    "# Recap\n",
    "\n",
    "We also learned about **Pointers to Pointers**.\n",
    "\n",
    "```\n",
    "int i, *p, **q;\n",
    "p = &i;\n",
    "q = &p;\n",
    "```\n",
    "\n",
    "<center><img src=\"images/pointer2pointer.png\" alt=\"pointer to pointer\" width=\"900\"/></center>\n",
    "\n",
    "\n",
    "- Now `i`, `*p` and `**q` all have value 10."
   ]
  },
  {
   "cell_type": "markdown",
   "metadata": {
    "slideshow": {
     "slide_type": "slide"
    }
   },
   "source": [
    "### and now...\n",
    "# Pointer Safety\n",
    "\n",
    "- Pointers can cause hard-to-diagnose errors in programs.\n",
    "- e.g. a function returning pointers to local variables can cause errors when the memory is released back to the runtime system and reused at some time later in the program!"
   ]
  },
  {
   "cell_type": "markdown",
   "metadata": {
    "slideshow": {
     "slide_type": "slide"
    }
   },
   "source": [
    "# Pointer Safety\n",
    "\n",
    "- Always set pointers to `NULL` when they are no longer required\n",
    "- Always use a simple guard before using pointers e.g.: `assert(ptr != NULL);` from `<assert.h>`\n",
    "- There are various tools e.g. **Valgrind** (https://www.valgrind.org/) that can detect many such errors at runtime (at the cost of massive slowdown and greatly increased memory-usage)"
   ]
  },
  {
   "cell_type": "markdown",
   "metadata": {
    "slideshow": {
     "slide_type": "slide"
    }
   },
   "source": [
    "# Dynamic Memory Allocation\n",
    "\n",
    "- Variables and arrays provide fixed size allocation.\n",
    "- What if the memory needed cannot be pre-determined?\n",
    "- There is a need to be able to dynamically request variable sized blocks of memory from the runtime system.\n",
    "- Close integration between C and Unix (and other Operating Systems).\n",
    "- Requesting memory at run-time."
   ]
  },
  {
   "cell_type": "markdown",
   "metadata": {
    "slideshow": {
     "slide_type": "slide"
    }
   },
   "source": [
    "# Memory Layout \n",
    "\n",
    "<center><img src=\"images/memory-layout-ver.png\" alt=\"memory layout\" width=\"280\"></center>"
   ]
  },
  {
   "cell_type": "markdown",
   "metadata": {
    "slideshow": {
     "slide_type": "slide"
    }
   },
   "source": [
    "# Memory Layout \n",
    "\n",
    "### Stack:\n",
    "\n",
    "- Stores “temporary” data\n",
    "- Variables in a function\n",
    "- Function header\n",
    "- Small data\n",
    "\n",
    "<center><img src=\"images/memory-layout-hor.png\" alt=\"memory layout\" width=\"700\"></center>"
   ]
  },
  {
   "cell_type": "markdown",
   "metadata": {
    "slideshow": {
     "slide_type": "slide"
    }
   },
   "source": [
    "# Memory Layout \n",
    "\n",
    "### Static Data:\n",
    "\n",
    "- Data that stays in memory for the duration of the program.\n",
    "\n",
    "<center><img src=\"images/memory-layout-hor.png\" alt=\"memory layout\" width=\"700\"></center>"
   ]
  },
  {
   "cell_type": "markdown",
   "metadata": {
    "slideshow": {
     "slide_type": "slide"
    }
   },
   "source": [
    "# Memory Layout \n",
    "\n",
    "### Heap:\n",
    "\n",
    "- Used for storing more long-term data.\n",
    "- YOU, the programmer, control what is in the Heap and when it is released.\n",
    "- Much more space than the Stack.\n",
    "\n",
    "<center><img src=\"images/memory-layout-hor.png\" alt=\"memory layout\" width=\"700\"></center>"
   ]
  },
  {
   "cell_type": "markdown",
   "metadata": {
    "slideshow": {
     "slide_type": "slide"
    }
   },
   "source": [
    "# Memory Allocation: `malloc()` <stdlib.h>\n",
    "\n",
    "Function prototype for `malloc()`:\n",
    "\n",
    "```c\n",
    "void *malloc(size_t size);\n",
    "```\n",
    "\n",
    "- Allocates a contiguous block of memory `size` bytes long.\n",
    "\n",
    "- The return type is `void*`, which is a generic pointer type that can be used with all types.\n",
    "\n",
    "- `malloc()` returns a `NULL` pointer if it fails to allocate the requested memory."
   ]
  },
  {
   "cell_type": "markdown",
   "metadata": {
    "slideshow": {
     "slide_type": "slide"
    }
   },
   "source": [
    "# Memory Allocation: `malloc()` <stdlib.h>\n",
    "\n",
    "```c\n",
    "void *malloc(size_t size);\n",
    "```\n",
    "\n",
    "- Always test for `NULL` return in case `malloc()` has failed to allocate the requested memory!\n",
    "\n",
    "- An Aside:\n",
    "\n",
    "    - By default, Linux follows an optimistic memory allocation strategy.\n",
    "\n",
    "    - Even if `malloc()` returns a non-`NULL` value, this is no guarantee that the memory is really available.\n",
    "\n",
    "    - The operating system actually allocates the memory when you try to use it for the first time; if the system runs out of memory, a process will be killed by the Out Of Memory (OOM) killer."
   ]
  },
  {
   "cell_type": "markdown",
   "metadata": {
    "slideshow": {
     "slide_type": "slide"
    }
   },
   "source": [
    "# Example of `malloc()`\n",
    "\n",
    "```c\n",
    "#define SIZE 41 * sizeof(char)\n",
    "char *line;\n",
    "line = malloc(SIZE);\n",
    "if ( line == NULL ) {\n",
    "    printf( \"Error in malloc() \\n\" );\n",
    "    exit(1);}\n",
    "```\n",
    "N.B. return value of `malloc()` is automatically cast from `void*` to `char*`\n",
    "\n",
    "- Pointers pointing to any object are automatically converted to `void*` pointers and vice versa as required.\n",
    "- Conversions between other sorts of pointers with different types may cause problems due to alignment issues."
   ]
  },
  {
   "cell_type": "markdown",
   "metadata": {
    "slideshow": {
     "slide_type": "slide"
    }
   },
   "source": [
    "# Example of `malloc()`\n",
    "\n",
    "- Creating an array using `malloc()` and printing values.\n",
    "- The values are random.\n",
    "- Freeing and allocating multiple times will produce different values."
   ]
  },
  {
   "cell_type": "code",
   "execution_count": 1,
   "metadata": {
    "slideshow": {
     "slide_type": "fragment"
    }
   },
   "outputs": [
    {
     "name": "stdout",
     "output_type": "stream",
     "text": [
      "0\n",
      "0\n",
      "0\n",
      "0\n",
      "0\n",
      "0\n",
      "0\n",
      "0\n",
      "0\n",
      "0\n",
      "0\n",
      "0\n",
      "0\n",
      "0\n",
      "0\n",
      "0\n",
      "0\n",
      "0\n",
      "0\n",
      "0\n"
     ]
    }
   ],
   "source": [
    "#include <stdio.h>\n",
    "#include <stdlib.h>\n",
    "\n",
    "int main(){\n",
    "    // allocate a 20 int array\n",
    "    int *a =  malloc(20 * sizeof(int));\n",
    "    if (a == NULL) exit(1);\n",
    "    int i;\n",
    "    for(i = 0; i < 20; i++){\n",
    "        printf(\"%d\\n\",a[i]);\n",
    "    }\n",
    "    return 0;\n",
    "}"
   ]
  },
  {
   "cell_type": "markdown",
   "metadata": {
    "slideshow": {
     "slide_type": "slide"
    }
   },
   "source": [
    "# Memory De-allocation: `free()` <stdlib.h>\n",
    "\n",
    "```\n",
    "void free(void *ptr);\n",
    "```\n",
    "\n",
    "- Takes a generic pointer to a block of memory and returns the memory for reuse by `malloc()`.\n",
    "\n",
    "- If you “forget” about memory you have `malloc()`ed and don’t `free()` it then you have a **“memory leak”**.\n",
    "\n",
    "- “Memory leaks” can be very dangerous and difficult to trace [garbage collection in Java/Python].\n",
    "\n",
    "    - Can eventually use up all memory\n",
    "\n",
    "    - `free()` has no return value, so even if you pass it a pointer not allocated by `malloc()`, it will process it!"
   ]
  },
  {
   "cell_type": "markdown",
   "metadata": {
    "slideshow": {
     "slide_type": "slide"
    }
   },
   "source": [
    "# Example of Memory Leak\n"
   ]
  },
  {
   "cell_type": "code",
   "execution_count": 2,
   "metadata": {
    "slideshow": {
     "slide_type": "fragment"
    }
   },
   "outputs": [
    {
     "name": "stderr",
     "output_type": "stream",
     "text": [
      "[C kernel] Executable exited with code -9"
     ]
    }
   ],
   "source": [
    "#include<stdlib.h>\n",
    "#include<stdio.h>\n",
    "\n",
    "int main(){\n",
    "    int i, *p;\n",
    "    for(i=0; i<10000000; i++){\n",
    "        p = malloc(10000000*sizeof(int));\n",
    "        if (p == NULL){\n",
    "            printf(\"Could not allocate more memory!\");\n",
    "            exit(1);\n",
    "        }\n",
    "        *p = i;\n",
    "    }\n",
    "    return 0;\n",
    "}"
   ]
  },
  {
   "cell_type": "code",
   "execution_count": 3,
   "metadata": {
    "slideshow": {
     "slide_type": "slide"
    }
   },
   "outputs": [
    {
     "name": "stderr",
     "output_type": "stream",
     "text": [
      "/tmp/tmpy6df5dzv.c: In function ‘main’:\n",
      "/tmp/tmpy6df5dzv.c:9:9: warning: implicit declaration of function ‘getline’ [-Wimplicit-function-declaration]\n",
      "    9 |         getline(&line, &size, stdin); // new memory implicitly allocated\n",
      "      |         ^~~~~~~\n",
      "[C kernel] Executable exited with code -9"
     ]
    }
   ],
   "source": [
    "#include <stdlib.h>\n",
    "#include <stdio.h>\n",
    "\n",
    "int main(void)\n",
    "{ \n",
    "    char *line = NULL;\n",
    "    size_t size = 0;\n",
    "    for(;;) { \n",
    "        getline(&line, &size, stdin); // new memory implicitly allocated\n",
    "        line = NULL;\n",
    "    }\n",
    "    return 0;\n",
    " }"
   ]
  },
  {
   "cell_type": "markdown",
   "metadata": {
    "slideshow": {
     "slide_type": "slide"
    }
   },
   "source": [
    "# Example of `free()`\n",
    "\n",
    "```c\n",
    "// allocate some memory\n",
    "char *line = malloc(SIZE);\n",
    "\n",
    "// use line in the program\n",
    "\n",
    "free( line ); // return memory to the O/S\n",
    "line = NULL;  // set pointer to NULL\n",
    "```\n",
    "\n",
    "- Errors from continuing to use a pointer after the memory has been released can be very hard to detect.\n",
    "- N.B. line is implicitly cast to a `void*` pointer."
   ]
  },
  {
   "cell_type": "markdown",
   "metadata": {
    "slideshow": {
     "slide_type": "slide"
    }
   },
   "source": [
    "# Memory Allocation: `calloc()` <stdlib.h>\n",
    "\n",
    "Function prototype for `calloc()`:\n",
    "\n",
    "```c\n",
    "void *calloc( size_t n, size_t size );\n",
    "```\n",
    "\n",
    "- Allocates a contiguous block of memory of `n` elements each of `size` bytes long, initialised to 0 in all bits.\n",
    "\n",
    "- Useful to ensure old data is not reused inappropriately.\n",
    "\n",
    "- The return type is `void*` - generic pointer type used for all types.\n",
    "\n",
    "- `calloc()` returns a `NULL` pointer if it fails to allocate memory.\n",
    "\n",
    "    - Always test for `NULL` return!"
   ]
  },
  {
   "cell_type": "markdown",
   "metadata": {
    "slideshow": {
     "slide_type": "slide"
    }
   },
   "source": [
    "# `calloc()` Example"
   ]
  },
  {
   "cell_type": "code",
   "execution_count": 4,
   "metadata": {
    "scrolled": true,
    "slideshow": {
     "slide_type": "fragment"
    }
   },
   "outputs": [
    {
     "name": "stdout",
     "output_type": "stream",
     "text": [
      "0\n",
      "0\n",
      "0\n",
      "0\n",
      "0\n",
      "0\n",
      "0\n",
      "0\n",
      "0\n",
      "0\n",
      "0\n",
      "0\n",
      "0\n",
      "0\n",
      "0\n",
      "0\n",
      "0\n",
      "0\n",
      "0\n",
      "0\n"
     ]
    }
   ],
   "source": [
    "#include <stdio.h>\n",
    "#include <stdlib.h>\n",
    "\n",
    "int main(){\n",
    "    //allocate an array of 20 ints\n",
    "    //int *a = malloc(20 * sizeof(int));\n",
    "    int *a = calloc(20, sizeof(int));\n",
    "    if (a == NULL) exit(1);\n",
    "    int i;\n",
    "    for(i = 0; i < 20; i++){\n",
    "        printf(\"%d\\n\",a[i]); // 0 because calloc zeros out allocated memory\n",
    "    }\n",
    "    return 0;\n",
    "}"
   ]
  },
  {
   "cell_type": "markdown",
   "metadata": {
    "slideshow": {
     "slide_type": "slide"
    }
   },
   "source": [
    "# Memory Allocation: `realloc()` <stdlib.h>\n",
    "\n",
    "Function prototype for `realloc()`:\n",
    "\n",
    "```c\n",
    "void *realloc( void *ptr, size_t size );\n",
    "```\n",
    "\n",
    "- Allows a dynamic **change** in size of a previously allocated block of memory pointed to by `ptr`.\n",
    "\n",
    "    - `ptr` must point to memory previously allocated by `malloc()`, `calloc()` or `realloc()`."
   ]
  },
  {
   "cell_type": "markdown",
   "metadata": {
    "slideshow": {
     "slide_type": "slide"
    }
   },
   "source": [
    "# Memory Allocation: `realloc()` <stdlib.h>\n",
    "\n",
    "Function prototype for `realloc()`:\n",
    "\n",
    "```c\n",
    "void *realloc( void *ptr, size_t size );\n",
    "```\n",
    "\n",
    "- `realloc()` moves and copies contents if it needs to, freeing original block, which means `ptr` might change.\n",
    "\n",
    "- `realloc()` returns a `NULL` pointer if it fails. Check for this!\n",
    "\n",
    "    - Cf. `ArrayList` in **Java**."
   ]
  },
  {
   "cell_type": "markdown",
   "metadata": {
    "slideshow": {
     "slide_type": "slide"
    }
   },
   "source": [
    "# `realloc()` Example\n",
    "\n",
    "Simple program that takes integers typed in by the user and stores them in an array.\n",
    "\n",
    "- Each time the array becomes full, it is dynamically increased in size to hold more numbers\n",
    "\n",
    "- Contains a key function `getline2()`, which reads the integers from the command line"
   ]
  },
  {
   "cell_type": "markdown",
   "metadata": {
    "slideshow": {
     "slide_type": "slide"
    }
   },
   "source": [
    "```c\n",
    "int getline2(char line[], int max) {\n",
    "    int nch = 0;\n",
    "    int c;\n",
    "    max = max - 1;/* leave room for ’\\0’ */\n",
    "    while((c = getchar()) != ’q’) {\n",
    "        if(c == ’\\n’)\n",
    "            break;\n",
    "```\n",
    "```c\n",
    "        if(nch < max) {\n",
    "            line[nch] = c;\n",
    "            nch = nch + 1;\n",
    "        }\n",
    "    }\n",
    "    if(c == ’q’ && nch == 0)\n",
    "        return ’q’;\n",
    "\n",
    "    line[nch] = ’\\0’;\n",
    "    return nch; \n",
    "}\n",
    "```"
   ]
  },
  {
   "cell_type": "markdown",
   "metadata": {
    "slideshow": {
     "slide_type": "slide"
    }
   },
   "source": [
    "# `realloc()` Example\n",
    "\n",
    "### ```getline2()```\n",
    "- Uses `getchar()` to read in characters as they are typed.\n",
    "- Runs in a loop until a ’q’ or a newline is encountered.\n",
    "- Reads in the characters typed by the user one by one and stores them in the array line.\n",
    "- When the character ’\\n’ is pressed, the function returns, via use of the break statement to exit a loop.\n",
    "- No checking performed to see if the input is an integer."
   ]
  },
  {
   "cell_type": "markdown",
   "metadata": {
    "slideshow": {
     "slide_type": "slide"
    }
   },
   "source": [
    "```c\n",
    "ip = malloc(array_size * sizeof(int));\n",
    "while( getline2(line, MAXLINE) != ’q’ ) {\n",
    "    if(nitems >= array_size ) {/* increase allocation */\n",
    "        int *newp;\n",
    "        array_size += INCREASE ;\n",
    "        newp = realloc(ip, array_size * sizeof(int));\n",
    "```\n",
    "```c\n",
    "        printf(\"<< Expanding by %d to size %d >>\\n\", INCREASE, array_size );\n",
    "        if(newp == NULL) {\n",
    "            printf(\"out of memory\\n\");\n",
    "            exit(1);\n",
    "        }\n",
    "        ip = newp;\n",
    "    }\n",
    "    ip[nitems++] = atoi(line);\n",
    "}\n",
    "```"
   ]
  },
  {
   "cell_type": "markdown",
   "metadata": {
    "slideshow": {
     "slide_type": "slide"
    }
   },
   "source": [
    "# `realloc()` Example\n",
    "\n",
    "### ```main()```\n",
    "- Uses `getline2()` to read in a line of text.\n",
    "- Creates an array to store current line of text, `line`.\n",
    "\n",
    "- Creates a second array to store the integers entered: `ip`.\n",
    "- As soon as `ip` is full, `realloc()` is called to resize the array"
   ]
  },
  {
   "cell_type": "markdown",
   "metadata": {
    "slideshow": {
     "slide_type": "slide"
    }
   },
   "source": [
    "# `atoi()` <stdlib.h>\n",
    "\n",
    "```int atoi(const char *s);```\n",
    "\n",
    "- Converts a string pointed to by `s` to an integer.\n",
    "\n",
    "- Also see `atof()`, `atol()` and `atoll()` (since C99) equivalents\n",
    "\n",
    "- To convert from an integer to a string use :\n",
    "\n",
    "    `int sprintf( char *s, char *format, <value list> );`\n",
    "\n",
    "    - Where the value list is the variables used in the format string.\n",
    "    - `sprintf(str, \"Sum of %d and %d is %d\", a, b, a+b);`"
   ]
  },
  {
   "cell_type": "markdown",
   "metadata": {
    "slideshow": {
     "slide_type": "slide"
    }
   },
   "source": [
    "# `->` Operator\n",
    "\n",
    "The -> operator gives us a shorthand accessing members of structures using a pointer.\n",
    "\n",
    "```c\n",
    "struct point {\n",
    "    int x;\n",
    "    int y;\n",
    "} pt, *ptr;\n",
    "  \n",
    "    ptr=&pt;\n",
    "```\n",
    "\n",
    "We can now modify `pt.x` in three ways:\n",
    "\n",
    "```c\n",
    "     pt.x=3; // Access directly\n",
    "     (*ptr).x=3; // Access by dereferencing a pointer\n",
    "     ptr->x=3;   // Access using the -> operator\n",
    "````"
   ]
  },
  {
   "cell_type": "markdown",
   "metadata": {
    "slideshow": {
     "slide_type": "slide"
    }
   },
   "source": [
    "# Summary\n",
    "\n",
    "- Memory Allocation\n",
    "- Memory Layout\n",
    "- `malloc()`\n",
    "- `free()`\n",
    "- `calloc()`\n",
    "- `realloc()`"
   ]
  }
 ],
 "metadata": {
  "celltoolbar": "Slideshow",
  "jupytext": {
   "formats": "ipynb"
  },
  "kernelspec": {
   "display_name": "C",
   "language": "c",
   "name": "c"
  },
  "language_info": {
   "file_extension": ".c",
   "mimetype": "text/plain",
   "name": "c"
  },
  "rise": {
   "autolaunch": true,
   "enable_chalkboard": true,
   "scroll": true,
   "theme": "white"
  }
 },
 "nbformat": 4,
 "nbformat_minor": 2
}
