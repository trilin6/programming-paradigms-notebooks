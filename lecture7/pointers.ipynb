{
 "cells": [
  {
   "cell_type": "markdown",
   "metadata": {
    "slideshow": {
     "slide_type": "slide"
    }
   },
   "source": [
    "# Systems Programming\n",
    "\n",
    "### Lecture 7: Pointers\n",
    "\n",
    "### Anne Reinarz\n",
    "\n",
    "anne.k.reinarz@durham.ac.uk\n"
   ]
  },
  {
   "cell_type": "markdown",
   "metadata": {
    "slideshow": {
     "slide_type": "slide"
    }
   },
   "source": [
    "# Starting this week\n",
    "\n",
    "# Pointers"
   ]
  },
  {
   "cell_type": "markdown",
   "metadata": {
    "slideshow": {
     "slide_type": "slide"
    }
   },
   "source": [
    "# What is a Variable?\n",
    "\n",
    "- A logical name for an allocated area of memory assigned to store a value of a certain type\n",
    "\n",
    "`int i = 10;`\n",
    "\n",
    "<center><img src=\"images/addressi.png\" alt=\"variable\" width=\"700\"/></center>\n",
    "\n"
   ]
  },
  {
   "cell_type": "markdown",
   "metadata": {
    "slideshow": {
     "slide_type": "slide"
    }
   },
   "source": [
    "# Pointer Variable\n",
    "\n",
    "<center><img src=\"images/addressrow.png\" alt=\"variable\" width=\"500\"/></center>\n",
    "\n",
    "`int i = 10;`\n",
    "\n",
    "- value of `i` is 10\n",
    "- The memory address of `i` is `&i` and has a value of 4"
   ]
  },
  {
   "cell_type": "markdown",
   "metadata": {
    "slideshow": {
     "slide_type": "slide"
    }
   },
   "source": [
    "# Pointer Variable\n",
    "\n",
    "<center><img src=\"images/addressrow.png\" alt=\"variable\" width=\"500\"/></center>\n",
    "\n",
    "- `int i = 10;`\n",
    "\n",
    "    - A pointer variable stores a memory address:\n",
    "        ```\n",
    "        int *p;\n",
    "        p = &i;\n",
    "        ```\n",
    "    - now the pointer variable `p` stores the memory address of the integer variable `i`"
   ]
  },
  {
   "cell_type": "markdown",
   "metadata": {
    "slideshow": {
     "slide_type": "slide"
    }
   },
   "source": [
    "# Pointers\n",
    "\n",
    "<center><img src=\"images/pointsto.png\" alt=\"indirection\" width=\"400\"/></center>\n",
    "\n",
    "```\n",
    "int i = 10;   // simple variable\n",
    "int *p = &i;  // pointer variable\n",
    "```\n",
    "- You can read the address operator `&` as \"**_address of_**\"\n",
    "    "
   ]
  },
  {
   "cell_type": "markdown",
   "metadata": {
    "slideshow": {
     "slide_type": "fragment"
    }
   },
   "source": [
    "`printf(\"%d %d\\n\", i, *p ) ;`\n",
    "\n",
    "* output: \"`10 10`\"\n",
    "\n",
    "    - You can read the indirection operator `*` as \"**_value at_**\""
   ]
  },
  {
   "cell_type": "markdown",
   "metadata": {
    "slideshow": {
     "slide_type": "slide"
    }
   },
   "source": [
    "# Basic Pointer Operations\n",
    "\n",
    "```\n",
    "int i = 5; // declare an int variable\n",
    "\n",
    "int *p;    // declare a variable pointer to an int\n",
    "\n",
    "p = &i;    // & \"address of\"\n",
    "```\n",
    "- Use indirection operator `*` to access and modify the value:\n",
    "\n",
    "```\n",
    "*p = 7; // assign value of 7 to i\n",
    "\n",
    "*p = *p + 1; // add 1 to value of i\n",
    "```"
   ]
  },
  {
   "cell_type": "markdown",
   "metadata": {
    "slideshow": {
     "slide_type": "slide"
    }
   },
   "source": [
    "# The Indirection Operator: what not to do\n",
    "\n",
    "Applying the indirection operator to an uninitialized pointer variable causes undefined behaviour:\n",
    "\n",
    "```\n",
    "int *p;\n",
    "\n",
    "printf(\"%d\", *p);   /*** WRONG ***/\n",
    "```\n",
    "\n",
    "Assigning a value to `*p` is particularly dangerous:\n",
    "\n",
    "```\n",
    "int *p;\n",
    "\n",
    "*p = 1;            /*** DANGER ***/\n",
    "```"
   ]
  },
  {
   "cell_type": "markdown",
   "metadata": {
    "slideshow": {
     "slide_type": "slide"
    }
   },
   "source": [
    "# Pointer Assignment\n",
    "\n",
    "C allows the use of the assignment operator to copy pointers of the same type:\n",
    "\n",
    "- Assume that the following declaration is in effect:\n",
    "\n",
    "```\n",
    "int i, j, *p, *q;\n",
    "```\n",
    "\n",
    "- Example of pointer assignment:\n",
    "\n",
    "```\n",
    "p = &i;\n",
    "```\n",
    "\n"
   ]
  },
  {
   "cell_type": "markdown",
   "metadata": {
    "slideshow": {
     "slide_type": "fragment"
    }
   },
   "source": [
    "* There are other ways to assign pointers"
   ]
  },
  {
   "cell_type": "markdown",
   "metadata": {
    "slideshow": {
     "slide_type": "slide"
    }
   },
   "source": [
    "# Pointer Assignment\n",
    "\n",
    "\n",
    "```\n",
    "int i, j, *p, *q;\n",
    "p = &i;\n",
    "\n",
    "```\n",
    "\n",
    "- Another example of pointer assignment:\n",
    "\n",
    "```\n",
    "q = p;\n",
    "```\n",
    "\n",
    "- `q` now points to the same place as `p`:\n",
    "\n",
    "<center><img src=\"images/twopointers.png\" alt=\"copying pointers\" width=\"400\"/></center>\n",
    "\n",
    "\n"
   ]
  },
  {
   "cell_type": "markdown",
   "metadata": {
    "slideshow": {
     "slide_type": "slide"
    }
   },
   "source": [
    "# Pointer Assignment\n",
    "\n",
    "`p` and `q` both point to `i`, so we can change `i` by assigning a value to `*p` **or** `*q`:\n",
    "\n",
    "```\n",
    "*p = 1;\n",
    "```\n",
    "<center><img src=\"images/twopointers1.png\" alt=\"copying pointers\" width=\"350\"/></center>\n",
    "\n",
    "- Any number of pointer variables may point to the same object"
   ]
  },
  {
   "cell_type": "markdown",
   "metadata": {
    "slideshow": {
     "slide_type": "slide"
    }
   },
   "source": [
    "# Pointer Assignment\n",
    "\n",
    "`p` and `q` both point to `i`, so we can change `i` by assigning a value to `*p` **or** `*q`:\n",
    "\n",
    "```\n",
    "*q = 2;\n",
    "```\n",
    "<center><img src=\"images/twopointers2.png\" alt=\"copying pointers\" width=\"330\"/></center>\n",
    "\n",
    "- Any number of pointer variables may point to the same object"
   ]
  },
  {
   "cell_type": "markdown",
   "metadata": {
    "slideshow": {
     "slide_type": "slide"
    }
   },
   "source": [
    "# Pointers as Arguments\n",
    "\n",
    "- We can trying writing a `swap()` function that could modify its arguments, but it won’t really work.\n",
    "\n",
    "- By passing a pointer to a variable instead of the value of the variable, `swap()` can be fixed."
   ]
  },
  {
   "cell_type": "markdown",
   "metadata": {
    "slideshow": {
     "slide_type": "slide"
    }
   },
   "source": [
    "# Swap\n",
    "\n",
    "We want to write a simple function in C to swap the values of two integer variables, `x` and `y`:\n",
    "\n",
    "```\n",
    "void swap(int a, int b) {\n",
    "    int temp;\n",
    "    temp = a;\n",
    "    a = b;\n",
    "    b = temp;\n",
    "}\n",
    "```\n",
    "\n",
    "- will this work when we call `swap(x,y)`?"
   ]
  },
  {
   "cell_type": "markdown",
   "metadata": {
    "slideshow": {
     "slide_type": "fragment"
    }
   },
   "source": [
    "- spoiler alert: **NO!**"
   ]
  },
  {
   "cell_type": "code",
   "execution_count": null,
   "metadata": {
    "slideshow": {
     "slide_type": "slide"
    }
   },
   "outputs": [],
   "source": [
    "#include <stdio.h>\n",
    "void swap(int a, int b);\n",
    "\n",
    "int main(){\n",
    "  int x = 8;\n",
    "  int y = 44;\n",
    "  swap(x,y);\n",
    "  printf(\"x = %d  y = %d\\n\", x, y);\n",
    "  return 0;\n",
    "}\n",
    "\n",
    "void swap(int a, int b) {\n",
    "  int temp = a;\n",
    "  a = b;\n",
    "  b = temp;\n",
    "}"
   ]
  },
  {
   "cell_type": "markdown",
   "metadata": {
    "slideshow": {
     "slide_type": "slide"
    }
   },
   "source": [
    "# Swap\n",
    "\n",
    "By default, C uses \"call by value\". Now let's use pointers:\n",
    "\n",
    "```\n",
    "void swap(int *a, int *b) {\n",
    "  int temp;\n",
    "  temp = *a;\n",
    "  *a = *b;\n",
    "  *b = temp;\n",
    "}\n",
    "```\n",
    "\n",
    "- will this work when we call `swap(&x,&y)`?"
   ]
  },
  {
   "cell_type": "code",
   "execution_count": null,
   "metadata": {
    "slideshow": {
     "slide_type": "slide"
    }
   },
   "outputs": [],
   "source": [
    "#include <stdio.h>\n",
    "void swap(int *a, int *b);\n",
    "\n",
    "int main(){\n",
    "  int x = 8;\n",
    "  int y = 44;\n",
    "  swap(&x,&y);\n",
    "  printf(\"x = %d  y = %d\\n\", x, y);\n",
    "  return 0;\n",
    "}\n",
    "\n",
    "void swap(int *a, int *b) {\n",
    "  int temp = *a;\n",
    "  *a = *b;\n",
    "  *b = temp;\n",
    "}"
   ]
  },
  {
   "cell_type": "markdown",
   "metadata": {
    "slideshow": {
     "slide_type": "slide"
    }
   },
   "source": [
    "# Pointers as Arguments\n",
    "\n",
    "Arguments in calls of `scanf()` are pointers:\n",
    "\n",
    "```\n",
    "int i; \n",
    "...\n",
    "scanf(\"%d\", &i);\n",
    "```\n",
    "\n",
    "- Without the `&`, `scanf()` would be supplied with the value of `i`"
   ]
  },
  {
   "cell_type": "markdown",
   "metadata": {
    "slideshow": {
     "slide_type": "slide"
    }
   },
   "source": [
    "# Pointers as Arguments\n",
    "\n",
    "- Although `scanf()`’s arguments must be pointers, it’s not always true that every argument needs the `&` operator:\n",
    "\n",
    "```\n",
    "int i, *p;\n",
    "...\n",
    "p = &i;\n",
    "scanf(\"%d\", p);\n",
    "```\n",
    "\n",
    "- Using the & operator in the call would be wrong:\n",
    "\n",
    "```\n",
    "scanf(\"%d\", &p); /*** WRONG ***/\n",
    "```"
   ]
  },
  {
   "cell_type": "markdown",
   "metadata": {
    "slideshow": {
     "slide_type": "slide"
    }
   },
   "source": [
    "# Arrays in C\n",
    "\n",
    "`int a[10];`\n",
    "\n",
    "- declares a fixed size array holding ten int values\n",
    "\n",
    "<center><img src=\"images/arry.png\" alt=\"arry\" width=\"900\"/></center>\n",
    "\n",
    "- `a[i]` is the `i`th element of the array\n",
    "- `sizeof(a)` = 10 * `sizeof(int)` = 40 bytes\n",
    "- The array is stored in memory as a single contiguous block of 40 bytes (10 ints) in size\n"
   ]
  },
  {
   "cell_type": "markdown",
   "metadata": {
    "slideshow": {
     "slide_type": "slide"
    }
   },
   "source": [
    "# Arrays in C\n",
    "\n",
    "`int a[10];`\n",
    "\n",
    "<center><img src=\"images/arry.png\" alt=\"arry\" width=\"900\"/></center>\n",
    "\n",
    "Note that `sizeof(a) / sizeof(a[0])` = 10\n",
    "- a common way of checking the number of elements in an array."
   ]
  },
  {
   "cell_type": "markdown",
   "metadata": {
    "slideshow": {
     "slide_type": "fragment"
    }
   },
   "source": [
    "We can’t pass an array to a function, but we can pass a pointer to it.\n",
    "\n",
    "- We will also need to pass the length of the array."
   ]
  },
  {
   "cell_type": "markdown",
   "metadata": {
    "slideshow": {
     "slide_type": "slide"
    }
   },
   "source": [
    "# Strings\n",
    "\n",
    "In C, strings are represented as an array of characters.\n",
    "\n",
    "```c\n",
    "char a[] = \"Hello worlds\";\n",
    "char b[13];\n",
    "b = a; // Not allowed\n",
    "char *c;\n",
    "c = a;\n",
    "```\n",
    "- This will set pointer `c` to the same address as `a`\n",
    "\n",
    "- Assignment of an array to array is not supported in C\n",
    "\n",
    "- Instead, we can use `strcpy(b,a);` \n",
    "    - first argument is the destination - need to `#include <string.h>`"
   ]
  },
  {
   "cell_type": "markdown",
   "metadata": {
    "slideshow": {
     "slide_type": "slide"
    }
   },
   "source": [
    "# Strings\n",
    "\n",
    "```c\n",
    "char a[] = \"Hello\";\n",
    "```\n",
    "`strlen(a)` = 5\n",
    "\n",
    "`sizeof(a)` = 6"
   ]
  },
  {
   "cell_type": "markdown",
   "metadata": {
    "slideshow": {
     "slide_type": "fragment"
    }
   },
   "source": [
    "- Strings are null terminated – important when allocating space to store them\n",
    "\n",
    "```\n",
    "printf(\"%s %c\\n\", a, a[0]);\n",
    "``` \n",
    "\n",
    "- Output is: **Hello H**\n",
    "    - Variable `a` represents the memory address of the start of the string."
   ]
  },
  {
   "cell_type": "markdown",
   "metadata": {
    "slideshow": {
     "slide_type": "slide"
    }
   },
   "source": [
    "#  Pointers, Strings and Arrays\n",
    "\n",
    "<center><img src=\"images/array2.png\" alt=\"arry\" width=\"900\"/></center>\n",
    "\n",
    "```\n",
    "char a[] = \"Hello\";\n",
    "char *a = \"Hello\";\n",
    "```\n",
    "\n",
    "- These are equivalent declarations, and create the identical bytes in memory, as shown above.\n",
    "\n",
    "- Pointers and arrays are often used interchangeably"
   ]
  },
  {
   "cell_type": "markdown",
   "metadata": {
    "slideshow": {
     "slide_type": "fragment"
    }
   },
   "source": [
    "- However, some behaviour might be different:"
   ]
  },
  {
   "cell_type": "code",
   "execution_count": null,
   "metadata": {
    "slideshow": {
     "slide_type": "slide"
    }
   },
   "outputs": [],
   "source": [
    "#include <stdio.h>\n",
    "#include <string.h>\n",
    "\n",
    "int main() {    \n",
    "    char a[] = \"Hello\";\n",
    "    char *b = \"Hello\";\n",
    "    printf(\"size of string is %lu - size of pointer is %lu\", sizeof(a), sizeof(b));\n",
    "}"
   ]
  },
  {
   "cell_type": "markdown",
   "metadata": {
    "slideshow": {
     "slide_type": "fragment"
    }
   },
   "source": [
    "- using `sizeof(a)` will give 6 in the first case (the size of the array) and 8 in the second case (the size of the pointer).\n",
    "\n",
    "- In the second case, the string \"Hello\" is constant and cannot be modified."
   ]
  },
  {
   "cell_type": "markdown",
   "metadata": {
    "slideshow": {
     "slide_type": "slide"
    }
   },
   "source": [
    "# Pointer Arithmetic\n",
    "\n",
    "```\n",
    "int a[10];\n",
    "int *pa;\n",
    "```\n",
    "This pair of statements are equivalent using array or pointer notation:\n",
    "```\n",
    "pa = &a[0];\n",
    "pa = a;\n",
    "```\n",
    "<center><img src=\"images/point2first.png\" alt=\"point to array\" width=\"600\"/></center>"
   ]
  },
  {
   "cell_type": "markdown",
   "metadata": {
    "slideshow": {
     "slide_type": "slide"
    }
   },
   "source": [
    "# Pointer Arithmetic\n",
    "\n",
    "```\n",
    "int a[10];\n",
    "int *pa;\n",
    "```\n",
    "This pair of statements are also equivalent (+1 translates to +4 bytes (1 int)):\n",
    "```\n",
    "pa = &a[1];\n",
    "pa = (a+1);\n",
    "```\n",
    "<center><img src=\"images/point2second.png\" alt=\"point to array\" width=\"600\"/></center>"
   ]
  },
  {
   "cell_type": "markdown",
   "metadata": {
    "slideshow": {
     "slide_type": "slide"
    }
   },
   "source": [
    "# Strange but True\n",
    "\n",
    "In C, if I write `a[x]`, this works by adding `x` to `a` to find the pointer\n",
    "\n",
    "- Hence `a[x]` is the same as `*(a+x)`\n",
    "    - This seems fine with `a[2]`\n",
    "    - But what if we write `2[a]`?\n",
    "        - It will compile and run - let's have a look!"
   ]
  },
  {
   "cell_type": "code",
   "execution_count": null,
   "metadata": {
    "slideshow": {
     "slide_type": "slide"
    }
   },
   "outputs": [],
   "source": [
    "#include <stdio.h>\n",
    "\n",
    "int main() {\n",
    "    char a[] = \"Hello Worlds\";\n",
    "    char *b;\n",
    "    printf(\"The fifth character of %s is %c\\n\", a, a[4]);\n",
    "    printf(\"The fifth character of %s is %c\\n\", a, *(a+4));\n",
    "    printf(\"The fifth character of %s is %c\\n\", a, 4[a]);\n",
    "    b=a;\n",
    "    b=b+4;\n",
    "    printf(\"The fifth character of %s is %c\\n\", a, *b);\n",
    "    return 0;\n",
    "}"
   ]
  },
  {
   "cell_type": "markdown",
   "metadata": {
    "slideshow": {
     "slide_type": "slide"
    }
   },
   "source": [
    "# Strange but True\n",
    "\n",
    "How about `a[-4]`?\n",
    "\n",
    "- Interpreted as `*(a + -4)`\n",
    "\n",
    "**is the next snippet valid?**"
   ]
  },
  {
   "cell_type": "code",
   "execution_count": null,
   "metadata": {
    "slideshow": {
     "slide_type": "fragment"
    }
   },
   "outputs": [],
   "source": [
    "#include <stdio.h>\n",
    "\n",
    "int main() {\n",
    "    int *p;\n",
    "    int i = 5;\n",
    "    int j = 20;\n",
    "    p = &i;\n",
    "    printf(\"%d %d\\n\", p[0], p[1]);\n",
    "    return 0;\n",
    "}"
   ]
  },
  {
   "cell_type": "markdown",
   "metadata": {
    "slideshow": {
     "slide_type": "slide"
    }
   },
   "source": [
    "# Peeking at Memory\n",
    "\n",
    "- We can look at bits of memory\n",
    "\n",
    "- We can find adjacent local variables and parameters\n",
    "\n",
    "- Easy to make mistakes\n",
    "\n",
    "-  We cannot always tell what the data is by looking at it"
   ]
  },
  {
   "cell_type": "code",
   "execution_count": null,
   "metadata": {
    "slideshow": {
     "slide_type": "slide"
    }
   },
   "outputs": [],
   "source": [
    "#include <stdio.h>\n",
    "\n",
    "int main(){\n",
    "  int x,y;\n",
    "  x = 5;\n",
    "  y = 9;\n",
    "\n",
    "  int *z = &x;\n",
    "\n",
    "  z--;\n",
    "  printf(\"Before x : %d\\n\", *z);\n",
    "  z+=2;\n",
    "  printf(\"After  x : %d\\n\\n\", *z);\n",
    "\n",
    "  z = &x - 5;\n",
    "  while(z - &x <10){\n",
    "    printf(\"At %p : %d\\n\", z, *z);\n",
    "    printf(\"At %p : %p\\n\\n\", &z, z);\n",
    "    z++;\n",
    "  }\n",
    "  return 0;\n",
    "}"
   ]
  },
  {
   "cell_type": "markdown",
   "metadata": {
    "slideshow": {
     "slide_type": "slide"
    }
   },
   "source": [
    "# Pointers to Pointers\n",
    "\n",
    "We can also have pointers to pointers.\n",
    "\n",
    "```\n",
    "int i, *p, **q;\n",
    "p = &i;\n",
    "q = &p;\n",
    "```\n",
    "\n",
    "<center><img src=\"images/pointer2pointer.png\" alt=\"pointer to pointer\" width=\"900\"/></center>\n",
    "\n",
    "- Now `i`, `*p` and `**q` all have value 10."
   ]
  },
  {
   "cell_type": "markdown",
   "metadata": {
    "slideshow": {
     "slide_type": "slide"
    }
   },
   "source": [
    "# Breaking Things\n",
    "\n",
    "Using pointers, we can write any value in any place!\n",
    "\n",
    "- This can upset the system\n",
    "\n",
    "- Segmentation fault occurs: hardware tells OS a memory access is not allowed\n",
    "\n",
    "- Sometimes it goes on for a shockingly long time"
   ]
  },
  {
   "cell_type": "code",
   "execution_count": null,
   "metadata": {
    "slideshow": {
     "slide_type": "slide"
    }
   },
   "outputs": [],
   "source": [
    "#include <stdlib.h>\n",
    "#include <stdio.h>\n",
    "\n",
    "int main(){\n",
    "\n",
    "  int x = 1;\n",
    "  int *p = &x;\n",
    "  int i = 1;\n",
    "\n",
    "  while(-1){\n",
    "\n",
    "    p++;\n",
    "    \n",
    "    // write a value\n",
    "    *p = rand();\n",
    "    // *p = 1234;\n",
    "    \n",
    "    printf(\"%d : so far so good. Content of %p is %d\\n\", i, p, *p);\n",
    "    i++;\n",
    "  }\n",
    "  \n",
    "  return 0;\n",
    "}"
   ]
  },
  {
   "cell_type": "markdown",
   "metadata": {
    "slideshow": {
     "slide_type": "slide"
    }
   },
   "source": [
    "# Summary\n",
    "\n",
    "- Pointers\n",
    "- Pointer Assignment\n",
    "- Pointers as Arguments\n",
    "- Pointer Arithmetic\n",
    "- Pointers to Pointers\n",
    "- Dangers of Pointers\n",
    "\n",
    "\n",
    "\n",
    "\n"
   ]
  }
 ],
 "metadata": {
  "celltoolbar": "Slideshow",
  "jupytext": {
   "formats": "ipynb"
  },
  "kernelspec": {
   "display_name": "C",
   "language": "c",
   "name": "c"
  },
  "language_info": {
   "file_extension": ".c",
   "mimetype": "text/plain",
   "name": "c"
  },
  "rise": {
   "autolaunch": true,
   "enable_chalkboard": true,
   "scroll": true,
   "theme": "white"
  }
 },
 "nbformat": 4,
 "nbformat_minor": 2
}
