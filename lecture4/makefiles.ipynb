{
 "cells": [
  {
   "cell_type": "markdown",
   "metadata": {
    "slideshow": {
     "slide_type": "slide"
    }
   },
   "source": [
    "# Systems Programming\n",
    "\n",
    "### Lecture 4: Makefiles and some more C\n",
    "\n",
    "### Anne Reinarz\n",
    "\n",
    "anne.k.reinarz@durham.ac.uk\n",
    "\n"
   ]
  },
  {
   "cell_type": "markdown",
   "metadata": {
    "slideshow": {
     "slide_type": "slide"
    }
   },
   "source": [
    "## Recall: A First Program\n",
    "\n"
   ]
  },
  {
   "cell_type": "code",
   "execution_count": null,
   "metadata": {
    "slideshow": {
     "slide_type": "fragment"
    }
   },
   "outputs": [],
   "source": [
    "#include <stdio.h>\n",
    "\n",
    "int main() {    \n",
    "    printf(\"Hello, World!\\n\");    \n",
    "    return 0;\n",
    "}"
   ]
  },
  {
   "cell_type": "markdown",
   "metadata": {
    "slideshow": {
     "slide_type": "fragment"
    }
   },
   "source": [
    "Saved in a file with a \"`.c`\" file extension, for example\n",
    "\"`helloworld.c`\""
   ]
  },
  {
   "cell_type": "markdown",
   "metadata": {
    "slideshow": {
     "slide_type": "slide"
    }
   },
   "source": [
    "# Compiling\n",
    "\n",
    "![comp](comp.jpg)"
   ]
  },
  {
   "cell_type": "markdown",
   "metadata": {
    "slideshow": {
     "slide_type": "slide"
    }
   },
   "source": [
    "# Compiling\n",
    "\n",
    "## For now let's look at gcc\n",
    "\n",
    "> gcc -o outfile file.c\n",
    "\n",
    "\n",
    "-   Use `-o` to name the output\n",
    "-   Use `-E` option to do pre-processing only, or call `cpp`\n",
    "\n",
    "-   Use `-S` option to go as far as compilation only\n",
    "\n",
    "-   Use `-c` option to go as far as assembly only\n",
    "\n",
    "-   Use `nm` tool to investigate object libraries\n"
   ]
  },
  {
   "cell_type": "markdown",
   "metadata": {
    "slideshow": {
     "slide_type": "slide"
    }
   },
   "source": [
    "# Compiling\n",
    "\n",
    "## For now let's look at gcc\n",
    "\n",
    "> gcc -o outfile file.c anotherfile.c -lboost -lncurses -I /some/path/\n",
    "\n",
    "\n",
    "- Use `-l` to link e.g. external libraries\n",
    "- Add more c files\n",
    "- Add include path for more header files\n",
    "- Our compiling process quickly becomes very complicated!\n"
   ]
  },
  {
   "cell_type": "markdown",
   "metadata": {
    "slideshow": {
     "slide_type": "slide"
    }
   },
   "source": [
    "# Makefiles\n",
    "\n",
    "- When we have a number of files to compile together we need a rule-set to perform this\n",
    "- The `make` command provides this\n",
    "- Requires a rule-file called the `Makefile`\n",
    "- Declarative programming style set of rules for building the program"
   ]
  },
  {
   "cell_type": "markdown",
   "metadata": {
    "slideshow": {
     "slide_type": "slide"
    }
   },
   "source": [
    "## Installing make\n",
    "\n",
    "- Under linux no problem (try it on mira)\n",
    "- On your own computer (if you use windows):\n",
    "    - You can use the Windows subsystem for linux then you will have access to make and gcc as under linux (https://docs.microsoft.com/en-us/windows/wsl/install)\n",
    "    - You can install it in VisualStudio: https://docs.microsoft.com/en-us/cpp/build/reference/creating-a-makefile-project?view=msvc-160"
   ]
  },
  {
   "cell_type": "markdown",
   "metadata": {
    "slideshow": {
     "slide_type": "slide"
    }
   },
   "source": [
    "# Makefiles\n",
    "- Format of each rule:\n",
    "\n",
    "``target [target ...]: [component ...]\n",
    "        [command 1]\n",
    "        ...\n",
    "        [command n]``\n",
    "\n",
    "- N.B. Tab character\n",
    "- `target` - what you want to make\n",
    "- `component` - something which needs to exist (might need another rule)\n"
   ]
  },
  {
   "cell_type": "markdown",
   "metadata": {
    "slideshow": {
     "slide_type": "slide"
    }
   },
   "source": [
    "# Makefiles: Example\n",
    "\n",
    "- Let's say we have files:\n",
    "    - `main.c`, `counter.h`, `counter.c`, `sales.h`,`sales.c`"
   ]
  },
  {
   "cell_type": "code",
   "execution_count": null,
   "metadata": {
    "slideshow": {
     "slide_type": "fragment"
    }
   },
   "outputs": [],
   "source": [
    "all: counter.o sales.o main.c\n",
    "        gcc -o program main.c counter.o sales.o\n",
    "\n",
    "counter.o: counter.c counter.h\n",
    "        gcc -c counter.c\n",
    "\n",
    "sales.o: sales.c sales.h\n",
    "        gcc -c sales.c\n",
    "\n",
    "clean:\n",
    "        rm -rf program counter.o sales.o"
   ]
  },
  {
   "cell_type": "markdown",
   "metadata": {
    "slideshow": {
     "slide_type": "slide"
    }
   },
   "source": [
    "## Makefiles: Macros\n",
    "\n",
    "- Macros can be used to store definitions\n",
    "    - `CC=gcc`\n",
    "\n",
    "- They can be generated from commands\n",
    "    - `DATE = date`\n"
   ]
  },
  {
   "cell_type": "markdown",
   "metadata": {
    "slideshow": {
     "slide_type": "slide"
    }
   },
   "source": [
    "## Makefiles: Macros\n",
    "\n",
    "- And used in the Makefile"
   ]
  },
  {
   "cell_type": "code",
   "execution_count": null,
   "metadata": {
    "slideshow": {
     "slide_type": "fragment"
    }
   },
   "outputs": [],
   "source": [
    "all:\n",
    "        echo This was compiled using $(CC) on $(DATE)"
   ]
  },
  {
   "cell_type": "markdown",
   "metadata": {
    "slideshow": {
     "slide_type": "fragment"
    }
   },
   "source": [
    "- Running this gives:\n",
    "    - This was compiled using gcc on Thu Oct 14 07:31:32 PM BST 2021"
   ]
  },
  {
   "cell_type": "markdown",
   "metadata": {
    "slideshow": {
     "slide_type": "slide"
    }
   },
   "source": [
    "# Makefiles: Pattern Rules\n",
    "- We can specify a pattern rule which matches multiple files\n",
    "- e.g. compile C files into object files:"
   ]
  },
  {
   "cell_type": "code",
   "execution_count": null,
   "metadata": {
    "slideshow": {
     "slide_type": "fragment"
    }
   },
   "outputs": [],
   "source": [
    "DEPS = counter.h sales.h\n",
    "%.o: %.c $(DEPS)\n",
    "        gcc -c $< -o $@"
   ]
  },
  {
   "cell_type": "markdown",
   "metadata": {
    "slideshow": {
     "slide_type": "slide"
    }
   },
   "source": [
    "# Makefiles: Pattern Rules\n",
    "\n",
    "- contains the character ‘%’ (exactly one of them) in the target\n",
    "- ‘%’ matches any nonempty substring (similar to * in bash)\n",
    "\n",
    "### Example\n",
    "- ‘%.c’ as a pattern matches any file name that ends in ‘.c’. \n",
    "- ‘s.%.c’ as a pattern matches any file name that starts with ‘s.’, ends in ‘.c’ and is at least five characters long. (There must be at least one character to match the ‘%’.)"
   ]
  },
  {
   "cell_type": "markdown",
   "metadata": {
    "slideshow": {
     "slide_type": "slide"
    }
   },
   "source": [
    "# Makefiles: Automatic Variables\n",
    "\n",
    "- How do you write a pattern rule? The name of file is different each time the implicit rule is applied.\n",
    "- Solution: use automatic variables. These variables have values computed for each rule that is executed, based on the target\n",
    "- The substring that the ‘%’ matches is called the stem\n",
    "\n",
    "\n"
   ]
  },
  {
   "cell_type": "markdown",
   "metadata": {
    "slideshow": {
     "slide_type": "slide"
    }
   },
   "source": [
    "# Makefiles: Automatic Variables\n",
    "\n",
    "- `$@`: The file name of the target of the rule. \n",
    "- `$<`: The name of the first prerequisite.\n",
    "\n",
    "- `$?`: The names of all the prerequisites that are newer than the target, with spaces between them. \n",
    "- `$^`: The names of all the prerequisites, with spaces between them. Each is listed only once no matter how often it appears, to duplicate use `$+`\n",
    "- `$*`:   The stem with which an implicit rule matches.\n",
    "    - If the target is dir.a and the target pattern is %.a then the stem is dir."
   ]
  },
  {
   "cell_type": "markdown",
   "metadata": {
    "slideshow": {
     "slide_type": "slide"
    }
   },
   "source": [
    "This would change our original Makefile example to:"
   ]
  },
  {
   "cell_type": "code",
   "execution_count": null,
   "metadata": {
    "slideshow": {
     "slide_type": "fragment"
    }
   },
   "outputs": [],
   "source": [
    "CC=gcc\n",
    "CFLAGS=-I.\n",
    "DEPS = counter.h sales.h\n",
    "\n",
    "all: counter.o sales.o main.c\n",
    "        gcc -o program main.c counter.o sales.o\n",
    "        \n",
    "%.o: %.c $(DEPS)\n",
    "\t$(CC) -c -o $@ $< $(CFLAGS)\n",
    "    \n",
    "clean:\n",
    "        rm -rf program counter.o sales.o"
   ]
  },
  {
   "cell_type": "markdown",
   "metadata": {
    "slideshow": {
     "slide_type": "slide"
    }
   },
   "source": [
    "## What have we changed?\n",
    "- Added CC, CFLAGS and DEPS allowing us to quickly change them\n",
    "- first creates the macro DEPS, which is the set of .h files on which the .c files depend\n",
    "- define a rule that applies to all files ending in  .o which says:\n",
    "    - .o file depend on the .c version of the file and the .h files included in DEPS\n",
    "- The `-c` flag tells the compiler to generate the object file\n",
    "- the `-o $@` says to put the output of the compilation in the file named on the left side of the `:`\n",
    "- the `$<` is the first item in the dependencies list"
   ]
  },
  {
   "cell_type": "markdown",
   "metadata": {
    "slideshow": {
     "slide_type": "slide"
    }
   },
   "source": [
    "# Makefiles: A few comments\n",
    "- Comments - lines starting with `#`\n",
    "- Lazy evaluation\n",
    "- If a target exists and has a timestamp later than all of its components assume it is up to date and don't bother to re-process\n",
    "- Nothing to do with C: \n",
    "    - Although Makefiles are often used with C programs there is no intrinsic link - can use with any code/work\n",
    "- You can run any specific rule by invoking its target:\n",
    "    - `make sales.o`"
   ]
  },
  {
   "cell_type": "markdown",
   "metadata": {
    "slideshow": {
     "slide_type": "slide"
    }
   },
   "source": [
    "# Beyond Make\n",
    "\n",
    "- For very large project Makefiles become cumbersome. \n",
    "- They can automate some aspects of compilation, but not all\n",
    "- They can't find and correctly link external libraries\n",
    "- Many tools exist, most are difficult to set up but reasonably easy to use\n",
    "- You may run into software that you have to install using these tools!"
   ]
  },
  {
   "cell_type": "markdown",
   "metadata": {
    "slideshow": {
     "slide_type": "slide"
    }
   },
   "source": [
    "# Beyond Make\n",
    "\n",
    "### Autotools\n",
    "\n",
    "\"The first goal of the Autotools is to simplify the development of portable programs. The system permits the developer to concentrate on writing the program, simplifying many details of portability across Unix and even Windows systems, and permitting the developer to describe how to build the program using simple rules rather than complex Makefiles.\"\n",
    "\n",
    "- Not really very simple\n",
    "- only works well under Linux\n",
    "- used by a fair amount of open-source software"
   ]
  },
  {
   "cell_type": "markdown",
   "metadata": {
    "slideshow": {
     "slide_type": "slide"
    }
   },
   "source": [
    "# Beyond Make\n",
    "\n",
    "### CMake\n",
    "\n",
    "\"CMake is an open-source, cross-platform family of tools designed to build, test and package software. CMake is used to control the software compilation process using simple platform and compiler independent configuration files, and generate native makefiles and workspaces that can be used in the compiler environment of your choice.\"\n",
    "\n",
    "- Very flexible\n",
    "- Works best under Linux or MacOS\n",
    "- Not always intuitive"
   ]
  },
  {
   "cell_type": "markdown",
   "metadata": {
    "slideshow": {
     "slide_type": "slide"
    }
   },
   "source": [
    "# Beyond Make\n",
    "\n",
    "### Less common options\n",
    " \n",
    "- SCons:\n",
    "    - A little newer than CMake and autotools\n",
    "    - In the end: pretty similar in terms of usability\n",
    "- Docker: \n",
    "    - Instead of having to install anything, many developers now just provide a docker image of their software\n",
    "    - Advantage: Very easy on the user side\n",
    "    - Essentially a light-weight VM"
   ]
  },
  {
   "cell_type": "markdown",
   "metadata": {
    "slideshow": {
     "slide_type": "slide"
    }
   },
   "source": [
    "# Back to C"
   ]
  },
  {
   "cell_type": "markdown",
   "metadata": {
    "slideshow": {
     "slide_type": "slide"
    }
   },
   "source": [
    "# Summary:\n",
    "- In the first lecture we started writing a few simple programs in C\n",
    "- We looked at primarily at the pre-processor\n",
    "    - #include - for including header files\n",
    "    - #define - to set constants\n",
    "    - #ifdef, #endif - if statements\n",
    "    - #define MAX(a,b) ((a)<(b)?(b):(a)) - a parameterised macro\n",
    "- Now let's get down the basic syntax"
   ]
  },
  {
   "cell_type": "markdown",
   "metadata": {
    "slideshow": {
     "slide_type": "slide"
    }
   },
   "source": [
    "# True / False and Comparison\n",
    "- Traditionally, C did not have a boolean type and just uses `int`:\n",
    "    -  0 - is false\n",
    "    - Any other `int` is true\n",
    "- Comparisons `<`, `<=`, `==`, `>=`, `>`, `!=` will evaluate to `1` if they hold and `0` if they don't\n"
   ]
  },
  {
   "cell_type": "markdown",
   "metadata": {
    "slideshow": {
     "slide_type": "slide"
    }
   },
   "source": [
    "# True / False and Comparison\n"
   ]
  },
  {
   "cell_type": "code",
   "execution_count": 1,
   "metadata": {
    "slideshow": {
     "slide_type": "fragment"
    }
   },
   "outputs": [
    {
     "name": "stdout",
     "output_type": "stream",
     "text": [
      "Is 4<5? 1\n",
      "Is 4==5? 0\n",
      "Is 4!=5? 1\n"
     ]
    }
   ],
   "source": [
    "#include <stdio.h>\n",
    "\n",
    "int main(){\n",
    "    printf(\"Is 4<5? %d\\n\", 4<5);\n",
    "    printf(\"Is 4==5? %d\\n\", 4==5);\n",
    "    printf(\"Is 4!=5? %d\\n\", 4!=5);\n",
    "    return 0;\n",
    "}"
   ]
  },
  {
   "cell_type": "markdown",
   "metadata": {
    "slideshow": {
     "slide_type": "slide"
    }
   },
   "source": [
    "# True / False and Comparison\n",
    "\n",
    "- (C99 introduced `bool`, which is defined in `stdbool.h`)\n",
    "- You can still use the integer convention if you prefer"
   ]
  },
  {
   "cell_type": "markdown",
   "metadata": {
    "slideshow": {
     "slide_type": "slide"
    }
   },
   "source": [
    "# Statements and Compound Statements\n",
    "\n",
    "- A *statement* in C is a single instruction terminated with a semicolon\n",
    "    - `printf(\"Hello world!\\n\");`\n"
   ]
  },
  {
   "cell_type": "markdown",
   "metadata": {
    "slideshow": {
     "slide_type": "slide"
    }
   },
   "source": [
    "# Statements and Compound Statements\n",
    "\n",
    "- A *compound statement* is a set of statements surrounded by curly brackets `{ }`\n",
    "    - ``{\n",
    "      printf(\"Hello \");\n",
    "      printf(\"world!\\n\");\n",
    "      }``\n",
    "\n",
    "- You can always replace a statement with a compound statement\n",
    "- C doesn't care about formatting -- but we need it!"
   ]
  },
  {
   "cell_type": "markdown",
   "metadata": {
    "slideshow": {
     "slide_type": "slide"
    }
   },
   "source": [
    "# Iteration statements\n",
    "C provides three iteration statements:\n",
    "\n",
    "- The `while` statement is used for loops whose controlling expression is tested before the loop body is executed \n",
    "\n",
    "- The `do` statement is used if the expression is tested after the loop body is executed \n",
    "\n",
    "- The `for` statement is convenient for loops that increment or decrement a counting variable or iterator"
   ]
  },
  {
   "cell_type": "markdown",
   "metadata": {
    "slideshow": {
     "slide_type": "slide"
    }
   },
   "source": [
    "# Iteration statements\n",
    "### The `while` statement\n",
    "\n",
    "- The while statement has the form:\n",
    "\n",
    "``while ( expression ) {\n",
    "    statement\n",
    "   }``\n",
    "\n",
    "- `expression` is the controlling expression\n",
    "- `statement` is the loop body\n",
    "\n",
    "- The expression is evaluated and if it is nonzero (true) then the loop body is executed\n",
    "- The expression is tested before the loop body begins"
   ]
  },
  {
   "cell_type": "markdown",
   "metadata": {
    "slideshow": {
     "slide_type": "slide"
    }
   },
   "source": [
    "### The `while` statement\n",
    "### Example"
   ]
  },
  {
   "cell_type": "code",
   "execution_count": 2,
   "metadata": {
    "slideshow": {
     "slide_type": "fragment"
    }
   },
   "outputs": [
    {
     "name": "stdout",
     "output_type": "stream",
     "text": [
      "Hello planet\n",
      "Hello planet\n",
      "Hello planet\n",
      "Hello planet\n",
      "Hello planet\n",
      "Hello planet\n",
      "Hello planet\n",
      "Hello planet\n"
     ]
    }
   ],
   "source": [
    "#include <stdio.h>\n",
    "\n",
    "int main(){\n",
    "    int i = 8;\n",
    "    while(i>0){\n",
    "        printf(\"Hello planet\\n\");\n",
    "        i = i-1;\n",
    "    }\n",
    "    return 0;\n",
    "}"
   ]
  },
  {
   "cell_type": "markdown",
   "metadata": {
    "slideshow": {
     "slide_type": "slide"
    }
   },
   "source": [
    "# Iteration statements\n",
    "### The `do` statement\n",
    "\n",
    "- The `do` statement has the form\n",
    "\n",
    "``do {\n",
    "    statement \n",
    "  }while ( expression );``\n",
    "\n",
    "- `expression` is the controlling expression\n",
    "- `statement` is the loop body\n",
    "\n",
    "- The expression is evaluated and if it is nonzero (true) then the loop body is executed again\n",
    "- The expression is tested after the loop body ends"
   ]
  },
  {
   "cell_type": "markdown",
   "metadata": {
    "slideshow": {
     "slide_type": "slide"
    }
   },
   "source": [
    "### The `do` statement\n",
    "### Example"
   ]
  },
  {
   "cell_type": "code",
   "execution_count": 3,
   "metadata": {
    "slideshow": {
     "slide_type": "fragment"
    }
   },
   "outputs": [
    {
     "name": "stdout",
     "output_type": "stream",
     "text": [
      "Hello planet\n",
      "Hello planet\n",
      "Hello planet\n",
      "Hello planet\n",
      "Hello planet\n",
      "Hello planet\n",
      "Hello planet\n",
      "Hello planet\n"
     ]
    }
   ],
   "source": [
    "#include <stdio.h>\n",
    "\n",
    "int main(){\n",
    "    int i = 8;\n",
    "    do{\n",
    "        printf(\"Hello planet\\n\");\n",
    "        i = i-1;\n",
    "    } while(i>0);\n",
    "    return 0;\n",
    "}"
   ]
  },
  {
   "cell_type": "markdown",
   "metadata": {
    "slideshow": {
     "slide_type": "slide"
    }
   },
   "source": [
    "# Iteration statements\n",
    "### The `for` statement\n",
    "\n",
    "- The for statement is ideal for loops that have a counting variable, but it's versatile enough to be used for other kinds of loops as well\n"
   ]
  },
  {
   "cell_type": "markdown",
   "metadata": {
    "slideshow": {
     "slide_type": "slide"
    }
   },
   "source": [
    "# Iteration statements\n",
    "### The `for` statement\n",
    "\n",
    "- General form of the `for` statement:\n",
    "\n",
    "``for ( expr1 ; expr2 ; expr3 ){ \n",
    "    statement\n",
    "  }``\n",
    " \n",
    "- `expr1` - initialisation\n",
    "- `expr2` - conditional\n",
    "- `expr3` - increment\n",
    "\n"
   ]
  },
  {
   "cell_type": "markdown",
   "metadata": {
    "slideshow": {
     "slide_type": "slide"
    }
   },
   "source": [
    "### The `for` statement\n",
    "### Example\n"
   ]
  },
  {
   "cell_type": "code",
   "execution_count": 6,
   "metadata": {
    "slideshow": {
     "slide_type": "fragment"
    }
   },
   "outputs": [
    {
     "name": "stdout",
     "output_type": "stream",
     "text": [
      "Hello planet\n",
      "Hello planet\n",
      "Hello planet\n",
      "Hello planet\n",
      "Hello planet\n",
      "Hello planet\n",
      "Hello planet\n",
      "Hello planet\n"
     ]
    }
   ],
   "source": [
    "#include <stdio.h>\n",
    "\n",
    "int main(){\n",
    "    for(int i = 8; i >0; i=i-1){\n",
    "        printf(\"Hello planet\\n\");\n",
    "    }\n",
    "    return 0;\n",
    "}"
   ]
  },
  {
   "cell_type": "markdown",
   "metadata": {
    "slideshow": {
     "slide_type": "slide"
    }
   },
   "source": [
    "# The `break` and `continue` statements\n",
    "\n",
    "- `break;` - statement causes the innermost enclosing loop to be exited immediately\n"
   ]
  },
  {
   "cell_type": "code",
   "execution_count": 7,
   "metadata": {
    "slideshow": {
     "slide_type": "fragment"
    }
   },
   "outputs": [
    {
     "name": "stdout",
     "output_type": "stream",
     "text": [
      "Hello planet\n"
     ]
    }
   ],
   "source": [
    "#include <stdio.h>\n",
    "\n",
    "int main(){\n",
    "    for(int i = 0; i < 8; i++){\n",
    "        printf(\"Hello planet\\n\");\n",
    "        break;\n",
    "    }\n",
    "    return 0;\n",
    "}"
   ]
  },
  {
   "cell_type": "markdown",
   "metadata": {
    "slideshow": {
     "slide_type": "slide"
    }
   },
   "source": [
    "# The `break` and `continue` statements\n",
    "\n",
    "- `continue;` causes the next iteration for the loop to begin\n",
    "- In the case of a `while` or `do` loop, the test part is executed immediately; \n",
    "- in the case of a `for` loop, control first passes to the increment step."
   ]
  },
  {
   "cell_type": "code",
   "execution_count": 9,
   "metadata": {
    "slideshow": {
     "slide_type": "fragment"
    }
   },
   "outputs": [],
   "source": [
    "#include <stdio.h>\n",
    "\n",
    "int main(){\n",
    "    for(int i = 0; i < 8; i++){\n",
    "        continue;\n",
    "        printf(\"Hello planet\\n\");\n",
    "    }\n",
    "    return 0;\n",
    "}"
   ]
  },
  {
   "cell_type": "markdown",
   "metadata": {
    "slideshow": {
     "slide_type": "slide"
    }
   },
   "source": [
    "# The `if`-`else` statement\n",
    "\n",
    "- `if` statement allows choice between two alternatives by testing an expression\n",
    "\n",
    "- An `if` statement may have an `else` clause:\n",
    "``if ( expr1 ) {\n",
    "    statement1 \n",
    "  }\n",
    "  else {\n",
    "    statement2\n",
    "  }``\n",
    "\n",
    "- When executed, `expr1` is evaluated;\n",
    "    - if `expr1` is nonzero,`statement1` is executed \n",
    "    - otherwise `statement2` (if present) is executed "
   ]
  },
  {
   "cell_type": "markdown",
   "metadata": {
    "slideshow": {
     "slide_type": "slide"
    }
   },
   "source": [
    "### The `if`-`else` statement\n",
    "### Example"
   ]
  },
  {
   "cell_type": "code",
   "execution_count": 12,
   "metadata": {},
   "outputs": [
    {
     "name": "stdout",
     "output_type": "stream",
     "text": [
      "Hello planet\n",
      "Hello planet\n",
      "Hello planet\n",
      "Hello planet\n",
      "Hello planet\n",
      "Hello planet\n",
      "Hello planet\n",
      "Hello planet\n",
      "Hello planet\n"
     ]
    }
   ],
   "source": [
    "#include <stdio.h>\n",
    "#include <stdbool.h>\n",
    "\n",
    "int main(){\n",
    "    bool consider_pluto_a_planet = true;\n",
    "    for(int i = 0; i < 9; i++){\n",
    "        if(i==8){\n",
    "            if(consider_pluto_a_planet){\n",
    "                printf(\"Hello planet\\n\");\n",
    "            }\n",
    "            continue;\n",
    "        }\n",
    "        printf(\"Hello planet\\n\");\n",
    "    }\n",
    "    return 0;\n",
    "}"
   ]
  },
  {
   "cell_type": "markdown",
   "metadata": {
    "slideshow": {
     "slide_type": "slide"
    }
   },
   "source": [
    "# The `if`-`else` statement\n",
    "### `if`-`else` ambiguity\n",
    "\n",
    "- Technically C allows you to leave out braces, but:\n",
    "- Sometimes hard to spot this in your code:"
   ]
  },
  {
   "cell_type": "code",
   "execution_count": 13,
   "metadata": {
    "slideshow": {
     "slide_type": "fragment"
    }
   },
   "outputs": [
    {
     "name": "stdout",
     "output_type": "stream",
     "text": [
      "n less than zero\n"
     ]
    }
   ],
   "source": [
    "#include <stdio.h>\n",
    "\n",
    "int main(){\n",
    "  int n = 1;\n",
    "  int s = -1;\n",
    "  if (n > 0){\n",
    "    for (int i = 0 ; i < n ; i++ ){\n",
    "      if (s > 0){\n",
    "        printf( \"S %d \\n\", s );\n",
    "      }\n",
    "      else \n",
    "        printf(\"n less than zero\\n\");\n",
    "      }\n",
    "    }\n",
    "    return 0;\n",
    "}"
   ]
  },
  {
   "cell_type": "markdown",
   "metadata": {
    "slideshow": {
     "slide_type": "fragment"
    }
   },
   "source": [
    "- Adding the braces even where not strictly necessary can help\n",
    "- As does indentation.\n"
   ]
  },
  {
   "cell_type": "markdown",
   "metadata": {
    "slideshow": {
     "slide_type": "slide"
    }
   },
   "source": [
    "# Summary\n",
    "\n",
    "- We looked at some basic C syntax\n",
    "- 3 types of loops:\n",
    "    - for\n",
    "    - while\n",
    "    - do\n",
    "- continue, break\n",
    "- if, else"
   ]
  }
 ],
 "metadata": {
  "celltoolbar": "Slideshow",
  "jupytext": {
   "formats": "ipynb"
  },
  "kernelspec": {
   "display_name": "C",
   "language": "c",
   "name": "c"
  },
  "language_info": {
   "file_extension": ".c",
   "mimetype": "text/plain",
   "name": "c"
  },
  "rise": {
   "autolaunch": true,
   "enable_chalkboard": true,
   "scroll": true,
   "theme": "white"
  }
 },
 "nbformat": 4,
 "nbformat_minor": 2
}
