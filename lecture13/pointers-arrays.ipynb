{
 "cells": [
  {
   "cell_type": "markdown",
   "metadata": {
    "slideshow": {
     "slide_type": "slide"
    }
   },
   "source": [
    "# Systems Programming\n",
    "\n",
    "## Lecture 13: More Pointers and Arrays\n",
    "\n",
    "### Amir Atapour-Abarghouei\n",
    "\n",
    "amir.atapour-abarghouei@durham.ac.uk\n"
   ]
  },
  {
   "cell_type": "markdown",
   "metadata": {
    "slideshow": {
     "slide_type": "slide"
    }
   },
   "source": [
    "# Recap - Pointers\n",
    "\n",
    "- Pointers\n",
    "- Pointer Assignment\n",
    "- Pointers as Arguments\n",
    "- Pointer Arithmetic\n",
    "- Pointers to Pointers\n",
    "- Dangers of Pointers\n",
    "\n",
    "**Breaking things is easy!**"
   ]
  },
  {
   "cell_type": "markdown",
   "metadata": {
    "slideshow": {
     "slide_type": "slide"
    }
   },
   "source": [
    "# Recap - Pointer Arithmetic\n",
    "\n",
    "```\n",
    "int a[10];\n",
    "int *pa;\n",
    "```\n",
    "This pair of statements are equivalent (+1 translates to +4 bytes (1 int)):\n",
    "```\n",
    "pa = &a[1];\n",
    "pa = (a+1);\n",
    "```\n",
    "<center><img src=\"images/point2second.png\" alt=\"point to array\" width=\"600\"/></center>"
   ]
  },
  {
   "cell_type": "markdown",
   "metadata": {
    "slideshow": {
     "slide_type": "slide"
    }
   },
   "source": [
    "## Today\n",
    "\n",
    "# More on Pointers and Arrays"
   ]
  },
  {
   "cell_type": "markdown",
   "metadata": {
    "slideshow": {
     "slide_type": "slide"
    }
   },
   "source": [
    "# Pointers and `const`\n",
    "\n",
    "The `const` keyword is used a differently when pointers are involved.\n",
    "\n",
    "- These two declarations are equivalent:\n",
    "\n",
    "```c\n",
    "const int *ptr_a;\n",
    "int const *ptr_a;\n",
    "```\n",
    "\n",
    "- These two, however, are **Not** equivalent:\n",
    "\n",
    "```c\n",
    "int const *ptr_a;\n",
    "int *const ptr_b;\n",
    "```"
   ]
  },
  {
   "cell_type": "markdown",
   "metadata": {
    "slideshow": {
     "slide_type": "slide"
    }
   },
   "source": [
    "# Pointers and `const`\n",
    "\n",
    "- These two are **Not** equivalent:\n",
    "\n",
    "```c\n",
    "int const *ptr_a;\n",
    "int *const ptr_b;\n",
    "```\n",
    "\n",
    "- In the first example, the `int`(i.e. `*ptr_a`) is `const`.\n",
    "    - We cannot do `*ptr_a = 123`.\n",
    "- In the second example, the pointer itself is `const`.\n",
    "    - We can change `*ptr_b` just fine, but you cannot change (using pointer arithmetic, e.g. `ptr_b++`) the pointer itself."
   ]
  },
  {
   "cell_type": "markdown",
   "metadata": {
    "slideshow": {
     "slide_type": "slide"
    }
   },
   "source": [
    "# Recap - Arrays and Strings\n",
    "\n",
    "```c\n",
    "char a[] = \"Hello worlds\";\n",
    "char b[13];\n",
    "char *c;\n",
    "c = a;\n",
    "```\n",
    "- This will set pointer `c` to the same address as `a`\n",
    "    - `a` is essentially a pointer!\n",
    "\n",
    "- We can use `strcpy(b,a);` \n",
    "    - first argument is the destination - need to `#include <string.h>`"
   ]
  },
  {
   "cell_type": "markdown",
   "metadata": {
    "slideshow": {
     "slide_type": "slide"
    }
   },
   "source": [
    "# Function Pointers\n",
    "\n",
    "It's possible to take the address of a function, too.\n",
    "\n",
    "- Similarly to arrays, **functions decay to pointers when their names are used**.\n",
    "\n",
    "So if we wanted the address of `strcpy`, we could just use `strcpy` or `&strcpy`. "
   ]
  },
  {
   "cell_type": "code",
   "execution_count": 4,
   "metadata": {
    "slideshow": {
     "slide_type": "fragment"
    }
   },
   "outputs": [
    {
     "name": "stdout",
     "output_type": "stream",
     "text": [
      "This is a string."
     ]
    }
   ],
   "source": [
    "#include<stdio.h>\n",
    "#include<string.h>\n",
    "\n",
    "int main(){\n",
    "    char src[] = \"This is a string.\", dst[18];\n",
    "    strcpy(dst, src); //strcpy is basically a pointer\n",
    "    printf(\"%s\", dst);\n",
    "    return 0;\n",
    "}"
   ]
  },
  {
   "cell_type": "markdown",
   "metadata": {
    "slideshow": {
     "slide_type": "slide"
    }
   },
   "source": [
    "# Function Pointers\n",
    "\n",
    "There's syntax for declaring variables whose type is a function pointer.\n",
    "\n",
    "- This is an ordinary function declaration:\n",
    "```c\n",
    "char *strcpy(char *dst, const char *src);\n",
    "```\n",
    "\n",
    "- We can now have a function pointer:\n",
    "\n",
    "```c\n",
    "char *(*strcpy_ptr)(char *dst, const char *src);\n",
    "\n",
    "strcpy_ptr =  strcpy;\n",
    "strcpy_ptr = &strcpy;    // This works too\n",
    "strcpy_ptr = &strcpy[0]; // But not this, for obvious reasons\n",
    "```"
   ]
  },
  {
   "cell_type": "code",
   "execution_count": 12,
   "metadata": {
    "slideshow": {
     "slide_type": "slide"
    }
   },
   "outputs": [
    {
     "name": "stdout",
     "output_type": "stream",
     "text": [
      "This is a string."
     ]
    }
   ],
   "source": [
    "#include<stdio.h>\n",
    "#include<string.h>\n",
    "\n",
    "char *(*strcpy_ptr)(char *dst, const char *src);\n",
    "\n",
    "int main(){\n",
    "    char src[] = \"This is a string.\", dst[18];\n",
    "    \n",
    "    strcpy_ptr = strcpy;\n",
    "    //strcpy_ptr = &strcpy;\n",
    "    //strcpy_ptr = &strcpy[0];\n",
    "    strcpy_ptr(dst, src);\n",
    "    printf(\"%s\", dst);\n",
    "    return 0;\n",
    "}"
   ]
  },
  {
   "cell_type": "markdown",
   "metadata": {
    "slideshow": {
     "slide_type": "slide"
    }
   },
   "source": [
    "# Function Pointers\n",
    "\n",
    "```c\n",
    "char *(*strcpy_ptr)(char *dst, const char *src);\n",
    "```\n",
    "\n",
    "- Note the parentheses around `*strcpy_ptr` in the declaration.\n",
    "\n",
    "    - These separate the `*` indicating return type (`char *`) from the `*` indicating the pointer variable (`*strcpy_ptr` — pointer to function).\n",
    "    \n",
    "- As you might expect, a pointer to a pointer to a function has two asterisks inside of the parentheses:\n",
    "\n",
    "```c\n",
    "char *(**strcpy_ptr_ptr)(char *, const char *) = &strcpy_ptr;\n",
    "```\n",
    "\n"
   ]
  },
  {
   "cell_type": "markdown",
   "metadata": {
    "slideshow": {
     "slide_type": "slide"
    }
   },
   "source": [
    "# Function Pointers\n",
    "\n",
    "Things can get a bit too complicated:\n",
    "\n",
    "- A function pointer can even be the return value of a function.\n",
    "\n",
    "```c\n",
    "char *(*get_strcpy_ptr(void))(char *dst, const char *src);\n",
    "```\n",
    "\n",
    "- This is basically the declaration of a function that returns a function pointer.\n",
    "\n",
    "Since function pointers can get confusing, many use `typedefs` to abstract them:\n",
    "\n",
    "```c\n",
    "typedef char *(*strcpy_funcptr)(char *, const char *);\n",
    "\n",
    "strcpy_funcptr strcpy_ptr = strcpy;\n",
    "strcpy_funcptr get_strcpy_ptr(void);\n",
    "```"
   ]
  },
  {
   "cell_type": "markdown",
   "metadata": {
    "slideshow": {
     "slide_type": "slide"
    }
   },
   "source": [
    "# Function Pointers\n",
    "\n",
    "What is important is, just as we have pointers to variables, we can also have pointers to functions!"
   ]
  },
  {
   "cell_type": "code",
   "execution_count": 13,
   "metadata": {
    "slideshow": {
     "slide_type": "fragment"
    }
   },
   "outputs": [
    {
     "name": "stdout",
     "output_type": "stream",
     "text": [
      "Hello, Function Pointer!\n",
      "Hello, Function Pointer!\n",
      "Hello, Function Pointer!\n"
     ]
    }
   ],
   "source": [
    "#include<stdio.h>\n",
    "void hello_function(int times);\n",
    "\n",
    "int main(){\n",
    "    void (*func_ptr)(int);\n",
    "    func_ptr=hello_function;\n",
    "    func_ptr(3);\n",
    "    return 0;\n",
    "}\n",
    "\n",
    "void hello_function(int times){\n",
    "    for(int i=0;i<times;i++)\n",
    "        printf(\"Hello, Function Pointer!\\n\");\n",
    "}"
   ]
  },
  {
   "cell_type": "markdown",
   "metadata": {
    "slideshow": {
     "slide_type": "slide"
    }
   },
   "source": [
    "# Realistic Example - Using `qsort()`\n",
    "\n",
    "`stdlib.h` contains an implementation of the quicksort algorithm:\n",
    "\n",
    "```c\n",
    "void qsort(void *base, size_t nmemb, size_t size,\n",
    "           int (*compare)(const void *, const void *))\n",
    "```\n",
    "\n",
    "- `void *base` is a pointer to the array.\n",
    "- `size_t nmemb` is the number of elements in the array.\n",
    "- `size_t size` is the size of each element.\n",
    "- `int (*compare)(const void *, const void *)` is a function pointer composed of two arguments and returns 0 when the arguments have the same value, <0 when `arg1` comes before `arg2`, and >0 when `arg1` comes after `arg2`."
   ]
  },
  {
   "cell_type": "code",
   "execution_count": 18,
   "metadata": {
    "slideshow": {
     "slide_type": "slide"
    }
   },
   "outputs": [
    {
     "name": "stdout",
     "output_type": "stream",
     "text": [
      "13 14 48 50 52 \n"
     ]
    }
   ],
   "source": [
    "#include <stdio.h>\n",
    "#include <stdlib.h>\n",
    "\n",
    "int compare (const void *, const void *);\n",
    "\n",
    "int main() {\n",
    "    int arr[] = {52, 14, 50, 48, 13};\n",
    "    int num, width, i;\n",
    "    num = sizeof(arr)/sizeof(arr[0]);\n",
    "    width = sizeof(arr[0]);\n",
    "    \n",
    "    qsort(arr, num, width, compare);\n",
    "    // we could have used &compare\n",
    "    for (i = 0; i < 5; i++)\n",
    "        printf(\"%d \", arr[i]);\n",
    "    printf(\"\\n\");\n",
    "    return 0;\n",
    "}\n",
    "int compare (const void *arg1, const void *arg2) {\n",
    "    return *(int *)arg1 - *(int *)arg2;\n",
    "}"
   ]
  },
  {
   "cell_type": "markdown",
   "metadata": {
    "slideshow": {
     "slide_type": "slide"
    }
   },
   "source": [
    "# Recap - Pointers and Arrays\n",
    "\n",
    "In C, if we write `a[x]`, this works by adding `x` to `a` to find the pointer.\n",
    "\n",
    "- Hence `a[x]` is the same as `*(a+x)`\n",
    "    - This seems fine with `a[2]`\n",
    "    - But what if we write `2[a]`?\n",
    "        - It will compile and run!"
   ]
  },
  {
   "cell_type": "markdown",
   "metadata": {
    "slideshow": {
     "slide_type": "slide"
    }
   },
   "source": [
    "# Arrays\n",
    "\n",
    "- We can also have multi-dimensional arrays in C, e.g.\n",
    "\n",
    "```c\n",
    "int matrix[2][3] = {{1,2,3},{4,5,6}};\n",
    "```\n",
    "- Now `matrix[0][1]==2`.\n",
    "\n",
    "- We can have more than 2-dimensional arrays:\n",
    "\n",
    "```c\n",
    "int arr3d[3][2][4] = {\n",
    "    {{1, 2, 3, 4}, {5, 6, 7, 8}},\n",
    "    {{9, 10, 11, 12}, {13, 14, 15, 16}},\n",
    "    {{17, 18, 19, 20}, {21, 22, 23, 24}}\n",
    "};\n",
    "```"
   ]
  },
  {
   "cell_type": "markdown",
   "metadata": {
    "slideshow": {
     "slide_type": "slide"
    }
   },
   "source": [
    "# Multi-Dimensional Arrays\n",
    "\n",
    "- We can have more than 2-dimensional arrays:\n",
    "\n",
    "```c\n",
    "int arr3d[3][2][4] = {\n",
    "    {{1, 2, 3, 4}, {5, 6, 7, 8}},\n",
    "    {{9, 10, 11, 12}, {13, 14, 15, 16}},\n",
    "    {{17, 18, 19, 20}, {21, 22, 23, 24}}\n",
    "};\n",
    "```\n",
    "The elements of arr3d will be allocated in memory in the order\n",
    "\n",
    "`arr3d[0][0][0]`, `arr3d[0][0][1]`, `arr3d[0][0][2]`,\n",
    "\n",
    "`arr3d[0][0][3]`, `arr3d[0][1][0]`,`arr3d[0][1][1]`, etc."
   ]
  },
  {
   "cell_type": "markdown",
   "metadata": {
    "slideshow": {
     "slide_type": "slide"
    }
   },
   "source": [
    "# Multi-Dimensional Arrays\n",
    "\n",
    "- How would we print the values in a multi-dimensional array?"
   ]
  },
  {
   "cell_type": "code",
   "execution_count": 20,
   "metadata": {
    "slideshow": {
     "slide_type": "fragment"
    }
   },
   "outputs": [
    {
     "name": "stdout",
     "output_type": "stream",
     "text": [
      "the value at arr[0][0][0]: 1\n",
      "the value at arr[0][0][1]: 2\n",
      "the value at arr[0][0][2]: 3\n",
      "the value at arr[0][0][3]: 4\n",
      "the value at arr[0][1][0]: 5\n",
      "the value at arr[0][1][1]: 6\n",
      "the value at arr[0][1][2]: 7\n",
      "the value at arr[0][1][3]: 8\n",
      "the value at arr[1][0][0]: 9\n",
      "the value at arr[1][0][1]: 10\n",
      "the value at arr[1][0][2]: 11\n",
      "the value at arr[1][0][3]: 12\n",
      "the value at arr[1][1][0]: 13\n",
      "the value at arr[1][1][1]: 14\n",
      "the value at arr[1][1][2]: 15\n",
      "the value at arr[1][1][3]: 16\n",
      "the value at arr[2][0][0]: 17\n",
      "the value at arr[2][0][1]: 18\n",
      "the value at arr[2][0][2]: 19\n",
      "the value at arr[2][0][3]: 20\n",
      "the value at arr[2][1][0]: 21\n",
      "the value at arr[2][1][1]: 22\n",
      "the value at arr[2][1][2]: 23\n",
      "the value at arr[2][1][3]: 24\n"
     ]
    }
   ],
   "source": [
    "#include<stdio.h>\n",
    "\n",
    "int main(){\n",
    "    int arr3d[3][2][4] = {\n",
    "        {{1, 2, 3, 4}, {5, 6, 7, 8}},\n",
    "        {{9, 10, 11, 12}, {13, 14, 15, 16}},\n",
    "        {{17, 18, 19, 20}, {21, 22, 23, 24}}\n",
    "    };\n",
    "    \n",
    "    for(int i=0;i<=2;i++)\n",
    "        for(int j=0;j<=1;j++)\n",
    "            for(int k=0;k<=3;k++){\n",
    "                printf(\"the value at arr[%d][%d][%d]: \",i,j,k);\n",
    "                printf(\"%d\\n\",arr3d[i][j][k]);\n",
    "            }\n",
    "}"
   ]
  },
  {
   "cell_type": "markdown",
   "metadata": {
    "slideshow": {
     "slide_type": "slide"
    }
   },
   "source": [
    "# Multi-Dimensional Arrays\n",
    "\n",
    "```c\n",
    "int arr3d[3][2][4] = {\n",
    "    {{1, 2, 3, 4}, {5, 6, 7, 8}},\n",
    "    {{9, 10, 11, 12}, {13, 14, 15, 16}},\n",
    "    {{17, 18, 19, 20}, {21, 22, 23, 24}}\n",
    "};\n",
    "```\n",
    "\n",
    "- `&arr3d[i][j][k]` is the same as `&arr3d[0][0][0]+(i*2*4)+j*4+k`\n"
   ]
  },
  {
   "cell_type": "markdown",
   "metadata": {
    "slideshow": {
     "slide_type": "slide"
    }
   },
   "source": [
    "# Multi-Dimensional Arrays\n",
    "\n",
    "```c\n",
    "int arr3d[3][2][4] = {\n",
    "    {{1, 2, 3, 4}, {5, 6, 7, 8}},\n",
    "    {{9, 10, 11, 12}, {13, 14, 15, 16}},\n",
    "    {{17, 18, 19, 20}, {21, 22, 23, 24}}\n",
    "};\n",
    "```\n",
    "\n",
    "How would you create a variable to store these?\n",
    "\n",
    "- What is the type of `arr3d[0][0][0]`?\n",
    "\n",
    "- What is the type of `arr3d[0][0]`?\n",
    "\n",
    "- What is the type of `arr3d[0]`?\n",
    "\n",
    "- What is the type of `arr3d`?"
   ]
  },
  {
   "cell_type": "code",
   "execution_count": 24,
   "metadata": {
    "slideshow": {
     "slide_type": "slide"
    }
   },
   "outputs": [],
   "source": [
    "int main(){\n",
    "    \n",
    "    int arr3d[2][3][4] = {\n",
    "        {{1, 2, 3, 4}, {5, 6, 7, 8}, {9, 10, 11, 12}},\n",
    "        {{13, 14, 15, 16}, {17, 18, 19, 20}, {21, 22, 23, 24}}\n",
    "    };\n",
    "\n",
    "    //What are the types of the following?\n",
    "    //How would you create a variable to store them?\n",
    "    int zerod = arr3d[0][0][0];\n",
    "    int *oned = arr3d[0][0];\n",
    "    int (*twod)[4] = arr3d[0];\n",
    "    int (*threed)[3][4] = arr3d;\n",
    "}"
   ]
  },
  {
   "cell_type": "markdown",
   "metadata": {
    "slideshow": {
     "slide_type": "slide"
    }
   },
   "source": [
    "# Pointers and Arrays\n",
    "\n",
    "For further fun with pointers and arrays, take look at:\n",
    "\n",
    "https://www.oreilly.com/library/view/understanding-and-using/9781449344535/ch04.html"
   ]
  },
  {
   "cell_type": "markdown",
   "metadata": {
    "slideshow": {
     "slide_type": "slide"
    }
   },
   "source": [
    "# Summary\n",
    "\n",
    "- `const` Pointers\n",
    "\n",
    "- Function Pointers\n",
    "\n",
    "- `qsort()`\n",
    "\n",
    "- Pointers and Arrays\n",
    "\n",
    "- Multi-Dimensional Arrays"
   ]
  }
 ],
 "metadata": {
  "celltoolbar": "Slideshow",
  "jupytext": {
   "formats": "ipynb"
  },
  "kernelspec": {
   "display_name": "C",
   "language": "c",
   "name": "c"
  },
  "language_info": {
   "file_extension": ".c",
   "mimetype": "text/plain",
   "name": "c"
  },
  "rise": {
   "autolaunch": true,
   "enable_chalkboard": true,
   "scroll": true,
   "theme": "white"
  }
 },
 "nbformat": 4,
 "nbformat_minor": 2
}
