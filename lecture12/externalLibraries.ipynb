{
 "cells": [
  {
   "cell_type": "markdown",
   "metadata": {
    "slideshow": {
     "slide_type": "slide"
    }
   },
   "source": [
    "# Systems Programming\n",
    "\n",
    "## Lecture 12: External Libraries\n",
    "\n",
    "### Amir Atapour-Abarghouei\n",
    "\n",
    "amir.atapour-abarghouei@durham.ac.uk\n"
   ]
  },
  {
   "cell_type": "markdown",
   "metadata": {
    "slideshow": {
     "slide_type": "slide"
    }
   },
   "source": [
    "# Recap - Makefiles\n",
    "\n",
    "- When we have a number of files to compile, we need a rule-set.\n",
    "\n",
    "- The `make` command provides this.\n",
    "\n",
    "- Requires a rule-file called the `Makefile`.\n",
    "\n",
    "- Declarative programming style set of rules for building the program.\n",
    "```\n",
    "    target [target ...]: [component ...]\n",
    "           [command 1]\n",
    "               ...\n",
    "           [command n]\n",
    "```\n",
    "- `target` - what you want to make\n",
    "- `component` - something which needs to exist (might need another rule)"
   ]
  },
  {
   "cell_type": "markdown",
   "metadata": {
    "slideshow": {
     "slide_type": "slide"
    }
   },
   "source": [
    "# Recap - Makefiles: Macros\n",
    "\n",
    "- Macros can be used to store definitions, e.g. `AUTHOR = Amir Atapour`\n",
    "    \n",
    "- They can be generated from commands, e.g. `DATE = ‘date‘`\n",
    "    \n",
    "- And used in the `Makefile`\n",
    "\n",
    "```\n",
    "all:\n",
    "    echo $(AUTHOR) compiled this on $(DATE)\n",
    "```\n",
    "\n",
    "- running this gives:\n",
    "\n",
    "```\n",
    "Amir Atapour compiled this on Mon 12 Nov 12:34:36 GMT 2021\n",
    "```\n"
   ]
  },
  {
   "cell_type": "markdown",
   "metadata": {
    "slideshow": {
     "slide_type": "slide"
    }
   },
   "source": [
    "## Today\n",
    "\n",
    "# External Libraries"
   ]
  },
  {
   "cell_type": "markdown",
   "metadata": {
    "slideshow": {
     "slide_type": "slide"
    }
   },
   "source": [
    "# External Libraries\n",
    "\n",
    "- One of the reasons why C is so popular is the huge collection of tried and tested libraries available across many different computing platforms, e.g. `OpenGL`:\n",
    "\n",
    "<center><img src=\"images/openGL.png\" alt=\"openGL\" width=\"600\"></center>\n",
    "\n",
    "- Commands from your program are sent by the API to the graphics hardware which generates pixels for display.\n",
    "\n",
    "*OpenGL behaves like a state machine."
   ]
  },
  {
   "cell_type": "markdown",
   "metadata": {
    "slideshow": {
     "slide_type": "slide"
    }
   },
   "source": [
    "# OpenGL Programming\n",
    "\n",
    "On its own OpenGL is:\n",
    "\n",
    "1. Low level\n",
    "2. OS independent\n",
    "\n",
    "Hence it is usually used with:\n",
    "\n",
    "- GLU a utility library with high level shape support\n",
    "- GLUT utility library for window creation and I/O"
   ]
  },
  {
   "cell_type": "markdown",
   "metadata": {
    "slideshow": {
     "slide_type": "slide"
    }
   },
   "source": [
    "# Commonly-Used C Libraries\n",
    "\n",
    "- general: `libglib` / `libgobject` / `libpthread`\n",
    "- console: `libncurses`\n",
    "- 2D graphics: `libX11` / `libSDL`\n",
    "- 3D graphics: `libGL` / `libGLU` / `libGLUT`\n",
    "- GUI toolkits: `libgtk` / `libQT`\n",
    "- Images: `libjpeg` / `libpng` / `libgif`"
   ]
  },
  {
   "cell_type": "markdown",
   "metadata": {
    "slideshow": {
     "slide_type": "slide"
    }
   },
   "source": [
    "# Commonly-Used C Libraries\n",
    "\n",
    "- text rendering: `libpango` / `libfreetype`\n",
    "- sound: `libasound` / `libSDL`\n",
    "- compression: `libz` / `libgzip` / `libbz2`\n",
    "- encryption: `libcrypt` / `libssl` / `libgssapi` / `libkrb5`\n",
    "- XML: `libxml2`\n",
    "- web: `libcurl`"
   ]
  },
  {
   "cell_type": "markdown",
   "metadata": {
    "slideshow": {
     "slide_type": "slide"
    }
   },
   "source": [
    "# Compilation Model\n",
    "\n",
    "<center><img src=\"images/compile.png\" alt=\"compilation model\" width=\"800\"></center>"
   ]
  },
  {
   "cell_type": "markdown",
   "metadata": {
    "slideshow": {
     "slide_type": "slide"
    }
   },
   "source": [
    "# Usage of Libraries\n",
    "\n",
    "- If a library is *statically linked*, then a copy of the library is included in the executable.\n",
    "\n",
    "- C/C++/assembly can be combined.\n",
    "\n",
    "- Often bound to other languages e.g. php, XML, curl.\n",
    "\n",
    "- Many of these libraries will be *dynamically linked*.\n",
    "\n",
    "- Try `ldd /usr/bin/php` on Linux to list dynamic dependencies\n",
    "\n",
    "- LGPL (Lesser Gnu Public License) often used."
   ]
  },
  {
   "cell_type": "markdown",
   "metadata": {
    "slideshow": {
     "slide_type": "slide"
    }
   },
   "source": [
    "# Dynamic vs Static Linking\n",
    "\n",
    "- Dynamic linking takes place at run-time not build-time.\n",
    "\n",
    "    - Reduces filespace demands (bloat) by keeping only one copy of the library.\n",
    "    - Only one copy of the library is loaded into memory.\n",
    "    - Can help with updates e.g. for security.\n",
    "    - Using dynamic linking can be slightly slower than static linking."
   ]
  },
  {
   "cell_type": "markdown",
   "metadata": {
    "slideshow": {
     "slide_type": "slide"
    }
   },
   "source": [
    "# Dynamic vs Static Linking\n",
    "\n",
    "- Dynamic libraries are called differently by OSs.\n",
    "\n",
    "    - Linux: shared objects (`.so`)\n",
    "\n",
    "    - Windows: Dynamic Link Libraries (`.dll`)\n",
    "\n",
    "    - OSX: `.dylib`\n",
    "\n",
    "- Can lead to “*DLL Hell*”: many versions of the same dynamic library\n",
    "    - Best to include version number with library."
   ]
  },
  {
   "cell_type": "markdown",
   "metadata": {
    "slideshow": {
     "slide_type": "slide"
    }
   },
   "source": [
    "# Side Note: Semantic Versioning\n",
    "\n",
    "`Python 3.9.6`\n",
    "\n",
    "- `3`: Major version\n",
    "- `9`: Minor version\n",
    "- `6`: Patch version"
   ]
  },
  {
   "cell_type": "markdown",
   "metadata": {
    "slideshow": {
     "slide_type": "fragment"
    }
   },
   "source": [
    "If any change to the software is completely backwards compatible, only the **Patch Version** is incremented.\n",
    "- Nothing is added or removed (externally, it is as if nothing is changed).\n",
    "    - e.g. security fixes"
   ]
  },
  {
   "cell_type": "markdown",
   "metadata": {
    "slideshow": {
     "slide_type": "slide"
    }
   },
   "source": [
    "# Side Note: Semantic Versioning\n",
    "\n",
    "`Python 3.9.6`\n",
    "\n",
    "- `3`: Major version\n",
    "- `9`: Minor version\n",
    "- `6`: Patch version\n",
    "\n",
    "If some functionality is added to the library (or software) and nothing is removed, then the **Minor Version** is incremented and the Patch Version is set to zero.\n",
    "- Older software will work with the new version.\n"
   ]
  },
  {
   "cell_type": "markdown",
   "metadata": {
    "slideshow": {
     "slide_type": "slide"
    }
   },
   "source": [
    "# Side Note: Semantic Versioning\n",
    "\n",
    "`Python 3.9.6`\n",
    "\n",
    "- `3`: Major version\n",
    "- `9`: Minor version\n",
    "- `6`: Patch version\n",
    "\n",
    "If backwards incompatible changes are made to the library, the **Major Version** is incremented and Minor and Patch are set to zero.\n",
    "- e.g. if a function is removed or renamed."
   ]
  },
  {
   "cell_type": "markdown",
   "metadata": {
    "slideshow": {
     "slide_type": "slide"
    }
   },
   "source": [
    "# Creating a Static Library\n",
    "\n",
    "- A static library is effectively just an archive containing object (`.o`) files and is created with the archiver `ar`.\n",
    "\n",
    "- In UNIX, static libraries use the `.a` extension.\n",
    "\n",
    "```\n",
    "gcc -c linkedlist.c -o bin/static/linkedlist.o\n",
    "gcc -c anotherfile.c -o bin/static/anotherfile.o\n",
    "ar rcs bin/static/libLL.a bin/static/linkedlist.o \\\n",
    "       bin/static/anotherfile.o\n",
    "```\n",
    "\n",
    "- `r` means that if the library already exists, replace it. `c` means create the library if it did not exist. `s` is to create a sorted index of the library."
   ]
  },
  {
   "cell_type": "markdown",
   "metadata": {
    "slideshow": {
     "slide_type": "slide"
    }
   },
   "source": [
    "# Creating a Static Library\n",
    "\n",
    " To link statically:\n",
    " \n",
    "- Use the `-L` flag to list a (non-standard) directory where the library can be found.\n",
    "\n",
    "- Use the `-l` flag to give the name of the library.\n",
    "    - Note that it assumes the library starts with lib and has the extension `.a` (static) or `.so` (dynamic)\n",
    "```\n",
    "gcc  main.o  -Lbin/static -lLL -o bin/main-static\n",
    "```\n",
    "Can now run: `bin/main-static`"
   ]
  },
  {
   "cell_type": "markdown",
   "metadata": {
    "slideshow": {
     "slide_type": "slide"
    }
   },
   "source": [
    "# Example\n",
    "\n",
    "## foo.h\n",
    "\n",
    "```c\n",
    "extern void foo1(void);\n",
    "extern void foo2(void);\n",
    "\n",
    "```"
   ]
  },
  {
   "cell_type": "markdown",
   "metadata": {
    "slideshow": {
     "slide_type": "slide"
    }
   },
   "source": [
    "# Example\n",
    "\n",
    "## foo1.c\n",
    "\n",
    "```c\n",
    "#include <stdio.h>\n",
    " \n",
    " \n",
    "void foo1(void){\n",
    "    printf(\"and this is part of the static library - 1\\n\");\n",
    "}\n",
    "\n",
    "```"
   ]
  },
  {
   "cell_type": "markdown",
   "metadata": {
    "slideshow": {
     "slide_type": "slide"
    }
   },
   "source": [
    "# Example\n",
    "\n",
    "## foo2.c\n",
    "\n",
    "```c\n",
    "#include <stdio.h>\n",
    " \n",
    " \n",
    "void foo2(void){\n",
    "    printf(\"and this is part of the static library - 2\\n\");\n",
    "}\n",
    "\n",
    "```"
   ]
  },
  {
   "cell_type": "markdown",
   "metadata": {
    "slideshow": {
     "slide_type": "slide"
    }
   },
   "source": [
    "\n",
    "## main.c\n",
    "\n",
    "```c\n",
    "#include <stdio.h>\n",
    "#include \"foo.h\"\n",
    " \n",
    "int main(void){\n",
    "    printf(\"This is a static library test...\\n\");\n",
    "    foo1();\n",
    "    foo2();\n",
    "    return 0;\n",
    "}\n",
    "\n",
    "```"
   ]
  },
  {
   "cell_type": "markdown",
   "metadata": {
    "slideshow": {
     "slide_type": "slide"
    }
   },
   "source": [
    "# Let's create a static library..."
   ]
  },
  {
   "cell_type": "markdown",
   "metadata": {
    "slideshow": {
     "slide_type": "slide"
    }
   },
   "source": [
    "# Creating a Shared Library - *dynamically linked*\n",
    "\n",
    "- Objects files for a shared library need to be compiled with the `-fPIC` option.\n",
    "- On UNIX, shared libraries use the `.so` extension.\n",
    "- PIC=“Position Independent Code”, since we don’t know where in memory the library will be loaded at run-time.\n",
    "\n",
    "```\n",
    "gcc -fPIC -c linkedlist.c -o bin/dynamic/linkedlist.o\n",
    "gcc -fPIC -c anotherfile.c -o bin/dynamic/anotherfile.o\n",
    "gcc -shared bin/dynamic/linkedlist.o \\\n",
    "    bin/dynamic/anotherfile.o -o bin/dynamic/libLL.so\n",
    "```\n",
    "\n",
    "- To link dynamically:\n",
    "    - `gcc main.o -Lbin/dynamic -lLL -o bin/main-dynamic`"
   ]
  },
  {
   "cell_type": "markdown",
   "metadata": {
    "slideshow": {
     "slide_type": "slide"
    }
   },
   "source": [
    "# Creating a Shared Library\n",
    "\n",
    "- If we try to run it, we get an error:\n",
    "\n",
    "```\n",
    "bin/main-dynamic: error while loading shared libraries:\n",
    "    libLL.so: cannot open shared object file: No such\n",
    "    file or directory\n",
    "```\n",
    "\n",
    "- We need to tell the operating system where to find the library."
   ]
  },
  {
   "cell_type": "markdown",
   "metadata": {
    "slideshow": {
     "slide_type": "slide"
    }
   },
   "source": [
    "# Creating a Shared Library\n",
    "\n",
    "We need to tell the operating system where to find the library:\n",
    "\n",
    "```\n",
    "# In bash:\n",
    "export \\\n",
    "LD_LIBRARY_PATH=`pwd`/bin/dynamic/:$LD_LIBRARY_PATH\n",
    "# In tcsh (the default shell on mira):\n",
    "setenv LD_LIBRARY_PATH `pwd`/bin/dynamic:$LD_LIBRARY_PATH\n",
    "```\n",
    "\n",
    "- (Note that ` above is a backtick)"
   ]
  },
  {
   "cell_type": "markdown",
   "metadata": {
    "slideshow": {
     "slide_type": "slide"
    }
   },
   "source": [
    "# Example\n",
    "\n",
    "## foo.h\n",
    "\n",
    "```c\n",
    "#ifndef foo_h__\n",
    "\n",
    "    #define foo_h__\n",
    "    extern void foo(void);\n",
    " \n",
    "#endif  // foo_h__\n",
    "```"
   ]
  },
  {
   "cell_type": "markdown",
   "metadata": {
    "slideshow": {
     "slide_type": "slide"
    }
   },
   "source": [
    "# Example\n",
    "\n",
    "## foo.c\n",
    "\n",
    "```c\n",
    "#include <stdio.h>\n",
    " \n",
    "void foo(void){\n",
    "    printf(\"This is a shared library\");\n",
    "}\n",
    "```"
   ]
  },
  {
   "cell_type": "markdown",
   "metadata": {
    "slideshow": {
     "slide_type": "slide"
    }
   },
   "source": [
    "# Example\n",
    "\n",
    "## main.c\n",
    "\n",
    "```c\n",
    "#include <stdio.h>\n",
    "#include \"foo.h\"\n",
    " \n",
    "int main(void){\n",
    "    printf(\"This is a shared library test...\");\n",
    "    foo();\n",
    "    return 0;\n",
    "}\n",
    "```"
   ]
  },
  {
   "cell_type": "markdown",
   "metadata": {
    "slideshow": {
     "slide_type": "slide"
    }
   },
   "source": [
    "# Let's create a shared library..."
   ]
  },
  {
   "cell_type": "markdown",
   "metadata": {
    "slideshow": {
     "slide_type": "slide"
    }
   },
   "source": [
    "# Summary\n",
    "\n",
    "- External libraries\n",
    "\n",
    "- Static libraries\n",
    "\n",
    "- Dynamic libraries\n",
    "\n",
    "- How libraries are created"
   ]
  }
 ],
 "metadata": {
  "celltoolbar": "Slideshow",
  "jupytext": {
   "formats": "ipynb"
  },
  "kernelspec": {
   "display_name": "C",
   "language": "c",
   "name": "c"
  },
  "language_info": {
   "file_extension": ".c",
   "mimetype": "text/plain",
   "name": "c"
  },
  "rise": {
   "autolaunch": true,
   "enable_chalkboard": true,
   "scroll": true,
   "theme": "white"
  }
 },
 "nbformat": 4,
 "nbformat_minor": 2
}
