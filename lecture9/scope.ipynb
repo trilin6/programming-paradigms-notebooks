{
 "cells": [
  {
   "cell_type": "markdown",
   "metadata": {
    "slideshow": {
     "slide_type": "slide"
    }
   },
   "source": [
    "# Systems Programming\n",
    "\n",
    "## Lecture 9: Scope\n",
    "\n",
    "### Amir Atapour-Abarghouei\n",
    "\n",
    "amir.atapour-abarghouei@durham.ac.uk\n"
   ]
  },
  {
   "cell_type": "markdown",
   "metadata": {
    "slideshow": {
     "slide_type": "slide"
    }
   },
   "source": [
    "# Recap\n",
    "\n",
    "Last lecture, we learned about **Memory Layout**\n",
    "\n",
    "### Stack:\n",
    "\n",
    "- Stores “temporary” data\n",
    "- Variables in a function\n",
    "- Function header\n",
    "- Small data\n",
    "\n",
    "<center><img src=\"images/memory-layout-hor.png\" alt=\"memory layout\" width=\"400\"></center>"
   ]
  },
  {
   "cell_type": "markdown",
   "metadata": {
    "slideshow": {
     "slide_type": "slide"
    }
   },
   "source": [
    "# Recap\n",
    "\n",
    "**Memory Layout**\n",
    "\n",
    "### Heap:\n",
    "\n",
    "- Used for storing more long-term data.\n",
    "- YOU, the programmer, control what is in the Heap and when it is released.\n",
    "- Much more space than the Stack.\n",
    "\n",
    "<center><img src=\"images/memory-layout-hor.png\" alt=\"memory layout\" width=\"400\"></center>"
   ]
  },
  {
   "cell_type": "markdown",
   "metadata": {
    "slideshow": {
     "slide_type": "slide"
    }
   },
   "source": [
    "# Recap:  `malloc()` <stdlib.h>\n",
    "\n",
    "Function prototype: `void *malloc(size_t size);`\n",
    "\n",
    "- Allocates a contiguous block of memory `size` bytes long.\n",
    "\n",
    "- The return type is `void*`, which is a generic pointer type that can be used with all types.\n",
    "\n",
    "- Returns a `NULL` pointer if it fails to allocate the requested memory.\n",
    "\n",
    "- Always test for `NULL` return in case `malloc()` has failed to allocate the requested memory!"
   ]
  },
  {
   "cell_type": "markdown",
   "metadata": {
    "slideshow": {
     "slide_type": "slide"
    }
   },
   "source": [
    "# Recap: `free()` <stdlib.h>\n",
    "\n",
    "Function prototype: `void free(void *ptr);`\n",
    "\n",
    "- Takes a generic pointer to a block of memory and returns the memory for reuse by `malloc()`.\n",
    "\n",
    "- If you “forget” about memory you have `malloc()`ed and don’t `free()` it then you have a **“memory leak”**.\n",
    "\n",
    "- “Memory leaks” can be very dangerous and difficult to trace [garbage collection in Java/Python].\n",
    "\n",
    "    - Can eventually use up all memory\n",
    "\n",
    "    - `free()` has no return value, so even if you pass it a pointer not allocated by `malloc()`, it will process it!"
   ]
  },
  {
   "cell_type": "markdown",
   "metadata": {
    "slideshow": {
     "slide_type": "slide"
    }
   },
   "source": [
    "# Recap: `calloc()` <stdlib.h>\n",
    "\n",
    "Function prototype for `void *calloc( size_t n, size_t size );`\n",
    "\n",
    "- Allocates a contiguous block of memory of `n` elements each of `size` bytes long, initialised to 0 in all bits.\n",
    "\n",
    "- Useful to ensure old data is not reused inappropriately.\n",
    "\n",
    "- The return type is `void*` - generic pointer type used for all types.\n",
    "\n",
    "- `calloc()` returns a `NULL` pointer if it fails to allocate memory."
   ]
  },
  {
   "cell_type": "markdown",
   "metadata": {
    "slideshow": {
     "slide_type": "slide"
    }
   },
   "source": [
    "# Recap: `realloc()` <stdlib.h>\n",
    "\n",
    "Function prototype for `void *realloc( void *ptr, size_t size );`\n",
    "\n",
    "- Allows a dynamic **change** in size of a previously allocated block of memory pointed to by `ptr`.\n",
    "\n",
    "    - `ptr` must point to memory previously allocated by `malloc()`, `calloc()` or `realloc()`.\n",
    "    \n",
    "- Moves and copies contents if it needs to, freeing original block, which means `ptr` might change.\n",
    "\n",
    "- Returns a `NULL` pointer if it fails."
   ]
  },
  {
   "cell_type": "markdown",
   "metadata": {
    "slideshow": {
     "slide_type": "slide"
    }
   },
   "source": [
    "# Scope\n",
    "\n",
    "An identifier in a C program is visible (that is it may be used) only in some possibly discontiguous portion of the source code called its **scope**.\n",
    "\n",
    "- Block Scope\n",
    "- Program Scope\n",
    "- Function Scope\n",
    "- File Scope\n",
    "- Prototype Scope"
   ]
  },
  {
   "cell_type": "markdown",
   "metadata": {
    "slideshow": {
     "slide_type": "slide"
    }
   },
   "source": [
    "\n",
    "# Scope - where the name can be seen\n",
    "\n",
    "```c\n",
    "int i;              // i has program scope\n",
    "                    // and is accessible anywhere\n",
    "int foo(int j) {    // foo() also has program scope\n",
    "    int i;          // this i has block scope\n",
    "                    // and is only accessible between {}\n",
    "    if (...) {\n",
    "        int i;      // this i also has block scope\n",
    "    }\n",
    "}\n",
    "```\n",
    "```c\n",
    "static bar() {...}  // bar() has file scope and is only\n",
    "                    // accessible by code in this file\n",
    "float pab(int k);   // k has prototype scope and is only\n",
    "                    // accessible as part of the prototype\n",
    "```"
   ]
  },
  {
   "cell_type": "code",
   "execution_count": null,
   "metadata": {
    "slideshow": {
     "slide_type": "slide"
    }
   },
   "outputs": [],
   "source": [
    "#include<stdio.h>\n",
    "int i=2;\n",
    "void foo(int j);\n",
    "\n",
    "int main(){\n",
    "    printf(\"i at the top of main = %d\\n\",i);\n",
    "        foo(3);\n",
    "    if (i==2) {\n",
    "        int i=4;\n",
    "        printf(\"i in the if block = %d\\n\",i);\n",
    "    }\n",
    "    printf(\"i after the code block = %d\\n\",i);\n",
    "\n",
    "    return 0;\n",
    "}\n",
    "\n",
    "void foo(int j){\n",
    "    int i=3;\n",
    "    printf(\"i in the function = %d\\n\", i);\n",
    "}"
   ]
  },
  {
   "cell_type": "markdown",
   "metadata": {
    "slideshow": {
     "slide_type": "slide"
    }
   },
   "source": [
    "# Lifetime – variable birth and death\n",
    "\n",
    "- Static – life of the program\n",
    "- Automatic – till the end of the current block\n",
    "- Dynamic – we control (`malloc()`/`free()`)\n",
    "    ```c\n",
    "    int* d;\n",
    "    int foo(int j) {\n",
    "        static int t;                  // static\n",
    "        int p;                         // automatic\n",
    "        d = malloc(400*sizeof(int));   // dynamic\n",
    "    }\n",
    "    int bar(int k) {\n",
    "        free(d);\n",
    "    }\n",
    "    ```"
   ]
  },
  {
   "cell_type": "markdown",
   "metadata": {
    "slideshow": {
     "slide_type": "slide"
    }
   },
   "source": [
    "# Storage Classes\n",
    "\n",
    "A storage class defines the scope (visibility) and life-time of variables and/or functions.\n",
    "\n",
    "- Each variable in C has one of the following four storage types (these are also keywords):\n",
    "\n",
    "    - extern\n",
    "    - static\n",
    "    - auto\n",
    "    - register"
   ]
  },
  {
   "cell_type": "markdown",
   "metadata": {
    "slideshow": {
     "slide_type": "slide"
    }
   },
   "source": [
    "# Extern\n",
    "\n",
    "- When a variable is defined, it is allocated storage.\n",
    "    - possibly initialised (`int i = 5;`)\n",
    "\n",
    "- When a variable is declared, compiler knows a variable of a given type exists.\n",
    "\n",
    "- Top-level variables default to extern storage class.\n",
    "    - including definition and declaration\n",
    "    - different from the `extern` keyword\n",
    "    \n",
    "- Use `extern` keyword to declare but not define a variable.\n",
    "    - i.e. it will be defined elsewhere but accessible here\n",
    "    \n",
    "- Lifetime and scope of whole program"
   ]
  },
  {
   "cell_type": "markdown",
   "metadata": {
    "slideshow": {
     "slide_type": "slide"
    }
   },
   "source": [
    "# `extern` Keyword\n",
    "\n",
    "<center><img src=\"images/codes.png\" alt=\"extern variable\" width=\"900\"></center>\n",
    "\n",
    "- To run:\n",
    "    ```\n",
    "    gcc -c func.c\n",
    "    gcc main.c func.o\n",
    "    ./a.out\n",
    "    ```"
   ]
  },
  {
   "cell_type": "markdown",
   "metadata": {
    "slideshow": {
     "slide_type": "slide"
    }
   },
   "source": [
    "# `static`\n",
    "\n",
    "- `static` and `extern` are mutually exclusive as keywords.\n",
    "\n",
    "- Static variables have the same lifetime as the program.\n",
    "\n",
    "- Static *global* variables (i.e. those outside function declarations) have **file scope**.\n",
    "\n",
    "- Static *local* variables (i.e. those inside function declarations) have **function scope**.\n",
    "\n",
    "- A static variable inside a function keeps its value between invocations.\n",
    "\n",
    "- Calling a variable `static` can sometimes be confusing because it means different things in different languages!"
   ]
  },
  {
   "cell_type": "markdown",
   "metadata": {
    "slideshow": {
     "slide_type": "slide"
    }
   },
   "source": [
    "# `auto`\n",
    "\n",
    "- `auto` variables have the same lifetime as the function where they are defined.\n",
    "\n",
    "    - They have **function scope**.\n",
    "    \n",
    "- Local variables are automatic by default, so the auto keyword is never explicitly used in practice.\n",
    "\n",
    "- `auto` was part of C from the early days to make it easier to convert code from B, where it was necessary when defining local variables.\n",
    "\n",
    "- *N.B.* `auto` has a very different meaning in C++!\n",
    "\n",
    "    - where `auto` means the compiler has to infere the variable’s type from the call-chain, using the type of the value used as initialiser."
   ]
  },
  {
   "cell_type": "markdown",
   "metadata": {
    "slideshow": {
     "slide_type": "slide"
    }
   },
   "source": [
    "# `register`\n",
    "\n",
    "- Suggests that a variable should (if possible) be stored in a **register** rather than in main memory.\n",
    "\n",
    "- Cannot use the `address of` (`&`) operator on register variables.\n",
    "\n",
    "- Storing in a register is much faster to access.\n",
    "\n",
    "- Not all `register` variables are necessarily stored in registers (may be too many).\n",
    "\n",
    "- Not all variables stored in registers are declared as such (code optimisation)\n",
    "\n",
    "- Modern compilers are very good at working out which variables are best made into register variables and will do this in the background automatically, so using `register` is quite rare!"
   ]
  },
  {
   "cell_type": "markdown",
   "metadata": {
    "slideshow": {
     "slide_type": "slide"
    }
   },
   "source": [
    "# Local Variables\n",
    "\n",
    "- Automatic storage duration:\n",
    "\n",
    "    - Storage is automatically allocated when the function is called and de-allocated when it terminates.\n",
    "    \n",
    "- Block scope:\n",
    "\n",
    "    - A local variable is visible from its point of declaration to the end of the enclosing function body.\n",
    "    - These are stored in the function context on the call stack.\n",
    "    \n",
    "- In performance terms they do add a small overhead to each function call."
   ]
  },
  {
   "cell_type": "markdown",
   "metadata": {
    "slideshow": {
     "slide_type": "slide"
    }
   },
   "source": [
    "# Example Stack\n",
    "\n",
    "The stack is an area of memory used for temporary storage, often used for:\n",
    "\n",
    "- Return addresses\n",
    "- Local variables\n",
    "- Parameters\n",
    "- Return values\n",
    "\n",
    "<center><img src=\"images/stack-code.png\" alt=\"stack\" width=\"750\"></center>"
   ]
  },
  {
   "cell_type": "markdown",
   "metadata": {
    "slideshow": {
     "slide_type": "slide"
    }
   },
   "source": [
    "# Call Stack\n",
    "The call stack is divided up into contiguous pieces called stack frames\n",
    "- each frame is the data associated with one call to one function and contains the function's *arguments*, *local variables* and the *execution address*.\n",
    "\n",
    "<center><img src=\"images/call-stack.png\" alt=\"call stack\" width=\"800\"></center>"
   ]
  },
  {
   "cell_type": "markdown",
   "metadata": {
    "slideshow": {
     "slide_type": "slide"
    }
   },
   "source": [
    "# Code Block Scope\n",
    "\n",
    "Block scope refers to any code block not just functions...\n",
    "\n",
    "```c\n",
    "if (a > b) {\n",
    "    int tmp = a;\n",
    "    // tmp is local to this code block\n",
    "\n",
    "    a = b;\n",
    "    b = tmp;\n",
    "}\n",
    "```\n",
    "\n",
    "- `tmp` is automatic and local"
   ]
  },
  {
   "cell_type": "markdown",
   "metadata": {
    "slideshow": {
     "slide_type": "slide"
    }
   },
   "source": [
    "# Static and Global Variables\n",
    "\n",
    "```c\n",
    "// scope inside a single source file\n",
    "int a = 10;                // global & static\n",
    "static int c = 1;          // file & static\n",
    "\n",
    "foo() {\n",
    "    int tmp = 3;          // local automatic\n",
    "    static int count = 0; // local static\n",
    "    a = a + tmp;\n",
    "    count++;\n",
    "}\n",
    "```\n",
    "`static` variables exist for the duration of the program.\n",
    "\n",
    "- Variables declared outside functions: visible in program and static by default."
   ]
  },
  {
   "cell_type": "markdown",
   "metadata": {
    "slideshow": {
     "slide_type": "slide"
    }
   },
   "source": [
    "# Static and Global Variables\n",
    "\n",
    "```c\n",
    "// scope inside a single source file\n",
    "int a = 10;                // global & static\n",
    "static int c = 1;          // file & static\n",
    "\n",
    "foo() {\n",
    "    int tmp = 3;          // local automatic\n",
    "    static int count = 0; // local static\n",
    "    a = a + tmp;\n",
    "    count++;\n",
    "}\n",
    "```\n",
    "\n",
    "- Same count variable each time you call `foo()`.\n",
    "\n",
    "- A `static` variable inside a function keeps its value between invocations."
   ]
  },
  {
   "cell_type": "code",
   "execution_count": null,
   "metadata": {
    "slideshow": {
     "slide_type": "slide"
    }
   },
   "outputs": [],
   "source": [
    "#include<stdio.h>\n",
    "\n",
    "// scope inside a single source file\n",
    "int a = 10;\t         // global & static\n",
    "static int c = 1;    // file & static\n",
    "\n",
    "void foo();\n",
    "\n",
    "int main(){\n",
    "    printf(\"in main: a = %d c = %d\\n\", a, c);\n",
    "    foo();\n",
    "    printf(\"in main: a = %d c = %d\\n\", a, c);\n",
    "    foo();\n",
    "    printf(\"in main: a = %d c = %d\\n\", a, c);\n",
    "    foo();\n",
    "    return 0;\n",
    "}\n",
    "\n",
    "void foo(){\n",
    "    int tmp = 3;           // local automatic\n",
    "    static int count = 0 ; // local static\n",
    "    a = a + tmp;\n",
    "    count++;\n",
    "    printf(\"in foo : tmp = %d count = %d\\n\", tmp, count);\n",
    "}"
   ]
  },
  {
   "cell_type": "markdown",
   "metadata": {
    "slideshow": {
     "slide_type": "slide"
    }
   },
   "source": [
    "# Function Parameters\n",
    "\n",
    "Parameters have the same properties as local variables:\n",
    "\n",
    "- i.e. automatic storage duration and block scope.\n",
    "- Each parameter is initialised automatically when a function is called (by being assigned the actual value of the corresponding argument)"
   ]
  },
  {
   "cell_type": "markdown",
   "metadata": {
    "slideshow": {
     "slide_type": "slide"
    }
   },
   "source": [
    "# Summary of scope in a single file\n",
    "\n",
    "file1.c:\n",
    "\n",
    "```c\n",
    "int gv;                // gv - global scope (static)\n",
    "\n",
    "static int fv;         // fv - file scope (static)\n",
    "\n",
    "void f( int pv ){      // pv - block scope of f() (automatic)\n",
    "```\n",
    "```c\n",
    "                       \n",
    "    int lv = 0;        // lv - block scope (automatic)\n",
    "    \n",
    "    static int sv = 0; // sv - block scope (static)\n",
    "}\n",
    "```"
   ]
  },
  {
   "cell_type": "markdown",
   "metadata": {
    "slideshow": {
     "slide_type": "slide"
    }
   },
   "source": [
    "# Pros and Cons of Global Variables\n",
    "\n",
    "- Global variables are convenient when many functions must share a variable or when a few functions share a large number of variables.\n",
    "\n",
    "- In most cases, it is better for functions to communicate through parameters rather than shared variables:\n",
    "    - If we change a global variable during program maintenance (by altering its type, say), we’ll need to check every function in the same file to see how the change affects it.\n",
    "    - If a global variable is assigned an incorrect value, it may be difficult to identify the guilty function.\n",
    "    - Functions that rely on global variables are hard to reuse elsewhere."
   ]
  },
  {
   "cell_type": "markdown",
   "metadata": {
    "slideshow": {
     "slide_type": "slide"
    }
   },
   "source": [
    "# Summary\n",
    "\n",
    "- Scope\n",
    "- Lifetime\n",
    "- Storage classes\n",
    "    - `extern`\n",
    "    - `auto`\n",
    "    - `static`\n",
    "    - `register`\n",
    "- Local and Global variables\n",
    "- Call stack"
   ]
  }
 ],
 "metadata": {
  "celltoolbar": "Slideshow",
  "jupytext": {
   "formats": "ipynb"
  },
  "kernelspec": {
   "display_name": "C",
   "language": "c",
   "name": "c"
  },
  "language_info": {
   "file_extension": ".c",
   "mimetype": "text/plain",
   "name": "c"
  },
  "rise": {
   "autolaunch": true,
   "enable_chalkboard": true,
   "scroll": true,
   "theme": "white"
  }
 },
 "nbformat": 4,
 "nbformat_minor": 2
}
